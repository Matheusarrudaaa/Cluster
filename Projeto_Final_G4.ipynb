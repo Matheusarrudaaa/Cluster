{
 "cells": [
  {
   "cell_type": "markdown",
   "id": "f07a52a5",
   "metadata": {},
   "source": [
    "## Instalação e importação de bibliotecas"
   ]
  },
  {
   "cell_type": "code",
   "execution_count": 2,
   "id": "0b656bc1",
   "metadata": {
    "collapsed": true
   },
   "outputs": [
    {
     "name": "stdout",
     "output_type": "stream",
     "text": [
      "Collecting geopy\n",
      "  Downloading geopy-2.3.0-py3-none-any.whl (119 kB)\n",
      "     -------------------------------------- 119.8/119.8 kB 2.4 MB/s eta 0:00:00\n",
      "Collecting geographiclib<3,>=1.52\n",
      "  Downloading geographiclib-2.0-py3-none-any.whl (40 kB)\n",
      "     ---------------------------------------- 40.3/40.3 kB 2.0 MB/s eta 0:00:00\n",
      "Installing collected packages: geographiclib, geopy\n",
      "Successfully installed geographiclib-2.0 geopy-2.3.0\n",
      "Collecting folium\n",
      "  Downloading folium-0.14.0-py2.py3-none-any.whl (102 kB)\n",
      "     -------------------------------------- 102.3/102.3 kB 1.2 MB/s eta 0:00:00\n",
      "Collecting branca>=0.6.0\n",
      "  Downloading branca-0.6.0-py3-none-any.whl (24 kB)\n",
      "Requirement already satisfied: requests in c:\\users\\filippo\\anaconda3\\lib\\site-packages (from folium) (2.28.1)\n",
      "Requirement already satisfied: jinja2>=2.9 in c:\\users\\filippo\\anaconda3\\lib\\site-packages (from folium) (3.1.2)\n",
      "Requirement already satisfied: numpy in c:\\users\\filippo\\anaconda3\\lib\\site-packages (from folium) (1.23.5)\n",
      "Requirement already satisfied: MarkupSafe>=2.0 in c:\\users\\filippo\\anaconda3\\lib\\site-packages (from jinja2>=2.9->folium) (2.1.1)\n",
      "Requirement already satisfied: charset-normalizer<3,>=2 in c:\\users\\filippo\\anaconda3\\lib\\site-packages (from requests->folium) (2.0.4)\n",
      "Requirement already satisfied: urllib3<1.27,>=1.21.1 in c:\\users\\filippo\\anaconda3\\lib\\site-packages (from requests->folium) (1.26.14)\n",
      "Requirement already satisfied: certifi>=2017.4.17 in c:\\users\\filippo\\anaconda3\\lib\\site-packages (from requests->folium) (2022.12.7)\n",
      "Requirement already satisfied: idna<4,>=2.5 in c:\\users\\filippo\\anaconda3\\lib\\site-packages (from requests->folium) (3.4)\n",
      "Installing collected packages: branca, folium\n",
      "Successfully installed branca-0.6.0 folium-0.14.0\n",
      "Requirement already satisfied: pypl in c:\\users\\filippo\\anaconda3\\lib\\site-packages (40.10)\n",
      "Requirement already satisfied: svgwrite in c:\\users\\filippo\\anaconda3\\lib\\site-packages (from pypl) (1.4.3)\n",
      "Requirement already satisfied: k-means-constrained in c:\\users\\filippo\\anaconda3\\lib\\site-packages (0.7.2)\n",
      "Requirement already satisfied: ortools>=9.4.1874 in c:\\users\\filippo\\anaconda3\\lib\\site-packages (from k-means-constrained) (9.6.2534)\n",
      "Requirement already satisfied: six in c:\\users\\filippo\\anaconda3\\lib\\site-packages (from k-means-constrained) (1.16.0)\n",
      "Requirement already satisfied: joblib in c:\\users\\filippo\\anaconda3\\lib\\site-packages (from k-means-constrained) (1.1.1)\n",
      "Requirement already satisfied: numpy>=1.23.0 in c:\\users\\filippo\\anaconda3\\lib\\site-packages (from k-means-constrained) (1.23.5)\n",
      "Requirement already satisfied: scipy>=1.6.3 in c:\\users\\filippo\\anaconda3\\lib\\site-packages (from k-means-constrained) (1.10.0)\n",
      "Requirement already satisfied: protobuf>=4.21.12 in c:\\users\\filippo\\anaconda3\\lib\\site-packages (from ortools>=9.4.1874->k-means-constrained) (4.22.1)\n",
      "Requirement already satisfied: absl-py>=0.13 in c:\\users\\filippo\\anaconda3\\lib\\site-packages (from ortools>=9.4.1874->k-means-constrained) (1.4.0)\n"
     ]
    }
   ],
   "source": [
    "!pip install geopy\n",
    "!pip install folium\n",
    "!pip install pypl\n",
    "!pip install k-means-constrained"
   ]
  },
  {
   "cell_type": "code",
   "execution_count": 1,
   "id": "c9fd9b30",
   "metadata": {},
   "outputs": [],
   "source": [
    "import pandas as pd\n",
    "import matplotlib.pyplot as plt\n",
    "import seaborn as sns\n",
    "import matplotlib.pyplot as plt\n",
    "import numpy as np\n",
    "from k_means_constrained import KMeansConstrained\n",
    "from math import radians\n",
    "from scipy.stats import gmean\n",
    "from geopy.geocoders import Nominatim\n",
    "import folium"
   ]
  },
  {
   "cell_type": "markdown",
   "id": "48d8d6a7",
   "metadata": {},
   "source": [
    "##  Leitura dos arquivos"
   ]
  },
  {
   "cell_type": "code",
   "execution_count": 2,
   "id": "068efcf9",
   "metadata": {},
   "outputs": [],
   "source": [
    "estab = pd.read_csv('tbl_estabelecimentos.csv', low_memory=False) #Potenciais clientes\n",
    "coord = pd.read_excel('tbl_coordenadas.xlsx')                     #Coordenadas pAra associação\n",
    "metr = pd.read_csv('tbl_metricas_ltv.csv')                        #CLientes atuais"
   ]
  },
  {
   "cell_type": "markdown",
   "id": "aa02f1a7",
   "metadata": {},
   "source": [
    "## Tratamento dos dados"
   ]
  },
  {
   "cell_type": "code",
   "execution_count": 3,
   "id": "50220865",
   "metadata": {},
   "outputs": [
    {
     "data": {
      "text/html": [
       "<div>\n",
       "<style scoped>\n",
       "    .dataframe tbody tr th:only-of-type {\n",
       "        vertical-align: middle;\n",
       "    }\n",
       "\n",
       "    .dataframe tbody tr th {\n",
       "        vertical-align: top;\n",
       "    }\n",
       "\n",
       "    .dataframe thead th {\n",
       "        text-align: right;\n",
       "    }\n",
       "</style>\n",
       "<table border=\"1\" class=\"dataframe\">\n",
       "  <thead>\n",
       "    <tr style=\"text-align: right;\">\n",
       "      <th></th>\n",
       "      <th>cd_cnpj_anonimizado</th>\n",
       "      <th>cd_matriz_filial</th>\n",
       "      <th>st_cep</th>\n",
       "      <th>st_ramo</th>\n",
       "      <th>vl_potencial_faturamento_anual</th>\n",
       "    </tr>\n",
       "  </thead>\n",
       "  <tbody>\n",
       "    <tr>\n",
       "      <th>0</th>\n",
       "      <td>7330555</td>\n",
       "      <td>1</td>\n",
       "      <td>20943000</td>\n",
       "      <td>Eletrodomesticos</td>\n",
       "      <td>77170</td>\n",
       "    </tr>\n",
       "    <tr>\n",
       "      <th>1</th>\n",
       "      <td>12772816</td>\n",
       "      <td>1</td>\n",
       "      <td>65700000</td>\n",
       "      <td>Mercados</td>\n",
       "      <td>259198</td>\n",
       "    </tr>\n",
       "    <tr>\n",
       "      <th>2</th>\n",
       "      <td>1385533</td>\n",
       "      <td>1</td>\n",
       "      <td>01135010</td>\n",
       "      <td>Estetica</td>\n",
       "      <td>8497</td>\n",
       "    </tr>\n",
       "    <tr>\n",
       "      <th>3</th>\n",
       "      <td>4674685</td>\n",
       "      <td>1</td>\n",
       "      <td>85856410</td>\n",
       "      <td>Vestimentas</td>\n",
       "      <td>77170</td>\n",
       "    </tr>\n",
       "    <tr>\n",
       "      <th>4</th>\n",
       "      <td>3296463</td>\n",
       "      <td>1</td>\n",
       "      <td>58750000</td>\n",
       "      <td>Construcao</td>\n",
       "      <td>17812</td>\n",
       "    </tr>\n",
       "    <tr>\n",
       "      <th>...</th>\n",
       "      <td>...</td>\n",
       "      <td>...</td>\n",
       "      <td>...</td>\n",
       "      <td>...</td>\n",
       "      <td>...</td>\n",
       "    </tr>\n",
       "    <tr>\n",
       "      <th>8374574</th>\n",
       "      <td>1219760</td>\n",
       "      <td>1</td>\n",
       "      <td>86081390</td>\n",
       "      <td>Mercados</td>\n",
       "      <td>133446</td>\n",
       "    </tr>\n",
       "    <tr>\n",
       "      <th>8374575</th>\n",
       "      <td>12907584</td>\n",
       "      <td>1</td>\n",
       "      <td>78120418</td>\n",
       "      <td>Escolas</td>\n",
       "      <td>8</td>\n",
       "    </tr>\n",
       "    <tr>\n",
       "      <th>8374576</th>\n",
       "      <td>7014686</td>\n",
       "      <td>1</td>\n",
       "      <td>17063060</td>\n",
       "      <td>Mercados</td>\n",
       "      <td>17812</td>\n",
       "    </tr>\n",
       "    <tr>\n",
       "      <th>8374577</th>\n",
       "      <td>6621703</td>\n",
       "      <td>1</td>\n",
       "      <td>80610260</td>\n",
       "      <td>Automoveis</td>\n",
       "      <td>77170</td>\n",
       "    </tr>\n",
       "    <tr>\n",
       "      <th>8374578</th>\n",
       "      <td>12624701</td>\n",
       "      <td>1</td>\n",
       "      <td>03005000</td>\n",
       "      <td>Entreterimento</td>\n",
       "      <td>133446</td>\n",
       "    </tr>\n",
       "  </tbody>\n",
       "</table>\n",
       "<p>8374579 rows × 5 columns</p>\n",
       "</div>"
      ],
      "text/plain": [
       "         cd_cnpj_anonimizado  cd_matriz_filial    st_cep           st_ramo  \\\n",
       "0                    7330555                 1  20943000  Eletrodomesticos   \n",
       "1                   12772816                 1  65700000          Mercados   \n",
       "2                    1385533                 1  01135010          Estetica   \n",
       "3                    4674685                 1  85856410       Vestimentas   \n",
       "4                    3296463                 1  58750000        Construcao   \n",
       "...                      ...               ...       ...               ...   \n",
       "8374574              1219760                 1  86081390          Mercados   \n",
       "8374575             12907584                 1  78120418           Escolas   \n",
       "8374576              7014686                 1  17063060          Mercados   \n",
       "8374577              6621703                 1  80610260        Automoveis   \n",
       "8374578             12624701                 1  03005000    Entreterimento   \n",
       "\n",
       "         vl_potencial_faturamento_anual  \n",
       "0                                 77170  \n",
       "1                                259198  \n",
       "2                                  8497  \n",
       "3                                 77170  \n",
       "4                                 17812  \n",
       "...                                 ...  \n",
       "8374574                          133446  \n",
       "8374575                               8  \n",
       "8374576                           17812  \n",
       "8374577                           77170  \n",
       "8374578                          133446  \n",
       "\n",
       "[8374579 rows x 5 columns]"
      ]
     },
     "execution_count": 3,
     "metadata": {},
     "output_type": "execute_result"
    }
   ],
   "source": [
    "#Se houver dados duplicados de cnpj, vamos manter o último\n",
    "estab.drop_duplicates(['cd_cnpj_anonimizado'], keep='last')"
   ]
  },
  {
   "cell_type": "code",
   "execution_count": 4,
   "id": "2b3a9aec",
   "metadata": {},
   "outputs": [],
   "source": [
    "#Removendo linhas com faturamento igual a zero, pois não há dados suficientes para analisá-las\n",
    "estab = estab.dropna(subset=['vl_potencial_faturamento_anual'])\n",
    "estab = estab.drop(estab[estab.vl_potencial_faturamento_anual == 0].index)\n",
    "estab = estab.dropna(subset=['st_cep'])  #Removendo linhas com cep vazio, pois não há como mapeá-las\n",
    "\n",
    "#Inserindo \"Outros\" nos ramos vazios\n",
    "estab['st_ramo'].fillna(\"Outros\", inplace=True)"
   ]
  },
  {
   "cell_type": "code",
   "execution_count": 5,
   "id": "ebdcfca7",
   "metadata": {},
   "outputs": [],
   "source": [
    "#Limpando a base de Métricas\n",
    "metr = metr.dropna(axis=0, subset=['vl_tempo_vida_meses'])"
   ]
  },
  {
   "cell_type": "code",
   "execution_count": 6,
   "id": "47138b3a",
   "metadata": {},
   "outputs": [],
   "source": [
    "\"\"\"\n",
    "Objetivo é cruzar tabelas e encontrar latitude, longitude e UF de cada registro \n",
    "da tabela estabelecimentos\n",
    "\"\"\"\n",
    "\n",
    "estab['st_cep'] = estab['st_cep'].astype(str)\n",
    "estab.st_cep = estab.st_cep.str[0:5]\n",
    "\n",
    "estab['st_cep'] = estab['st_cep'].astype(int)\n",
    "\n",
    "#Intersecção entre tabelas coord e estab\n",
    "df = pd.merge(coord, estab, how='inner', left_on='cd_cep5', right_on='st_cep')\n",
    "estab = df.drop(columns=['cd_cep5', 'st_bairro', 'st_municipio'])  #Excluindo colunas desnecessárias"
   ]
  },
  {
   "cell_type": "code",
   "execution_count": 7,
   "id": "53f91342",
   "metadata": {},
   "outputs": [],
   "source": [
    "#Funções para tratamento da base já limpa\n",
    "#Enquadrando faturamentos dentro das faixas da base métricas\n",
    "\n",
    "def faixa_fat(x):\n",
    "    \"\"\"\n",
    "    Objetivo é enquadrar os valores de faturamento da base de estabelecimentos para as faixas presentes na base de métricas\n",
    "    \"\"\"\n",
    "    if x<0:\n",
    "        return 'fora do intervalo'\n",
    "    if x<40*10**3: \n",
    "        return '<40k'\n",
    "    elif x<75*10**3:\n",
    "        return '40k a 75k'\n",
    "    elif x<125*10**3:    \n",
    "        return '75k a 125k'\n",
    "    elif x<200*10**3:    \n",
    "        return '125k a 200k'\n",
    "    elif x<400*10**3:    \n",
    "        return '200k a 400k'\n",
    "    elif x<1*10**6:    \n",
    "        return '400k a 1M'\n",
    "    elif x<10*10**6:    \n",
    "        return '1M a 10M'\n",
    "    elif x<40*10**6:    \n",
    "        return '10M a 40M'\n",
    "    else:\n",
    "        return '>40M'\n",
    "    \n",
    "#Função que calcula LTV\n",
    "def LTV(fat,tr,tvm):\n",
    "    \"\"\"\n",
    "    Objetivo é calcular o LTV com base no faturamento, take rate e tempo médio de vida dos clientes.\n",
    "    \"\"\"\n",
    "    return (fat*tr)*(tvm/12)"
   ]
  },
  {
   "cell_type": "code",
   "execution_count": 8,
   "id": "6c1d7ad0",
   "metadata": {},
   "outputs": [],
   "source": [
    "#Coloca a faixa de faturamento no dataframe\n",
    "estab['faixa_fat'] = estab.apply(lambda row: faixa_fat(row['vl_potencial_faturamento_anual']), axis=1)"
   ]
  },
  {
   "cell_type": "code",
   "execution_count": 9,
   "id": "7f86c0d2",
   "metadata": {},
   "outputs": [],
   "source": [
    "#Cria chave pra encontrar a junção das features no dataframe de estabelecimentos\n",
    "estab['chave'] = estab['st_uf'].map(str) + '_' + estab['faixa_fat'].map(str)+'_'+estab['st_ramo'].map(str)\n",
    "\n",
    "#Cria chave pra encontrar a junção das features no dataframe de métricas\n",
    "metr['chave'] = metr['st_uf'].map(str) + '_' + metr['st_faixa_faturamento_anual'].map(str)+'_'+metr['st_ramo'].map(str)\n",
    "metr = metr.rename(columns={'st_uf':'st_uf_metr'})"
   ]
  },
  {
   "cell_type": "code",
   "execution_count": 10,
   "id": "f001c0fd",
   "metadata": {},
   "outputs": [],
   "source": [
    "#Passa take rate e tempo de vida médio, fazendo merge\n",
    "df = pd.merge(estab, metr, how='inner', on='chave')\n",
    "df = df.drop(columns=['st_uf_metr', 'chave', 'st_faixa_faturamento_anual',\n",
    "                      'st_ramo_y', 'faixa_fat', 'st_cep', 'cd_matriz_filial'])"
   ]
  },
  {
   "cell_type": "code",
   "execution_count": 11,
   "id": "ed25018b",
   "metadata": {},
   "outputs": [],
   "source": [
    "#Aplicação da função LTV\n",
    "df['LTV'] = df.apply(lambda row: LTV(row['vl_potencial_faturamento_anual'], row['vl_take_rate'], row['vl_tempo_vida_meses']),\n",
    "                     axis=1)"
   ]
  },
  {
   "cell_type": "markdown",
   "id": "a61c9dee",
   "metadata": {},
   "source": [
    "Existe uma amplitude grande entre os valores min e max de faturamento e LTV, mas nenhum deles se mostrou irreal. Dessa forma, não há necessidade de tratar outliers da base. Pelo fato de muitos estabelecimento terem LTV baixo, a média de LTV total realmente é muito menor que alguns LTVs específicos, porém, isso não os torna irreais ou inutilizáveis."
   ]
  },
  {
   "cell_type": "code",
   "execution_count": 12,
   "id": "05b87597",
   "metadata": {},
   "outputs": [],
   "source": [
    "#Comprimindo a tabela para análise somente de atributos relevantes\n",
    "mapeamento = df[['vl_latitude', 'vl_longitude', 'LTV', 'st_uf', 'cd_cnpj_anonimizado']]"
   ]
  },
  {
   "cell_type": "markdown",
   "id": "99c38550",
   "metadata": {},
   "source": [
    "## Análise inicial dos dados da base limpa"
   ]
  },
  {
   "cell_type": "code",
   "execution_count": 13,
   "id": "bc1ac863",
   "metadata": {},
   "outputs": [
    {
     "data": {
      "text/plain": [
       "17171797734.028378"
      ]
     },
     "execution_count": 13,
     "metadata": {},
     "output_type": "execute_result"
    }
   ],
   "source": [
    "#Cálculo da quantidade de LTV disponível no Brasil todo\n",
    "mapeamento.LTV.sum()"
   ]
  },
  {
   "cell_type": "code",
   "execution_count": 14,
   "id": "e687ca16",
   "metadata": {},
   "outputs": [
    {
     "name": "stdout",
     "output_type": "stream",
     "text": [
      "st_uf\n",
      "RR    4.090016e+07\n",
      "AP    5.157074e+07\n",
      "AC    5.549901e+07\n",
      "SE    1.480425e+08\n",
      "TO    1.579780e+08\n",
      "RO    1.588050e+08\n",
      "AL    2.251160e+08\n",
      "PI    2.492831e+08\n",
      "PB    2.551701e+08\n",
      "AM    2.743977e+08\n",
      "RN    2.951897e+08\n",
      "MS    2.980369e+08\n",
      "MA    3.390829e+08\n",
      "DF    3.999145e+08\n",
      "MT    4.130316e+08\n",
      "ES    4.433514e+08\n",
      "PA    4.655550e+08\n",
      "CE    6.059564e+08\n",
      "PE    6.148045e+08\n",
      "GO    6.608369e+08\n",
      "RS    8.624839e+08\n",
      "SC    8.701796e+08\n",
      "BA    1.099742e+09\n",
      "RJ    1.317949e+09\n",
      "MG    1.370504e+09\n",
      "PR    1.398895e+09\n",
      "SP    4.099522e+09\n",
      "Name: LTV, dtype: float64\n"
     ]
    }
   ],
   "source": [
    "#Análise da soma de LTV disponível por estado\n",
    "print(mapeamento.groupby(['st_uf']).LTV.sum().sort_values())"
   ]
  },
  {
   "cell_type": "code",
   "execution_count": 15,
   "id": "049e0d0f",
   "metadata": {},
   "outputs": [
    {
     "name": "stdout",
     "output_type": "stream",
     "text": [
      "st_uf\n",
      "RR      13092\n",
      "AP      13829\n",
      "AC      14883\n",
      "SE      45438\n",
      "TO      45894\n",
      "RO      48738\n",
      "PI      63744\n",
      "AL      71767\n",
      "AM      75480\n",
      "PB      85486\n",
      "RN      90026\n",
      "MS     104666\n",
      "MA     105507\n",
      "DF     116507\n",
      "MT     123130\n",
      "PA     157077\n",
      "ES     158455\n",
      "PE     199489\n",
      "GO     199849\n",
      "CE     208469\n",
      "SC     319780\n",
      "BA     328606\n",
      "RS     416122\n",
      "PR     465507\n",
      "RJ     630862\n",
      "MG     701278\n",
      "SP    1909757\n",
      "Name: LTV, dtype: int64\n"
     ]
    }
   ],
   "source": [
    "#Análise da quantidade de estabelecimentos (registros) por estado\n",
    "print(mapeamento.groupby(['st_uf']).LTV.count().sort_values())"
   ]
  },
  {
   "cell_type": "markdown",
   "id": "aa68da0c",
   "metadata": {},
   "source": [
    "Focaremos nossas análises estado a estado. Dessa forma, como só temos 20 hubs disponíveis para alocação e existem 26 estados mais o DF para possíveis alocações, inicialmente não aprofundaremos nossas análises nos 6 estados que, ao mesmo tempo, possuem as menores somas de LTV e de estabelecimentos. Contudo, caso seja matematicamente possível alocar um hub de maior LTV após analisarmos as possibilidades, poderemos aprofundar nossas análises nesses estados. "
   ]
  },
  {
   "cell_type": "code",
   "execution_count": 16,
   "id": "ebb4d639",
   "metadata": {},
   "outputs": [],
   "source": [
    "#Criando um dataframe para análise dos estados maiores e um dicionário com as somas de LTV e estabs\n",
    "tab = pd.DataFrame()\n",
    "ltv_uf = mapeamento.groupby(['st_uf']).LTV.sum().sort_values().to_dict()\n",
    "estab_uf = mapeamento.groupby(['st_uf']).LTV.count().sort_values().to_dict()"
   ]
  },
  {
   "cell_type": "code",
   "execution_count": 17,
   "id": "40b8438c",
   "metadata": {},
   "outputs": [],
   "source": [
    "tab['uf'] = mapeamento['st_uf'].unique()\n",
    "tab['estab_uf'] = tab.apply(lambda row: estab_uf[row['uf']],axis=1)\n",
    "tab['ltv_sum'] = tab.apply(lambda row: ltv_uf[row['uf']],axis=1)"
   ]
  },
  {
   "cell_type": "code",
   "execution_count": 18,
   "id": "77ae9cd5",
   "metadata": {},
   "outputs": [],
   "source": [
    "estados_bottom6 = ['RR','AP','AC','SE','TO','RO']\n",
    "tab_top = tab[~tab['uf'].isin(estados_bottom6)]"
   ]
  },
  {
   "cell_type": "code",
   "execution_count": 19,
   "id": "f984c571",
   "metadata": {},
   "outputs": [
    {
     "name": "stderr",
     "output_type": "stream",
     "text": [
      "C:\\Users\\te-te\\anaconda3\\lib\\site-packages\\seaborn\\axisgrid.py:703: FutureWarning: iteritems is deprecated and will be removed in a future version. Use .items instead.\n",
      "  plot_args = [v for k, v in plot_data.iteritems()]\n",
      "C:\\Users\\te-te\\anaconda3\\lib\\site-packages\\seaborn\\axisgrid.py:703: FutureWarning: iteritems is deprecated and will be removed in a future version. Use .items instead.\n",
      "  plot_args = [v for k, v in plot_data.iteritems()]\n",
      "C:\\Users\\te-te\\anaconda3\\lib\\site-packages\\seaborn\\axisgrid.py:703: FutureWarning: iteritems is deprecated and will be removed in a future version. Use .items instead.\n",
      "  plot_args = [v for k, v in plot_data.iteritems()]\n",
      "C:\\Users\\te-te\\anaconda3\\lib\\site-packages\\seaborn\\axisgrid.py:703: FutureWarning: iteritems is deprecated and will be removed in a future version. Use .items instead.\n",
      "  plot_args = [v for k, v in plot_data.iteritems()]\n",
      "C:\\Users\\te-te\\anaconda3\\lib\\site-packages\\seaborn\\axisgrid.py:703: FutureWarning: iteritems is deprecated and will be removed in a future version. Use .items instead.\n",
      "  plot_args = [v for k, v in plot_data.iteritems()]\n",
      "C:\\Users\\te-te\\anaconda3\\lib\\site-packages\\seaborn\\axisgrid.py:703: FutureWarning: iteritems is deprecated and will be removed in a future version. Use .items instead.\n",
      "  plot_args = [v for k, v in plot_data.iteritems()]\n",
      "C:\\Users\\te-te\\anaconda3\\lib\\site-packages\\seaborn\\axisgrid.py:703: FutureWarning: iteritems is deprecated and will be removed in a future version. Use .items instead.\n",
      "  plot_args = [v for k, v in plot_data.iteritems()]\n",
      "C:\\Users\\te-te\\anaconda3\\lib\\site-packages\\seaborn\\axisgrid.py:703: FutureWarning: iteritems is deprecated and will be removed in a future version. Use .items instead.\n",
      "  plot_args = [v for k, v in plot_data.iteritems()]\n",
      "C:\\Users\\te-te\\anaconda3\\lib\\site-packages\\seaborn\\axisgrid.py:703: FutureWarning: iteritems is deprecated and will be removed in a future version. Use .items instead.\n",
      "  plot_args = [v for k, v in plot_data.iteritems()]\n",
      "C:\\Users\\te-te\\anaconda3\\lib\\site-packages\\seaborn\\axisgrid.py:703: FutureWarning: iteritems is deprecated and will be removed in a future version. Use .items instead.\n",
      "  plot_args = [v for k, v in plot_data.iteritems()]\n",
      "C:\\Users\\te-te\\anaconda3\\lib\\site-packages\\seaborn\\axisgrid.py:703: FutureWarning: iteritems is deprecated and will be removed in a future version. Use .items instead.\n",
      "  plot_args = [v for k, v in plot_data.iteritems()]\n",
      "C:\\Users\\te-te\\anaconda3\\lib\\site-packages\\seaborn\\axisgrid.py:703: FutureWarning: iteritems is deprecated and will be removed in a future version. Use .items instead.\n",
      "  plot_args = [v for k, v in plot_data.iteritems()]\n",
      "C:\\Users\\te-te\\anaconda3\\lib\\site-packages\\seaborn\\axisgrid.py:703: FutureWarning: iteritems is deprecated and will be removed in a future version. Use .items instead.\n",
      "  plot_args = [v for k, v in plot_data.iteritems()]\n",
      "C:\\Users\\te-te\\anaconda3\\lib\\site-packages\\seaborn\\axisgrid.py:703: FutureWarning: iteritems is deprecated and will be removed in a future version. Use .items instead.\n",
      "  plot_args = [v for k, v in plot_data.iteritems()]\n",
      "C:\\Users\\te-te\\anaconda3\\lib\\site-packages\\seaborn\\axisgrid.py:703: FutureWarning: iteritems is deprecated and will be removed in a future version. Use .items instead.\n",
      "  plot_args = [v for k, v in plot_data.iteritems()]\n",
      "C:\\Users\\te-te\\anaconda3\\lib\\site-packages\\seaborn\\axisgrid.py:703: FutureWarning: iteritems is deprecated and will be removed in a future version. Use .items instead.\n",
      "  plot_args = [v for k, v in plot_data.iteritems()]\n",
      "C:\\Users\\te-te\\anaconda3\\lib\\site-packages\\seaborn\\axisgrid.py:703: FutureWarning: iteritems is deprecated and will be removed in a future version. Use .items instead.\n",
      "  plot_args = [v for k, v in plot_data.iteritems()]\n",
      "C:\\Users\\te-te\\anaconda3\\lib\\site-packages\\seaborn\\axisgrid.py:703: FutureWarning: iteritems is deprecated and will be removed in a future version. Use .items instead.\n",
      "  plot_args = [v for k, v in plot_data.iteritems()]\n",
      "C:\\Users\\te-te\\anaconda3\\lib\\site-packages\\seaborn\\axisgrid.py:703: FutureWarning: iteritems is deprecated and will be removed in a future version. Use .items instead.\n",
      "  plot_args = [v for k, v in plot_data.iteritems()]\n",
      "C:\\Users\\te-te\\anaconda3\\lib\\site-packages\\seaborn\\axisgrid.py:703: FutureWarning: iteritems is deprecated and will be removed in a future version. Use .items instead.\n",
      "  plot_args = [v for k, v in plot_data.iteritems()]\n",
      "C:\\Users\\te-te\\anaconda3\\lib\\site-packages\\seaborn\\axisgrid.py:703: FutureWarning: iteritems is deprecated and will be removed in a future version. Use .items instead.\n",
      "  plot_args = [v for k, v in plot_data.iteritems()]\n"
     ]
    },
    {
     "data": {
      "image/png": "[encoded data removed]",
      "text/plain": [
       "<Figure size 2000x1200 with 1 Axes>"
      ]
     },
     "metadata": {},
     "output_type": "display_data"
    }
   ],
   "source": [
    "#Gráfico de soma de LTV por quantidade de estabelecimentos, estado a estado, dentro dos 21 maiores\n",
    "a = sns.FacetGrid(tab_top, hue=\"uf\", height=5) \\\n",
    "   .map(plt.scatter, \"estab_uf\", \"ltv_sum\") \\\n",
    "   .add_legend()\n",
    "a.figure.set_size_inches(20,12)\n",
    "plt.show()"
   ]
  },
  {
   "cell_type": "markdown",
   "id": "99850e96",
   "metadata": {},
   "source": [
    "A partir do gráfico acima, podemos perceber alguns grupos de estados que, correlacionando quantidade de estabelecimentos e valor total de LTV, se destacam dos outros. SP possui um destaque único nos dois fatores e, por isso, poderá necessitar, inclusive, de uma análise especial pelo número alto de estabelecimentos. Outros 5 estados mostram um potencial de agregar hubs do tipo A pelas suas alatas perfomances nas duas variáveis, são eles: RJ, MG, PR, BA, SC e RS. Outros três estados possuem LTVs não tão altos, mas por possuírem menos estabelcimentos, poderão representar boas alternativas de hubs, são eles: GO, PE e CE. Muitos dos outros estados possuem menos de 200 mil estabelecimentos, o que os coloca em desvantagem para receberem hubs do tipo A, mas podem ainda ser viáveis para outros hubs. Nossa lógica de alocação será decrescente, isto é, se baseará em analisar os melhores hubs do tipo A seguidos pelos hubs tipo B e, por fim, os do tipo C. "
   ]
  },
  {
   "cell_type": "markdown",
   "id": "77336a3a",
   "metadata": {},
   "source": [
    "## Definição de funções auxiliares"
   ]
  },
  {
   "cell_type": "code",
   "execution_count": 20,
   "id": "d3dc73d1",
   "metadata": {},
   "outputs": [],
   "source": [
    "def clusterizacao(UF, n_c, s_m, s_M):\n",
    "    \"\"\"\n",
    "    Função que forma grupos a partir de dados semelhantes.\n",
    "    O produto de size_min e n_clusters não pode exceder o número de amostras.\n",
    "    O produto de size_max e n_clusters deve exceder o número de amostras.\n",
    "    Retorna as classes e os centroides para análise.\n",
    "    \"\"\"   \n",
    "    clf = KMeansConstrained(\n",
    "        n_clusters = n_c, #Número de clusters para análise\n",
    "        size_min = s_m,   #Tamanho mínimo de amostras em um cluster\n",
    "        size_max = s_M,   #Tamanho máximo de amostras em um cluster\n",
    "        max_iter = 100,   #Máximo de iterações\n",
    "        random_state = 0\n",
    "    )\n",
    "    clf.fit_predict(UF)\n",
    "    return clf.labels_, clf.cluster_centers_\n",
    "\n",
    "def haversine_np(lon1, lat1, lon2, lat2):\n",
    "    \"\"\"\n",
    "    Calcular a distância do grande círculo entre dois pontos na terra \n",
    "    (especificado em graus decimais). Todos os argumentos devem ter o mesmo comprimento. \n",
    "    Retorno em quilômetros (km)\n",
    "    \"\"\"\n",
    "    lon1, lat1, lon2, lat2 = map(np.radians, [lon1, lat1, lon2, lat2])\n",
    "\n",
    "    dlon = lon2 - lon1\n",
    "    dlat = lat2 - lat1\n",
    "\n",
    "    a = np.sin(dlat/2.0)**2 + np.cos(lat1) * np.cos(lat2) * np.sin(dlon/2.0)**2\n",
    "\n",
    "    c = 2 * np.arcsin(np.sqrt(a))\n",
    "    km = 6367 * c\n",
    "    return km\n",
    "\n",
    "def veri_centroid(df, lat_c, long_c, tam_hub):\n",
    "    \"\"\"\n",
    "    Recebe um dataframe e cria uma coluna de distância,\n",
    "    que mede a distância do registro em relação a uma coordenada também passada,\n",
    "    referente ao centróide de um cluster.\n",
    "    Retorna o dataframe atualizado\n",
    "    \"\"\"\n",
    "    df['dist'] = df.apply(lambda row: haversine_np(row['vl_longitude'], row['vl_latitude'],  long_c, lat_c), axis=1)\n",
    "    df = df[(df['dist'] <= 150)]\n",
    "    df = df.sort_values(by='LTV', ascending=False)\n",
    "    df = df.iloc[0:tam_hub, :]\n",
    "    return df\n",
    "\n",
    "def dropar_duplicatas(df_geral, df_especifico):\n",
    "    \"\"\"\n",
    "    Recebe 2 dataframes e exclui registros iguais.\n",
    "    Retorna o dataframe mais amplo sem as duplicatas.\n",
    "    \"\"\"\n",
    "    return df_geral[~df_geral['cd_cnpj_anonimizado'].isin(df_especifico['cd_cnpj_anonimizado'])]"
   ]
  },
  {
   "cell_type": "markdown",
   "id": "dc776a54",
   "metadata": {},
   "source": [
    "## Definição da função principal de clusterização"
   ]
  },
  {
   "cell_type": "code",
   "execution_count": 21,
   "id": "eaae7ae3",
   "metadata": {},
   "outputs": [],
   "source": [
    "def clusterizacao_replicavel(unid_fed, n_clusters, s_min, s_max, capacidade_hub):\n",
    "    \"\"\"\n",
    "    Recebe: sigla da unidade federativa como string, número de clusters desejado,\n",
    "            tamanhos mínimo e máximo dos clusters e capacidade do hub.\n",
    "    Retorna em formato de lista: dataframe dos estabelecimentos atendidos pelo hub,\n",
    "            LTV total abrangido pelo hub e coordenadas do centróide (latitude e longitude, respectivamente).\n",
    "    \"\"\"\n",
    "    #Filtrando estabelecimentos da unidade federaiva desejada\n",
    "    X = mapeamento[mapeamento['st_uf'] == unid_fed]\n",
    "    X_array = np.array(X.iloc[:, 0:3])\n",
    "    #Chamada da função clusterizacao\n",
    "    label, centroid = clusterizacao(X_array, n_clusters, s_min, s_max)\n",
    "    #Adiciona ao dataframe uma coluna com a classe atribuída a cada registro\n",
    "    X['Classe'] = label\n",
    "    #Agrupa os registros conforme suas classes e ordena-as pelo LTV\n",
    "    df = X.groupby(['Classe']).LTV.sum().sort_values()\n",
    "    #Seleciona a classe com maior soma de LTV\n",
    "    melhor_cluster = df.index[-1]\n",
    "    #Cria uma coluna de distância no dataframe e aplica a função haversine_np a ela\n",
    "    X['dist'] = X.apply(lambda row: haversine_np(row['vl_longitude'], row['vl_latitude'], centroid[melhor_cluster][1], centroid[melhor_cluster][0]), axis=1)\n",
    "    #Filtra os registros dentro do raio de alcance do hub (150km)\n",
    "    df = X[(X['dist'] <= 150)]\n",
    "    #Com a função veri_centroid, filtra os registros, considerando a capacidade do hub, e seleciona os maiores LTVs\n",
    "    X = veri_centroid(X, centroid[melhor_cluster][0], centroid[melhor_cluster][1], capacidade_hub)\n",
    "    LTV_hub = X.LTV.sum()\n",
    "    print('Aproximadamente '+str(round((LTV_hub / mapeamento[mapeamento['st_uf'] == unid_fed].LTV.sum()) * 100, 2))+ '%'+' do LTV estadual')\n",
    "    return [X, LTV_hub, centroid[melhor_cluster][0], centroid[melhor_cluster][1]]"
   ]
  },
  {
   "cell_type": "code",
   "execution_count": 22,
   "id": "04f3affd",
   "metadata": {},
   "outputs": [
    {
     "name": "stderr",
     "output_type": "stream",
     "text": [
      "C:\\Users\\te-te\\AppData\\Local\\Temp\\ipykernel_61292\\2853382662.py:14: SettingWithCopyWarning: \n",
      "A value is trying to be set on a copy of a slice from a DataFrame.\n",
      "Try using .loc[row_indexer,col_indexer] = value instead\n",
      "\n",
      "See the caveats in the documentation: https://pandas.pydata.org/pandas-docs/stable/user_guide/indexing.html#returning-a-view-versus-a-copy\n",
      "  X['Classe'] = label\n",
      "C:\\Users\\te-te\\AppData\\Local\\Temp\\ipykernel_61292\\2853382662.py:20: SettingWithCopyWarning: \n",
      "A value is trying to be set on a copy of a slice from a DataFrame.\n",
      "Try using .loc[row_indexer,col_indexer] = value instead\n",
      "\n",
      "See the caveats in the documentation: https://pandas.pydata.org/pandas-docs/stable/user_guide/indexing.html#returning-a-view-versus-a-copy\n",
      "  X['dist'] = X.apply(lambda row: haversine_np(row['vl_longitude'], row['vl_latitude'], centroid[melhor_cluster][1], centroid[melhor_cluster][0]), axis=1)\n",
      "C:\\Users\\te-te\\AppData\\Local\\Temp\\ipykernel_61292\\1082795730.py:42: SettingWithCopyWarning: \n",
      "A value is trying to be set on a copy of a slice from a DataFrame.\n",
      "Try using .loc[row_indexer,col_indexer] = value instead\n",
      "\n",
      "See the caveats in the documentation: https://pandas.pydata.org/pandas-docs/stable/user_guide/indexing.html#returning-a-view-versus-a-copy\n",
      "  df['dist'] = df.apply(lambda row: haversine_np(row['vl_longitude'], row['vl_latitude'],  long_c, lat_c), axis=1)\n"
     ]
    },
    {
     "name": "stdout",
     "output_type": "stream",
     "text": [
      "Aproximadamente 77.41% do LTV estadual\n"
     ]
    }
   ],
   "source": [
    "RJ = clusterizacao_replicavel('RJ', 4, 157000, 200000, 200000)\n",
    "df_RJ = RJ[0]\n",
    "df_RJ.Classe = 'A'"
   ]
  },
  {
   "cell_type": "code",
   "execution_count": 23,
   "id": "d5610ae3",
   "metadata": {},
   "outputs": [
    {
     "name": "stderr",
     "output_type": "stream",
     "text": [
      "C:\\Users\\te-te\\AppData\\Local\\Temp\\ipykernel_61292\\2853382662.py:14: SettingWithCopyWarning: \n",
      "A value is trying to be set on a copy of a slice from a DataFrame.\n",
      "Try using .loc[row_indexer,col_indexer] = value instead\n",
      "\n",
      "See the caveats in the documentation: https://pandas.pydata.org/pandas-docs/stable/user_guide/indexing.html#returning-a-view-versus-a-copy\n",
      "  X['Classe'] = label\n",
      "C:\\Users\\te-te\\AppData\\Local\\Temp\\ipykernel_61292\\2853382662.py:20: SettingWithCopyWarning: \n",
      "A value is trying to be set on a copy of a slice from a DataFrame.\n",
      "Try using .loc[row_indexer,col_indexer] = value instead\n",
      "\n",
      "See the caveats in the documentation: https://pandas.pydata.org/pandas-docs/stable/user_guide/indexing.html#returning-a-view-versus-a-copy\n",
      "  X['dist'] = X.apply(lambda row: haversine_np(row['vl_longitude'], row['vl_latitude'], centroid[melhor_cluster][1], centroid[melhor_cluster][0]), axis=1)\n",
      "C:\\Users\\te-te\\AppData\\Local\\Temp\\ipykernel_61292\\1082795730.py:42: SettingWithCopyWarning: \n",
      "A value is trying to be set on a copy of a slice from a DataFrame.\n",
      "Try using .loc[row_indexer,col_indexer] = value instead\n",
      "\n",
      "See the caveats in the documentation: https://pandas.pydata.org/pandas-docs/stable/user_guide/indexing.html#returning-a-view-versus-a-copy\n",
      "  df['dist'] = df.apply(lambda row: haversine_np(row['vl_longitude'], row['vl_latitude'],  long_c, lat_c), axis=1)\n"
     ]
    },
    {
     "name": "stdout",
     "output_type": "stream",
     "text": [
      "Aproximadamente 70.49% do LTV estadual\n"
     ]
    }
   ],
   "source": [
    "SC = clusterizacao_replicavel('SC', 3, 105500, 120000, 200000)\n",
    "df_SC = SC[0]\n",
    "df_SC.Classe = 'A'"
   ]
  },
  {
   "cell_type": "code",
   "execution_count": 24,
   "id": "03089c36",
   "metadata": {},
   "outputs": [
    {
     "name": "stderr",
     "output_type": "stream",
     "text": [
      "C:\\Users\\te-te\\AppData\\Local\\Temp\\ipykernel_61292\\2853382662.py:14: SettingWithCopyWarning: \n",
      "A value is trying to be set on a copy of a slice from a DataFrame.\n",
      "Try using .loc[row_indexer,col_indexer] = value instead\n",
      "\n",
      "See the caveats in the documentation: https://pandas.pydata.org/pandas-docs/stable/user_guide/indexing.html#returning-a-view-versus-a-copy\n",
      "  X['Classe'] = label\n",
      "C:\\Users\\te-te\\AppData\\Local\\Temp\\ipykernel_61292\\2853382662.py:20: SettingWithCopyWarning: \n",
      "A value is trying to be set on a copy of a slice from a DataFrame.\n",
      "Try using .loc[row_indexer,col_indexer] = value instead\n",
      "\n",
      "See the caveats in the documentation: https://pandas.pydata.org/pandas-docs/stable/user_guide/indexing.html#returning-a-view-versus-a-copy\n",
      "  X['dist'] = X.apply(lambda row: haversine_np(row['vl_longitude'], row['vl_latitude'], centroid[melhor_cluster][1], centroid[melhor_cluster][0]), axis=1)\n",
      "C:\\Users\\te-te\\AppData\\Local\\Temp\\ipykernel_61292\\1082795730.py:42: SettingWithCopyWarning: \n",
      "A value is trying to be set on a copy of a slice from a DataFrame.\n",
      "Try using .loc[row_indexer,col_indexer] = value instead\n",
      "\n",
      "See the caveats in the documentation: https://pandas.pydata.org/pandas-docs/stable/user_guide/indexing.html#returning-a-view-versus-a-copy\n",
      "  df['dist'] = df.apply(lambda row: haversine_np(row['vl_longitude'], row['vl_latitude'],  long_c, lat_c), axis=1)\n"
     ]
    },
    {
     "name": "stdout",
     "output_type": "stream",
     "text": [
      "Aproximadamente 82.57% do LTV estadual\n"
     ]
    }
   ],
   "source": [
    "PE = clusterizacao_replicavel('PE', 3, 66000, 80000, 120000)\n",
    "df_PE = PE[0]\n",
    "df_PE.Classe = 'B'"
   ]
  },
  {
   "cell_type": "code",
   "execution_count": 25,
   "id": "47ca715b",
   "metadata": {},
   "outputs": [
    {
     "name": "stderr",
     "output_type": "stream",
     "text": [
      "C:\\Users\\te-te\\AppData\\Local\\Temp\\ipykernel_61292\\2853382662.py:14: SettingWithCopyWarning: \n",
      "A value is trying to be set on a copy of a slice from a DataFrame.\n",
      "Try using .loc[row_indexer,col_indexer] = value instead\n",
      "\n",
      "See the caveats in the documentation: https://pandas.pydata.org/pandas-docs/stable/user_guide/indexing.html#returning-a-view-versus-a-copy\n",
      "  X['Classe'] = label\n",
      "C:\\Users\\te-te\\AppData\\Local\\Temp\\ipykernel_61292\\2853382662.py:20: SettingWithCopyWarning: \n",
      "A value is trying to be set on a copy of a slice from a DataFrame.\n",
      "Try using .loc[row_indexer,col_indexer] = value instead\n",
      "\n",
      "See the caveats in the documentation: https://pandas.pydata.org/pandas-docs/stable/user_guide/indexing.html#returning-a-view-versus-a-copy\n",
      "  X['dist'] = X.apply(lambda row: haversine_np(row['vl_longitude'], row['vl_latitude'], centroid[melhor_cluster][1], centroid[melhor_cluster][0]), axis=1)\n",
      "C:\\Users\\te-te\\AppData\\Local\\Temp\\ipykernel_61292\\1082795730.py:42: SettingWithCopyWarning: \n",
      "A value is trying to be set on a copy of a slice from a DataFrame.\n",
      "Try using .loc[row_indexer,col_indexer] = value instead\n",
      "\n",
      "See the caveats in the documentation: https://pandas.pydata.org/pandas-docs/stable/user_guide/indexing.html#returning-a-view-versus-a-copy\n",
      "  df['dist'] = df.apply(lambda row: haversine_np(row['vl_longitude'], row['vl_latitude'],  long_c, lat_c), axis=1)\n"
     ]
    },
    {
     "name": "stdout",
     "output_type": "stream",
     "text": [
      "Aproximadamente 72.95% do LTV estadual\n"
     ]
    }
   ],
   "source": [
    "GO = clusterizacao_replicavel('GO', 3, 66565, 80000, 120000)\n",
    "df_GO = GO[0]\n",
    "df_GO.Classe = 'B'"
   ]
  },
  {
   "cell_type": "code",
   "execution_count": 26,
   "id": "b002ac4f",
   "metadata": {},
   "outputs": [
    {
     "name": "stderr",
     "output_type": "stream",
     "text": [
      "C:\\Users\\te-te\\anaconda3\\lib\\site-packages\\k_means_constrained\\k_means_constrained_.py:464: RuntimeWarning: invalid value encountered in cast\n",
      "  costs = np.around(costs * 1000, 0).astype('int32')  # Times by 1000 to give extra precision\n",
      "C:\\Users\\te-te\\AppData\\Local\\Temp\\ipykernel_61292\\2853382662.py:14: SettingWithCopyWarning: \n",
      "A value is trying to be set on a copy of a slice from a DataFrame.\n",
      "Try using .loc[row_indexer,col_indexer] = value instead\n",
      "\n",
      "See the caveats in the documentation: https://pandas.pydata.org/pandas-docs/stable/user_guide/indexing.html#returning-a-view-versus-a-copy\n",
      "  X['Classe'] = label\n",
      "C:\\Users\\te-te\\AppData\\Local\\Temp\\ipykernel_61292\\2853382662.py:20: SettingWithCopyWarning: \n",
      "A value is trying to be set on a copy of a slice from a DataFrame.\n",
      "Try using .loc[row_indexer,col_indexer] = value instead\n",
      "\n",
      "See the caveats in the documentation: https://pandas.pydata.org/pandas-docs/stable/user_guide/indexing.html#returning-a-view-versus-a-copy\n",
      "  X['dist'] = X.apply(lambda row: haversine_np(row['vl_longitude'], row['vl_latitude'], centroid[melhor_cluster][1], centroid[melhor_cluster][0]), axis=1)\n",
      "C:\\Users\\te-te\\AppData\\Local\\Temp\\ipykernel_61292\\1082795730.py:42: SettingWithCopyWarning: \n",
      "A value is trying to be set on a copy of a slice from a DataFrame.\n",
      "Try using .loc[row_indexer,col_indexer] = value instead\n",
      "\n",
      "See the caveats in the documentation: https://pandas.pydata.org/pandas-docs/stable/user_guide/indexing.html#returning-a-view-versus-a-copy\n",
      "  df['dist'] = df.apply(lambda row: haversine_np(row['vl_longitude'], row['vl_latitude'],  long_c, lat_c), axis=1)\n"
     ]
    },
    {
     "name": "stdout",
     "output_type": "stream",
     "text": [
      "Aproximadamente 56.23% do LTV estadual\n"
     ]
    }
   ],
   "source": [
    "RS = clusterizacao_replicavel('RS', 3, 138000, 200000, 120000)\n",
    "df_RS = RS[0]\n",
    "df_RS.Classe = 'B'"
   ]
  },
  {
   "cell_type": "code",
   "execution_count": 27,
   "id": "1eff2b5e",
   "metadata": {},
   "outputs": [
    {
     "name": "stderr",
     "output_type": "stream",
     "text": [
      "C:\\Users\\te-te\\AppData\\Local\\Temp\\ipykernel_61292\\2853382662.py:14: SettingWithCopyWarning: \n",
      "A value is trying to be set on a copy of a slice from a DataFrame.\n",
      "Try using .loc[row_indexer,col_indexer] = value instead\n",
      "\n",
      "See the caveats in the documentation: https://pandas.pydata.org/pandas-docs/stable/user_guide/indexing.html#returning-a-view-versus-a-copy\n",
      "  X['Classe'] = label\n",
      "C:\\Users\\te-te\\AppData\\Local\\Temp\\ipykernel_61292\\2853382662.py:20: SettingWithCopyWarning: \n",
      "A value is trying to be set on a copy of a slice from a DataFrame.\n",
      "Try using .loc[row_indexer,col_indexer] = value instead\n",
      "\n",
      "See the caveats in the documentation: https://pandas.pydata.org/pandas-docs/stable/user_guide/indexing.html#returning-a-view-versus-a-copy\n",
      "  X['dist'] = X.apply(lambda row: haversine_np(row['vl_longitude'], row['vl_latitude'], centroid[melhor_cluster][1], centroid[melhor_cluster][0]), axis=1)\n",
      "C:\\Users\\te-te\\AppData\\Local\\Temp\\ipykernel_61292\\1082795730.py:42: SettingWithCopyWarning: \n",
      "A value is trying to be set on a copy of a slice from a DataFrame.\n",
      "Try using .loc[row_indexer,col_indexer] = value instead\n",
      "\n",
      "See the caveats in the documentation: https://pandas.pydata.org/pandas-docs/stable/user_guide/indexing.html#returning-a-view-versus-a-copy\n",
      "  df['dist'] = df.apply(lambda row: haversine_np(row['vl_longitude'], row['vl_latitude'],  long_c, lat_c), axis=1)\n"
     ]
    },
    {
     "name": "stdout",
     "output_type": "stream",
     "text": [
      "Aproximadamente 33.63% do LTV estadual\n"
     ]
    }
   ],
   "source": [
    "MG = clusterizacao_replicavel('MG', 4, 175000, 200000, 120000)\n",
    "df_MG = MG[0]\n",
    "df_MG.Classe = 'B'"
   ]
  },
  {
   "cell_type": "code",
   "execution_count": 28,
   "id": "90f1bf1e",
   "metadata": {},
   "outputs": [
    {
     "name": "stderr",
     "output_type": "stream",
     "text": [
      "C:\\Users\\te-te\\AppData\\Local\\Temp\\ipykernel_61292\\2853382662.py:14: SettingWithCopyWarning: \n",
      "A value is trying to be set on a copy of a slice from a DataFrame.\n",
      "Try using .loc[row_indexer,col_indexer] = value instead\n",
      "\n",
      "See the caveats in the documentation: https://pandas.pydata.org/pandas-docs/stable/user_guide/indexing.html#returning-a-view-versus-a-copy\n",
      "  X['Classe'] = label\n",
      "C:\\Users\\te-te\\AppData\\Local\\Temp\\ipykernel_61292\\2853382662.py:20: SettingWithCopyWarning: \n",
      "A value is trying to be set on a copy of a slice from a DataFrame.\n",
      "Try using .loc[row_indexer,col_indexer] = value instead\n",
      "\n",
      "See the caveats in the documentation: https://pandas.pydata.org/pandas-docs/stable/user_guide/indexing.html#returning-a-view-versus-a-copy\n",
      "  X['dist'] = X.apply(lambda row: haversine_np(row['vl_longitude'], row['vl_latitude'], centroid[melhor_cluster][1], centroid[melhor_cluster][0]), axis=1)\n",
      "C:\\Users\\te-te\\AppData\\Local\\Temp\\ipykernel_61292\\1082795730.py:42: SettingWithCopyWarning: \n",
      "A value is trying to be set on a copy of a slice from a DataFrame.\n",
      "Try using .loc[row_indexer,col_indexer] = value instead\n",
      "\n",
      "See the caveats in the documentation: https://pandas.pydata.org/pandas-docs/stable/user_guide/indexing.html#returning-a-view-versus-a-copy\n",
      "  df['dist'] = df.apply(lambda row: haversine_np(row['vl_longitude'], row['vl_latitude'],  long_c, lat_c), axis=1)\n"
     ]
    },
    {
     "name": "stdout",
     "output_type": "stream",
     "text": [
      "Aproximadamente 63.84% do LTV estadual\n"
     ]
    }
   ],
   "source": [
    "CE = clusterizacao_replicavel('CE', 3, 69000, 80000, 80000)\n",
    "df_CE = CE[0]\n",
    "df_CE.Classe = 'C'"
   ]
  },
  {
   "cell_type": "code",
   "execution_count": 29,
   "id": "a95624f7",
   "metadata": {},
   "outputs": [
    {
     "name": "stderr",
     "output_type": "stream",
     "text": [
      "C:\\Users\\te-te\\anaconda3\\lib\\site-packages\\k_means_constrained\\k_means_constrained_.py:464: RuntimeWarning: invalid value encountered in cast\n",
      "  costs = np.around(costs * 1000, 0).astype('int32')  # Times by 1000 to give extra precision\n",
      "C:\\Users\\te-te\\AppData\\Local\\Temp\\ipykernel_61292\\2853382662.py:14: SettingWithCopyWarning: \n",
      "A value is trying to be set on a copy of a slice from a DataFrame.\n",
      "Try using .loc[row_indexer,col_indexer] = value instead\n",
      "\n",
      "See the caveats in the documentation: https://pandas.pydata.org/pandas-docs/stable/user_guide/indexing.html#returning-a-view-versus-a-copy\n",
      "  X['Classe'] = label\n",
      "C:\\Users\\te-te\\AppData\\Local\\Temp\\ipykernel_61292\\2853382662.py:20: SettingWithCopyWarning: \n",
      "A value is trying to be set on a copy of a slice from a DataFrame.\n",
      "Try using .loc[row_indexer,col_indexer] = value instead\n",
      "\n",
      "See the caveats in the documentation: https://pandas.pydata.org/pandas-docs/stable/user_guide/indexing.html#returning-a-view-versus-a-copy\n",
      "  X['dist'] = X.apply(lambda row: haversine_np(row['vl_longitude'], row['vl_latitude'], centroid[melhor_cluster][1], centroid[melhor_cluster][0]), axis=1)\n",
      "C:\\Users\\te-te\\AppData\\Local\\Temp\\ipykernel_61292\\1082795730.py:42: SettingWithCopyWarning: \n",
      "A value is trying to be set on a copy of a slice from a DataFrame.\n",
      "Try using .loc[row_indexer,col_indexer] = value instead\n",
      "\n",
      "See the caveats in the documentation: https://pandas.pydata.org/pandas-docs/stable/user_guide/indexing.html#returning-a-view-versus-a-copy\n",
      "  df['dist'] = df.apply(lambda row: haversine_np(row['vl_longitude'], row['vl_latitude'],  long_c, lat_c), axis=1)\n"
     ]
    },
    {
     "name": "stdout",
     "output_type": "stream",
     "text": [
      "Aproximadamente 96.15% do LTV estadual\n"
     ]
    }
   ],
   "source": [
    "DF = clusterizacao_replicavel('DF', 2, 58000, 60000, 80000)\n",
    "df_DF = DF[0]\n",
    "df_DF.Classe = 'C'"
   ]
  },
  {
   "cell_type": "code",
   "execution_count": 30,
   "id": "0d46a705",
   "metadata": {},
   "outputs": [
    {
     "name": "stderr",
     "output_type": "stream",
     "text": [
      "C:\\Users\\te-te\\AppData\\Local\\Temp\\ipykernel_61292\\2853382662.py:14: SettingWithCopyWarning: \n",
      "A value is trying to be set on a copy of a slice from a DataFrame.\n",
      "Try using .loc[row_indexer,col_indexer] = value instead\n",
      "\n",
      "See the caveats in the documentation: https://pandas.pydata.org/pandas-docs/stable/user_guide/indexing.html#returning-a-view-versus-a-copy\n",
      "  X['Classe'] = label\n",
      "C:\\Users\\te-te\\AppData\\Local\\Temp\\ipykernel_61292\\2853382662.py:20: SettingWithCopyWarning: \n",
      "A value is trying to be set on a copy of a slice from a DataFrame.\n",
      "Try using .loc[row_indexer,col_indexer] = value instead\n",
      "\n",
      "See the caveats in the documentation: https://pandas.pydata.org/pandas-docs/stable/user_guide/indexing.html#returning-a-view-versus-a-copy\n",
      "  X['dist'] = X.apply(lambda row: haversine_np(row['vl_longitude'], row['vl_latitude'], centroid[melhor_cluster][1], centroid[melhor_cluster][0]), axis=1)\n",
      "C:\\Users\\te-te\\AppData\\Local\\Temp\\ipykernel_61292\\1082795730.py:42: SettingWithCopyWarning: \n",
      "A value is trying to be set on a copy of a slice from a DataFrame.\n",
      "Try using .loc[row_indexer,col_indexer] = value instead\n",
      "\n",
      "See the caveats in the documentation: https://pandas.pydata.org/pandas-docs/stable/user_guide/indexing.html#returning-a-view-versus-a-copy\n",
      "  df['dist'] = df.apply(lambda row: haversine_np(row['vl_longitude'], row['vl_latitude'],  long_c, lat_c), axis=1)\n"
     ]
    },
    {
     "name": "stdout",
     "output_type": "stream",
     "text": [
      "Aproximadamente 82.74% do LTV estadual\n"
     ]
    }
   ],
   "source": [
    "ES = clusterizacao_replicavel('ES', 2, 76565, 80000, 80000)\n",
    "df_ES = ES[0]\n",
    "df_ES.Classe = 'C'"
   ]
  },
  {
   "cell_type": "code",
   "execution_count": 31,
   "id": "65c7ecc7",
   "metadata": {},
   "outputs": [
    {
     "name": "stderr",
     "output_type": "stream",
     "text": [
      "C:\\Users\\te-te\\AppData\\Local\\Temp\\ipykernel_61292\\2853382662.py:14: SettingWithCopyWarning: \n",
      "A value is trying to be set on a copy of a slice from a DataFrame.\n",
      "Try using .loc[row_indexer,col_indexer] = value instead\n",
      "\n",
      "See the caveats in the documentation: https://pandas.pydata.org/pandas-docs/stable/user_guide/indexing.html#returning-a-view-versus-a-copy\n",
      "  X['Classe'] = label\n",
      "C:\\Users\\te-te\\AppData\\Local\\Temp\\ipykernel_61292\\2853382662.py:20: SettingWithCopyWarning: \n",
      "A value is trying to be set on a copy of a slice from a DataFrame.\n",
      "Try using .loc[row_indexer,col_indexer] = value instead\n",
      "\n",
      "See the caveats in the documentation: https://pandas.pydata.org/pandas-docs/stable/user_guide/indexing.html#returning-a-view-versus-a-copy\n",
      "  X['dist'] = X.apply(lambda row: haversine_np(row['vl_longitude'], row['vl_latitude'], centroid[melhor_cluster][1], centroid[melhor_cluster][0]), axis=1)\n",
      "C:\\Users\\te-te\\AppData\\Local\\Temp\\ipykernel_61292\\1082795730.py:42: SettingWithCopyWarning: \n",
      "A value is trying to be set on a copy of a slice from a DataFrame.\n",
      "Try using .loc[row_indexer,col_indexer] = value instead\n",
      "\n",
      "See the caveats in the documentation: https://pandas.pydata.org/pandas-docs/stable/user_guide/indexing.html#returning-a-view-versus-a-copy\n",
      "  df['dist'] = df.apply(lambda row: haversine_np(row['vl_longitude'], row['vl_latitude'],  long_c, lat_c), axis=1)\n"
     ]
    },
    {
     "name": "stdout",
     "output_type": "stream",
     "text": [
      "Aproximadamente 58.03% do LTV estadual\n"
     ]
    }
   ],
   "source": [
    "MS = clusterizacao_replicavel('MS', 2, 52000, 54000, 80000)\n",
    "df_MS = MS[0]\n",
    "df_MS.Classe = 'C'"
   ]
  },
  {
   "cell_type": "code",
   "execution_count": 32,
   "id": "231baf2b",
   "metadata": {},
   "outputs": [
    {
     "name": "stderr",
     "output_type": "stream",
     "text": [
      "C:\\Users\\te-te\\AppData\\Local\\Temp\\ipykernel_61292\\2853382662.py:14: SettingWithCopyWarning: \n",
      "A value is trying to be set on a copy of a slice from a DataFrame.\n",
      "Try using .loc[row_indexer,col_indexer] = value instead\n",
      "\n",
      "See the caveats in the documentation: https://pandas.pydata.org/pandas-docs/stable/user_guide/indexing.html#returning-a-view-versus-a-copy\n",
      "  X['Classe'] = label\n",
      "C:\\Users\\te-te\\AppData\\Local\\Temp\\ipykernel_61292\\2853382662.py:20: SettingWithCopyWarning: \n",
      "A value is trying to be set on a copy of a slice from a DataFrame.\n",
      "Try using .loc[row_indexer,col_indexer] = value instead\n",
      "\n",
      "See the caveats in the documentation: https://pandas.pydata.org/pandas-docs/stable/user_guide/indexing.html#returning-a-view-versus-a-copy\n",
      "  X['dist'] = X.apply(lambda row: haversine_np(row['vl_longitude'], row['vl_latitude'], centroid[melhor_cluster][1], centroid[melhor_cluster][0]), axis=1)\n",
      "C:\\Users\\te-te\\AppData\\Local\\Temp\\ipykernel_61292\\1082795730.py:42: SettingWithCopyWarning: \n",
      "A value is trying to be set on a copy of a slice from a DataFrame.\n",
      "Try using .loc[row_indexer,col_indexer] = value instead\n",
      "\n",
      "See the caveats in the documentation: https://pandas.pydata.org/pandas-docs/stable/user_guide/indexing.html#returning-a-view-versus-a-copy\n",
      "  df['dist'] = df.apply(lambda row: haversine_np(row['vl_longitude'], row['vl_latitude'],  long_c, lat_c), axis=1)\n"
     ]
    },
    {
     "name": "stdout",
     "output_type": "stream",
     "text": [
      "Aproximadamente 81.72% do LTV estadual\n"
     ]
    }
   ],
   "source": [
    "RN = clusterizacao_replicavel('RN', 2, 44000, 48000, 80000)\n",
    "df_RN = RN[0]\n",
    "df_RN.Classe = 'C'"
   ]
  },
  {
   "cell_type": "code",
   "execution_count": 33,
   "id": "cd7fbb3c",
   "metadata": {},
   "outputs": [
    {
     "name": "stderr",
     "output_type": "stream",
     "text": [
      "C:\\Users\\te-te\\AppData\\Local\\Temp\\ipykernel_61292\\2853382662.py:14: SettingWithCopyWarning: \n",
      "A value is trying to be set on a copy of a slice from a DataFrame.\n",
      "Try using .loc[row_indexer,col_indexer] = value instead\n",
      "\n",
      "See the caveats in the documentation: https://pandas.pydata.org/pandas-docs/stable/user_guide/indexing.html#returning-a-view-versus-a-copy\n",
      "  X['Classe'] = label\n",
      "C:\\Users\\te-te\\AppData\\Local\\Temp\\ipykernel_61292\\2853382662.py:20: SettingWithCopyWarning: \n",
      "A value is trying to be set on a copy of a slice from a DataFrame.\n",
      "Try using .loc[row_indexer,col_indexer] = value instead\n",
      "\n",
      "See the caveats in the documentation: https://pandas.pydata.org/pandas-docs/stable/user_guide/indexing.html#returning-a-view-versus-a-copy\n",
      "  X['dist'] = X.apply(lambda row: haversine_np(row['vl_longitude'], row['vl_latitude'], centroid[melhor_cluster][1], centroid[melhor_cluster][0]), axis=1)\n",
      "C:\\Users\\te-te\\AppData\\Local\\Temp\\ipykernel_61292\\1082795730.py:42: SettingWithCopyWarning: \n",
      "A value is trying to be set on a copy of a slice from a DataFrame.\n",
      "Try using .loc[row_indexer,col_indexer] = value instead\n",
      "\n",
      "See the caveats in the documentation: https://pandas.pydata.org/pandas-docs/stable/user_guide/indexing.html#returning-a-view-versus-a-copy\n",
      "  df['dist'] = df.apply(lambda row: haversine_np(row['vl_longitude'], row['vl_latitude'],  long_c, lat_c), axis=1)\n"
     ]
    },
    {
     "name": "stdout",
     "output_type": "stream",
     "text": [
      "Aproximadamente 77.19% do LTV estadual\n"
     ]
    }
   ],
   "source": [
    "AM = clusterizacao_replicavel('AM', 2, 37500, 70000, 80000)\n",
    "df_AM = AM[0]\n",
    "df_AM.Classe = 'C'"
   ]
  },
  {
   "cell_type": "code",
   "execution_count": 34,
   "id": "e1c0b330",
   "metadata": {},
   "outputs": [
    {
     "name": "stderr",
     "output_type": "stream",
     "text": [
      "C:\\Users\\te-te\\AppData\\Local\\Temp\\ipykernel_61292\\2853382662.py:14: SettingWithCopyWarning: \n",
      "A value is trying to be set on a copy of a slice from a DataFrame.\n",
      "Try using .loc[row_indexer,col_indexer] = value instead\n",
      "\n",
      "See the caveats in the documentation: https://pandas.pydata.org/pandas-docs/stable/user_guide/indexing.html#returning-a-view-versus-a-copy\n",
      "  X['Classe'] = label\n",
      "C:\\Users\\te-te\\AppData\\Local\\Temp\\ipykernel_61292\\2853382662.py:20: SettingWithCopyWarning: \n",
      "A value is trying to be set on a copy of a slice from a DataFrame.\n",
      "Try using .loc[row_indexer,col_indexer] = value instead\n",
      "\n",
      "See the caveats in the documentation: https://pandas.pydata.org/pandas-docs/stable/user_guide/indexing.html#returning-a-view-versus-a-copy\n",
      "  X['dist'] = X.apply(lambda row: haversine_np(row['vl_longitude'], row['vl_latitude'], centroid[melhor_cluster][1], centroid[melhor_cluster][0]), axis=1)\n",
      "C:\\Users\\te-te\\AppData\\Local\\Temp\\ipykernel_61292\\1082795730.py:42: SettingWithCopyWarning: \n",
      "A value is trying to be set on a copy of a slice from a DataFrame.\n",
      "Try using .loc[row_indexer,col_indexer] = value instead\n",
      "\n",
      "See the caveats in the documentation: https://pandas.pydata.org/pandas-docs/stable/user_guide/indexing.html#returning-a-view-versus-a-copy\n",
      "  df['dist'] = df.apply(lambda row: haversine_np(row['vl_longitude'], row['vl_latitude'],  long_c, lat_c), axis=1)\n"
     ]
    },
    {
     "name": "stdout",
     "output_type": "stream",
     "text": [
      "Aproximadamente 81.71% do LTV estadual\n"
     ]
    }
   ],
   "source": [
    "PB = clusterizacao_replicavel('PB', 3, 28000, 80000, 80000)\n",
    "df_PB = PB[0]\n",
    "df_PB.Classe = 'C'"
   ]
  },
  {
   "cell_type": "code",
   "execution_count": 35,
   "id": "9504fe27",
   "metadata": {},
   "outputs": [
    {
     "name": "stderr",
     "output_type": "stream",
     "text": [
      "C:\\Users\\te-te\\AppData\\Local\\Temp\\ipykernel_61292\\2853382662.py:14: SettingWithCopyWarning: \n",
      "A value is trying to be set on a copy of a slice from a DataFrame.\n",
      "Try using .loc[row_indexer,col_indexer] = value instead\n",
      "\n",
      "See the caveats in the documentation: https://pandas.pydata.org/pandas-docs/stable/user_guide/indexing.html#returning-a-view-versus-a-copy\n",
      "  X['Classe'] = label\n",
      "C:\\Users\\te-te\\AppData\\Local\\Temp\\ipykernel_61292\\2853382662.py:20: SettingWithCopyWarning: \n",
      "A value is trying to be set on a copy of a slice from a DataFrame.\n",
      "Try using .loc[row_indexer,col_indexer] = value instead\n",
      "\n",
      "See the caveats in the documentation: https://pandas.pydata.org/pandas-docs/stable/user_guide/indexing.html#returning-a-view-versus-a-copy\n",
      "  X['dist'] = X.apply(lambda row: haversine_np(row['vl_longitude'], row['vl_latitude'], centroid[melhor_cluster][1], centroid[melhor_cluster][0]), axis=1)\n",
      "C:\\Users\\te-te\\AppData\\Local\\Temp\\ipykernel_61292\\1082795730.py:42: SettingWithCopyWarning: \n",
      "A value is trying to be set on a copy of a slice from a DataFrame.\n",
      "Try using .loc[row_indexer,col_indexer] = value instead\n",
      "\n",
      "See the caveats in the documentation: https://pandas.pydata.org/pandas-docs/stable/user_guide/indexing.html#returning-a-view-versus-a-copy\n",
      "  df['dist'] = df.apply(lambda row: haversine_np(row['vl_longitude'], row['vl_latitude'],  long_c, lat_c), axis=1)\n"
     ]
    },
    {
     "name": "stdout",
     "output_type": "stream",
     "text": [
      "Aproximadamente 96.1% do LTV estadual\n"
     ]
    }
   ],
   "source": [
    "AL = clusterizacao_replicavel('AL', 2, 35000, 71767, 80000)\n",
    "df_AL = AL[0]\n",
    "df_AL.Classe = 'C'"
   ]
  },
  {
   "cell_type": "markdown",
   "id": "be16d9b5",
   "metadata": {},
   "source": [
    "## Função secundária para alocação: Gmean"
   ]
  },
  {
   "cell_type": "markdown",
   "id": "c6a7b9ed",
   "metadata": {},
   "source": [
    "Essa função foi utilizada para contornar problemas que tivemos ao longo do caminho. Os estados PR e BA não mostraram bons resultados de alocação de hubs dos tipos A e B com o uso do kmeans. Sendo assim, buscamos outra ferramenta que nos devolveria uma tendência central para o local de um hub, que levasse em conta não apenas as coordenadas dos estabelecimentos dos estados, mas também o LTV relacionado a cada um deles.\n",
    "\n",
    "Dessa forma, encontramos a função Gmean, que calcula uma média geométrica ponderada das coordenadas dos estabelecimentos de um estado. O uso da média geométrica ao invés de outras médias foi devido a termos encontrado algumas referências interessantes que defendiam o uso de média geométrica para problemas de geolocalização. O peso dado a cada coordenada foi o LTV à quarta de cada estabelecimento. A decisão de utilizar a quarta potência ao LTV foi de uma análise empírica do desempenho do Gmean com potências de LTV variando de 1 a 10 e, à quarta, os resultados foram potencializados. Além disso, o estado SP também foi analisado com o Gmean devido à dificuldade computacional de clusterização com quase dois milhões de estabelecimentos. Assim, recolhemos os dados de todos os estabelecimentos distantes de no máximo 150 km da coordenada obtida. Após isso, foram feitas as escolhas de qual tipo de hub seria alocado em torno deste ponto."
   ]
  },
  {
   "cell_type": "markdown",
   "id": "8fc4f783",
   "metadata": {},
   "source": [
    "# Usando o Gmean pra BA, PR e SP"
   ]
  },
  {
   "cell_type": "markdown",
   "id": "fb903dc2",
   "metadata": {},
   "source": [
    "## Bahia"
   ]
  },
  {
   "cell_type": "code",
   "execution_count": 36,
   "id": "d6a1d7d8",
   "metadata": {},
   "outputs": [
    {
     "name": "stderr",
     "output_type": "stream",
     "text": [
      "C:\\Users\\te-te\\AppData\\Local\\Temp\\ipykernel_61292\\4275440123.py:4: SettingWithCopyWarning: \n",
      "A value is trying to be set on a copy of a slice from a DataFrame.\n",
      "Try using .loc[row_indexer,col_indexer] = value instead\n",
      "\n",
      "See the caveats in the documentation: https://pandas.pydata.org/pandas-docs/stable/user_guide/indexing.html#returning-a-view-versus-a-copy\n",
      "  df_BA['dist']=df_BA.apply(lambda row: haversine_np(row['vl_longitude'],row['vl_latitude'], (-1)*long_BA, (-1)*lat_BA), axis = 1)\n"
     ]
    }
   ],
   "source": [
    "df_BA = mapeamento[mapeamento['st_uf'] == 'BA']\n",
    "lat_BA = gmean((-1)*df_BA['vl_latitude'], weights = (df_BA['LTV'])**4)\n",
    "long_BA =  gmean((-1)*df_BA['vl_longitude'], weights = (df_BA['LTV'])**4)\n",
    "df_BA['dist']=df_BA.apply(lambda row: haversine_np(row['vl_longitude'],row['vl_latitude'], (-1)*long_BA, (-1)*lat_BA), axis = 1)"
   ]
  },
  {
   "cell_type": "code",
   "execution_count": 37,
   "id": "62f26c14",
   "metadata": {},
   "outputs": [
    {
     "name": "stdout",
     "output_type": "stream",
     "text": [
      "         vl_latitude  vl_longitude            LTV st_uf  cd_cnpj_anonimizado  \\\n",
      "3728913   -12.783941    -38.411519  562093.442169    BA                79904   \n",
      "3728914   -12.783941    -38.411519  497118.750062    BA              1264199   \n",
      "3713602   -12.935200    -38.493200  423918.125317    BA              3707248   \n",
      "3728758   -12.982800    -38.512900  367949.363253    BA               249792   \n",
      "3728761   -12.914500    -38.356200  367949.363253    BA               249798   \n",
      "...              ...           ...            ...   ...                  ...   \n",
      "3612367   -12.887500    -38.473000     466.722205    BA              8005736   \n",
      "3612369   -12.896200    -38.479700     466.722205    BA              4251396   \n",
      "3612421   -12.868800    -38.474300     466.722205    BA              8801826   \n",
      "3612422   -12.868800    -38.474300     466.722205    BA             12907883   \n",
      "3612425   -12.868800    -38.474300     466.722205    BA              9069882   \n",
      "\n",
      "               dist  \n",
      "3728913  132.171071  \n",
      "3728914  132.171071  \n",
      "3713602  144.651903  \n",
      "3728758  149.052853  \n",
      "3728761  147.861988  \n",
      "...             ...  \n",
      "3612367  140.353047  \n",
      "3612369  141.020792  \n",
      "3612421  138.351145  \n",
      "3612422  138.351145  \n",
      "3612425  138.351145  \n",
      "\n",
      "[120000 rows x 6 columns]\n"
     ]
    },
    {
     "name": "stderr",
     "output_type": "stream",
     "text": [
      "C:\\Users\\te-te\\AppData\\Local\\Temp\\ipykernel_61292\\1082795730.py:42: SettingWithCopyWarning: \n",
      "A value is trying to be set on a copy of a slice from a DataFrame.\n",
      "Try using .loc[row_indexer,col_indexer] = value instead\n",
      "\n",
      "See the caveats in the documentation: https://pandas.pydata.org/pandas-docs/stable/user_guide/indexing.html#returning-a-view-versus-a-copy\n",
      "  df['dist'] = df.apply(lambda row: haversine_np(row['vl_longitude'], row['vl_latitude'],  long_c, lat_c), axis=1)\n"
     ]
    }
   ],
   "source": [
    "#definição de hub de tipo B\n",
    "df_BA = veri_centroid(df_BA, (-1)*lat_BA, (-1)*long_BA, 120000)\n",
    "print(df_BA)"
   ]
  },
  {
   "cell_type": "code",
   "execution_count": 38,
   "id": "233627cf",
   "metadata": {},
   "outputs": [],
   "source": [
    "df_BA['Classe'] = 'B'\n",
    "df_BA = df_BA[['vl_latitude', 'vl_longitude', 'LTV','st_uf','cd_cnpj_anonimizado','Classe','dist']]"
   ]
  },
  {
   "cell_type": "code",
   "execution_count": 39,
   "id": "3eb87793",
   "metadata": {},
   "outputs": [
    {
     "name": "stdout",
     "output_type": "stream",
     "text": [
      "Aproximadamente 41.4% do LTV estadual\n"
     ]
    }
   ],
   "source": [
    "#Printando a porcentagem de LTV abragida\n",
    "print('Aproximadamente '+str(round((df_BA.LTV.sum() / mapeamento[mapeamento['st_uf'] == 'BA'].LTV.sum()) * 100, 2))+ '%'+' do LTV estadual')"
   ]
  },
  {
   "cell_type": "code",
   "execution_count": 40,
   "id": "f3843213",
   "metadata": {},
   "outputs": [
    {
     "name": "stdout",
     "output_type": "stream",
     "text": [
      "-11.69865928099385\n",
      "-38.909482290026126\n"
     ]
    }
   ],
   "source": [
    "#Latitude e longitude do hub da bahia\n",
    "print((-1)*lat_BA)\n",
    "print((-1)*long_BA)"
   ]
  },
  {
   "cell_type": "markdown",
   "id": "1977a6b2",
   "metadata": {},
   "source": [
    "# Paraná"
   ]
  },
  {
   "cell_type": "code",
   "execution_count": 41,
   "id": "9ced3ac3",
   "metadata": {},
   "outputs": [
    {
     "name": "stderr",
     "output_type": "stream",
     "text": [
      "C:\\Users\\te-te\\AppData\\Local\\Temp\\ipykernel_61292\\3016972813.py:5: SettingWithCopyWarning: \n",
      "A value is trying to be set on a copy of a slice from a DataFrame.\n",
      "Try using .loc[row_indexer,col_indexer] = value instead\n",
      "\n",
      "See the caveats in the documentation: https://pandas.pydata.org/pandas-docs/stable/user_guide/indexing.html#returning-a-view-versus-a-copy\n",
      "  df_PR['dist']=df_PR.apply(lambda row: haversine_np(row['vl_longitude'],row['vl_latitude'], (-1)*long_PR_1, (-1)*lat_PR_1), axis = 1)\n"
     ]
    }
   ],
   "source": [
    "#Instalando um hub do tipo A\n",
    "df_PR = mapeamento[mapeamento['st_uf'] == 'PR']\n",
    "lat_PR_1 = gmean((-1)*df_PR['vl_latitude'], weights = (df_PR['LTV'])**4)\n",
    "long_PR_1 =  gmean((-1)*df_PR['vl_longitude'], weights = (df_PR['LTV'])**4)\n",
    "df_PR['dist']=df_PR.apply(lambda row: haversine_np(row['vl_longitude'],row['vl_latitude'], (-1)*long_PR_1, (-1)*lat_PR_1), axis = 1)"
   ]
  },
  {
   "cell_type": "code",
   "execution_count": 42,
   "id": "75a3a8b8",
   "metadata": {},
   "outputs": [
    {
     "name": "stdout",
     "output_type": "stream",
     "text": [
      "         vl_latitude  vl_longitude           LTV st_uf  cd_cnpj_anonimizado  \\\n",
      "5977508     -25.4765      -49.2464  1.603459e+06    PR             13827564   \n",
      "5977387     -25.3934      -49.2781  6.222138e+05    PR              9678391   \n",
      "5977386     -25.4465      -49.2759  6.222138e+05    PR              9678386   \n",
      "5977385     -25.4435      -49.2637  6.222138e+05    PR              9678389   \n",
      "5977509     -25.5177      -48.5091  5.739981e+05    PR                28847   \n",
      "...              ...           ...           ...   ...                  ...   \n",
      "5545302     -25.5202      -49.3038  3.708582e+02    PR              4953274   \n",
      "5545300     -25.5202      -49.3038  3.708582e+02    PR             10009107   \n",
      "5545299     -25.5202      -49.3038  3.708582e+02    PR             11148175   \n",
      "5545297     -25.5202      -49.3038  3.708582e+02    PR              6826336   \n",
      "5545296     -25.5202      -49.3038  3.708582e+02    PR              8036988   \n",
      "\n",
      "               dist  \n",
      "5977508   56.912172  \n",
      "5977387   47.882764  \n",
      "5977386   52.457470  \n",
      "5977385   52.987139  \n",
      "5977509  120.412563  \n",
      "...             ...  \n",
      "5545302   57.498050  \n",
      "5545300   57.498050  \n",
      "5545299   57.498050  \n",
      "5545297   57.498050  \n",
      "5545296   57.498050  \n",
      "\n",
      "[200000 rows x 6 columns]\n"
     ]
    },
    {
     "name": "stderr",
     "output_type": "stream",
     "text": [
      "C:\\Users\\te-te\\AppData\\Local\\Temp\\ipykernel_61292\\1082795730.py:42: SettingWithCopyWarning: \n",
      "A value is trying to be set on a copy of a slice from a DataFrame.\n",
      "Try using .loc[row_indexer,col_indexer] = value instead\n",
      "\n",
      "See the caveats in the documentation: https://pandas.pydata.org/pandas-docs/stable/user_guide/indexing.html#returning-a-view-versus-a-copy\n",
      "  df['dist'] = df.apply(lambda row: haversine_np(row['vl_longitude'], row['vl_latitude'],  long_c, lat_c), axis=1)\n"
     ]
    }
   ],
   "source": [
    "#definição de hub do tipo A\n",
    "df_PR = veri_centroid(df_PR, (-1)*lat_PR_1, (-1)*long_PR_1, 200000)\n",
    "print(df_PR)"
   ]
  },
  {
   "cell_type": "code",
   "execution_count": 43,
   "id": "58f4d15a",
   "metadata": {},
   "outputs": [],
   "source": [
    "df_PR['Classe'] = 'A'\n",
    "df_PR = df_PR[['vl_latitude', 'vl_longitude', 'LTV','st_uf','cd_cnpj_anonimizado','Classe','dist']]"
   ]
  },
  {
   "cell_type": "code",
   "execution_count": 44,
   "id": "ca1aa4cd",
   "metadata": {},
   "outputs": [
    {
     "name": "stdout",
     "output_type": "stream",
     "text": [
      "Aproximadamente 45.18% do LTV estadual\n"
     ]
    }
   ],
   "source": [
    "#Printando a porcentagem de LTV abragida\n",
    "print('Aproximadamente '+str(round((df_PR.LTV.sum() / mapeamento[mapeamento['st_uf'] == 'PR'].LTV.sum()) * 100, 2))+ '%'+' do LTV estadual')"
   ]
  },
  {
   "cell_type": "code",
   "execution_count": 45,
   "id": "0d7cf3e1",
   "metadata": {},
   "outputs": [
    {
     "name": "stdout",
     "output_type": "stream",
     "text": [
      "-25.08071289091572\n",
      "-49.60585248455869\n"
     ]
    }
   ],
   "source": [
    "#Latitude e longitude do hub do tipo A do PR\n",
    "print((-1)*lat_PR_1)\n",
    "print((-1)*long_PR_1)"
   ]
  },
  {
   "cell_type": "code",
   "execution_count": 46,
   "id": "079f5571",
   "metadata": {},
   "outputs": [
    {
     "name": "stdout",
     "output_type": "stream",
     "text": [
      "         vl_latitude  vl_longitude            LTV st_uf  cd_cnpj_anonimizado\n",
      "5512034   -25.434600    -49.270200     206.264340    PR             11594573\n",
      "5512035   -25.434600    -49.270200     206.264340    PR              6612251\n",
      "5512046   -25.434600    -49.270200      11.093657    PR             11301253\n",
      "5512058   -25.429400    -49.272100     206.264340    PR             10591836\n",
      "5512071   -25.429400    -49.272100       8.059287    PR              6142418\n",
      "...              ...           ...            ...   ...                  ...\n",
      "5977531   -24.558200    -54.059900    1640.641074    PR             13803240\n",
      "5977532   -23.723403    -50.738480    1126.458221    PR               980343\n",
      "5977533   -23.843888    -52.135129    1126.458221    PR             13794527\n",
      "5977534   -24.321813    -52.529094    1306.498854    PR             13797736\n",
      "5977535   -25.405900    -52.411700  225161.704687    PR              6348062\n",
      "\n",
      "[265507 rows x 5 columns]\n"
     ]
    }
   ],
   "source": [
    "#Com o que sobrou de estabelecimentos, instalar um hub do tipo C no PR\n",
    "#Encontrando o que sobrou dos estabelecimentos:\n",
    "select_PR = df_PR['cd_cnpj_anonimizado']\n",
    "df_PR_novo = mapeamento[mapeamento['st_uf'] == 'PR']\n",
    "sobras_PR = df_PR_novo[~df_PR_novo['cd_cnpj_anonimizado'].isin(select_PR)]\n",
    "print(sobras_PR)"
   ]
  },
  {
   "cell_type": "code",
   "execution_count": 47,
   "id": "419840a8",
   "metadata": {},
   "outputs": [
    {
     "name": "stderr",
     "output_type": "stream",
     "text": [
      "C:\\Users\\te-te\\AppData\\Local\\Temp\\ipykernel_61292\\4071475279.py:4: SettingWithCopyWarning: \n",
      "A value is trying to be set on a copy of a slice from a DataFrame.\n",
      "Try using .loc[row_indexer,col_indexer] = value instead\n",
      "\n",
      "See the caveats in the documentation: https://pandas.pydata.org/pandas-docs/stable/user_guide/indexing.html#returning-a-view-versus-a-copy\n",
      "  sobras_PR['dist']=sobras_PR.apply(lambda row: haversine_np(row['vl_longitude'],row['vl_latitude'], (-1)*long_PR_2, (-1)*lat_PR_2), axis = 1)\n"
     ]
    }
   ],
   "source": [
    "#Instalando um hub do tipo C\n",
    "lat_PR_2 = gmean((-1)*sobras_PR['vl_latitude'], weights = (sobras_PR['LTV'])**4)\n",
    "long_PR_2 =  gmean((-1)*sobras_PR['vl_longitude'], weights = (sobras_PR['LTV'])**4)\n",
    "sobras_PR['dist']=sobras_PR.apply(lambda row: haversine_np(row['vl_longitude'],row['vl_latitude'], (-1)*long_PR_2, (-1)*lat_PR_2), axis = 1)"
   ]
  },
  {
   "cell_type": "code",
   "execution_count": 48,
   "id": "e930f5db",
   "metadata": {},
   "outputs": [
    {
     "name": "stdout",
     "output_type": "stream",
     "text": [
      "         vl_latitude  vl_longitude           LTV st_uf  cd_cnpj_anonimizado  \\\n",
      "5977388   -23.328500    -51.160400  1.120700e+06    PR               264952   \n",
      "5975402   -23.407600    -51.960100  4.737326e+05    PR              3993610   \n",
      "5977380   -23.003700    -51.194600  3.934734e+05    PR             13819369   \n",
      "5975197   -23.422300    -51.938200  3.173550e+05    PR             13820382   \n",
      "5975385   -23.051800    -50.226700  2.849997e+05    PR             13715478   \n",
      "...              ...           ...           ...   ...                  ...   \n",
      "5858104   -23.329700    -51.200300  1.306747e+03    PR              4565559   \n",
      "5858105   -23.329700    -51.200300  1.306747e+03    PR              7416139   \n",
      "5858134   -23.316200    -51.181800  1.306747e+03    PR              3637707   \n",
      "5858136   -23.316200    -51.181800  1.306747e+03    PR              6167522   \n",
      "5858610   -23.146427    -50.521071  1.306747e+03    PR              8444257   \n",
      "\n",
      "               dist  \n",
      "5977388   12.305363  \n",
      "5975402   71.703574  \n",
      "5977380   43.908342  \n",
      "5975197   69.519833  \n",
      "5975385  111.914902  \n",
      "...             ...  \n",
      "5858104    9.256896  \n",
      "5858105    9.256896  \n",
      "5858134   11.621019  \n",
      "5858136   11.621019  \n",
      "5858610   80.045150  \n",
      "\n",
      "[80000 rows x 6 columns]\n"
     ]
    },
    {
     "name": "stderr",
     "output_type": "stream",
     "text": [
      "C:\\Users\\te-te\\AppData\\Local\\Temp\\ipykernel_61292\\1082795730.py:42: SettingWithCopyWarning: \n",
      "A value is trying to be set on a copy of a slice from a DataFrame.\n",
      "Try using .loc[row_indexer,col_indexer] = value instead\n",
      "\n",
      "See the caveats in the documentation: https://pandas.pydata.org/pandas-docs/stable/user_guide/indexing.html#returning-a-view-versus-a-copy\n",
      "  df['dist'] = df.apply(lambda row: haversine_np(row['vl_longitude'], row['vl_latitude'],  long_c, lat_c), axis=1)\n"
     ]
    }
   ],
   "source": [
    "#definição de hub do tipo C\n",
    "sobras_PR = veri_centroid(sobras_PR, (-1)*lat_PR_2, (-1)*long_PR_2, 80000)\n",
    "print(sobras_PR)"
   ]
  },
  {
   "cell_type": "code",
   "execution_count": 49,
   "id": "3254deb3",
   "metadata": {},
   "outputs": [],
   "source": [
    "sobras_PR['Classe'] = 'C'\n",
    "sobras_PR = sobras_PR[['vl_latitude', 'vl_longitude', 'LTV','st_uf','cd_cnpj_anonimizado','Classe','dist']]"
   ]
  },
  {
   "cell_type": "code",
   "execution_count": 50,
   "id": "7ec7f004",
   "metadata": {},
   "outputs": [
    {
     "name": "stdout",
     "output_type": "stream",
     "text": [
      "Aproximadamente 25.26% do LTV estadual\n"
     ]
    }
   ],
   "source": [
    "#Printando a porcentagem de LTV abragida\n",
    "print('Aproximadamente '+str(round((sobras_PR.LTV.sum() / mapeamento[mapeamento['st_uf'] == 'PR'].LTV.sum()) * 100, 2))+ '%'+' do LTV estadual')"
   ]
  },
  {
   "cell_type": "code",
   "execution_count": 51,
   "id": "8b7a5e02",
   "metadata": {},
   "outputs": [
    {
     "name": "stdout",
     "output_type": "stream",
     "text": [
      "-23.394618888163787\n",
      "-51.25716013774655\n"
     ]
    }
   ],
   "source": [
    "#Latitude e longitude do hub do tipo C do PR\n",
    "print((-1)*lat_PR_2)\n",
    "print((-1)*long_PR_2)"
   ]
  },
  {
   "cell_type": "markdown",
   "id": "e4f513ea",
   "metadata": {},
   "source": [
    "## São Paulo"
   ]
  },
  {
   "cell_type": "code",
   "execution_count": 52,
   "id": "d0aa0b10",
   "metadata": {},
   "outputs": [
    {
     "name": "stderr",
     "output_type": "stream",
     "text": [
      "C:\\Users\\te-te\\AppData\\Local\\Temp\\ipykernel_61292\\234969168.py:5: SettingWithCopyWarning: \n",
      "A value is trying to be set on a copy of a slice from a DataFrame.\n",
      "Try using .loc[row_indexer,col_indexer] = value instead\n",
      "\n",
      "See the caveats in the documentation: https://pandas.pydata.org/pandas-docs/stable/user_guide/indexing.html#returning-a-view-versus-a-copy\n",
      "  df_SP['dist']=df_SP.apply(lambda row: haversine_np(row['vl_longitude'],row['vl_latitude'], (-1)*long_SP_1, (-1)*lat_SP_1), axis = 1)\n"
     ]
    }
   ],
   "source": [
    "#Primeiro hub do tipo A\n",
    "df_SP = mapeamento[mapeamento['st_uf'] == 'SP']\n",
    "lat_SP_1 = gmean((-1)*df_SP['vl_latitude'], weights = (df_SP['LTV'])**4)\n",
    "long_SP_1 =  gmean((-1)*df_SP['vl_longitude'], weights = (df_SP['LTV'])**4)\n",
    "df_SP['dist']=df_SP.apply(lambda row: haversine_np(row['vl_longitude'],row['vl_latitude'], (-1)*long_SP_1, (-1)*lat_SP_1), axis = 1)\n"
   ]
  },
  {
   "cell_type": "code",
   "execution_count": 53,
   "id": "a5f29cd4",
   "metadata": {},
   "outputs": [
    {
     "name": "stdout",
     "output_type": "stream",
     "text": [
      "         vl_latitude  vl_longitude           LTV st_uf  cd_cnpj_anonimizado  \\\n",
      "1909750   -23.982900    -48.876300  1.475125e+06    SP              2038189   \n",
      "1909752   -22.727300    -47.651900  8.927738e+05    SP               135579   \n",
      "1909135   -23.615302    -47.019648  7.743180e+05    SP              6567210   \n",
      "1909133   -23.518900    -46.673500  6.386664e+05    SP              3895209   \n",
      "1909134   -23.499200    -46.830900  4.515195e+05    SP             13674682   \n",
      "...              ...           ...           ...   ...                  ...   \n",
      "861138    -23.394020    -46.746770  2.556012e+03    SP              4347727   \n",
      "861117    -23.397350    -46.707290  2.556012e+03    SP              6711562   \n",
      "876007    -23.473400    -47.449000  2.556012e+03    SP              4048033   \n",
      "854917    -23.468800    -46.581000  2.556012e+03    SP              9428485   \n",
      "861091    -23.352280    -46.748590  2.556012e+03    SP              9339730   \n",
      "\n",
      "               dist  \n",
      "1909750   97.220206  \n",
      "1909752  103.364131  \n",
      "1909135  101.892689  \n",
      "1909133  137.413476  \n",
      "1909134  121.591885  \n",
      "...             ...  \n",
      "861138   131.643367  \n",
      "861117   135.549256  \n",
      "876007    59.692481  \n",
      "854917   147.267650  \n",
      "861091   132.342515  \n",
      "\n",
      "[200000 rows x 6 columns]\n"
     ]
    },
    {
     "name": "stderr",
     "output_type": "stream",
     "text": [
      "C:\\Users\\te-te\\AppData\\Local\\Temp\\ipykernel_61292\\1082795730.py:42: SettingWithCopyWarning: \n",
      "A value is trying to be set on a copy of a slice from a DataFrame.\n",
      "Try using .loc[row_indexer,col_indexer] = value instead\n",
      "\n",
      "See the caveats in the documentation: https://pandas.pydata.org/pandas-docs/stable/user_guide/indexing.html#returning-a-view-versus-a-copy\n",
      "  df['dist'] = df.apply(lambda row: haversine_np(row['vl_longitude'], row['vl_latitude'],  long_c, lat_c), axis=1)\n"
     ]
    }
   ],
   "source": [
    "#definição de hub do tipo A\n",
    "df_SP = veri_centroid(df_SP, (-1)*lat_SP_1, (-1)*long_SP_1, 200000)\n",
    "print(df_SP)"
   ]
  },
  {
   "cell_type": "code",
   "execution_count": 54,
   "id": "e9a97e2f",
   "metadata": {},
   "outputs": [],
   "source": [
    "df_SP['Classe'] = 'A'\n",
    "df_SP = df_SP[['vl_latitude', 'vl_longitude', 'LTV','st_uf','cd_cnpj_anonimizado','Classe','dist']]"
   ]
  },
  {
   "cell_type": "code",
   "execution_count": 55,
   "id": "eb2c78e6",
   "metadata": {},
   "outputs": [
    {
     "name": "stdout",
     "output_type": "stream",
     "text": [
      "Aproximadamente 41.68% do LTV estadual\n"
     ]
    }
   ],
   "source": [
    "#Printando a porcentagem de LTV abragida\n",
    "print('Aproximadamente '+str(round((df_SP.LTV.sum() / mapeamento[mapeamento['st_uf'] == 'SP'].LTV.sum()) * 100, 2))+ '%'+' do LTV estadual')"
   ]
  },
  {
   "cell_type": "code",
   "execution_count": 56,
   "id": "1d9b1a13",
   "metadata": {},
   "outputs": [
    {
     "name": "stdout",
     "output_type": "stream",
     "text": [
      "lat =  -23.59370368236804\n",
      "long =  -48.02001342448339\n"
     ]
    }
   ],
   "source": [
    "#latitude e longitude hub1 sp tipo A\n",
    "print(\"lat = \", (-1)*lat_SP_1)\n",
    "print(\"long = \", (-1)*long_SP_1)"
   ]
  },
  {
   "cell_type": "code",
   "execution_count": 57,
   "id": "19759d3f",
   "metadata": {},
   "outputs": [
    {
     "name": "stdout",
     "output_type": "stream",
     "text": [
      "         vl_latitude  vl_longitude            LTV st_uf  cd_cnpj_anonimizado\n",
      "1867        -23.6034      -46.5455    5637.199713    SP              3448265\n",
      "1873        -23.6020      -46.5353    6525.855116    SP              4080766\n",
      "1874        -23.6020      -46.5353    4225.376915    SP              2267180\n",
      "1875        -23.6020      -46.5353    7983.827980    SP             13437447\n",
      "1881        -23.5958      -46.5465    6525.855116    SP              5885561\n",
      "...              ...           ...            ...   ...                  ...\n",
      "1909745     -21.5650      -48.4687  404286.633861    SP             13669005\n",
      "1909748     -23.4297      -46.4001  320846.471569    SP             13625598\n",
      "1909753     -21.6059      -48.3635  371921.466907    SP              6554016\n",
      "1909754     -21.6831      -49.7668  391046.107456    SP               308717\n",
      "1909755     -20.8925      -51.3698  391046.107456    SP               308716\n",
      "\n",
      "[1709757 rows x 5 columns]\n"
     ]
    }
   ],
   "source": [
    "#Com o que sobrou de estabelecimentos, instalar um segundo hub do tipo A no SP\n",
    "#Encontrando o que sobrou dos estabelecimentos:\n",
    "select_SP_1 = df_SP['cd_cnpj_anonimizado']\n",
    "df_SP_novo = mapeamento[mapeamento['st_uf'] == 'SP']\n",
    "sobras_SP_1 = df_SP_novo[~df_SP_novo['cd_cnpj_anonimizado'].isin(select_SP_1)]\n",
    "SOBRAS_SP_1_reserva = sobras_SP_1 #reserva para a instalação de um próximo hub\n",
    "print(sobras_SP_1)"
   ]
  },
  {
   "cell_type": "code",
   "execution_count": 58,
   "id": "6de16129",
   "metadata": {},
   "outputs": [
    {
     "name": "stderr",
     "output_type": "stream",
     "text": [
      "C:\\Users\\te-te\\AppData\\Local\\Temp\\ipykernel_61292\\24207277.py:4: SettingWithCopyWarning: \n",
      "A value is trying to be set on a copy of a slice from a DataFrame.\n",
      "Try using .loc[row_indexer,col_indexer] = value instead\n",
      "\n",
      "See the caveats in the documentation: https://pandas.pydata.org/pandas-docs/stable/user_guide/indexing.html#returning-a-view-versus-a-copy\n",
      "  sobras_SP_1['dist']=sobras_SP_1.apply(lambda row: haversine_np(row['vl_longitude'],row['vl_latitude'], (-1)*long_SP_2, (-1)*lat_SP_2), axis = 1)\n"
     ]
    }
   ],
   "source": [
    "#Segundo hub do tipo A\n",
    "lat_SP_2 = gmean((-1)*sobras_SP_1['vl_latitude'], weights = (sobras_SP_1['LTV'])**4)\n",
    "long_SP_2 =  gmean((-1)*sobras_SP_1['vl_longitude'], weights = (sobras_SP_1['LTV'])**4)\n",
    "sobras_SP_1['dist']=sobras_SP_1.apply(lambda row: haversine_np(row['vl_longitude'],row['vl_latitude'], (-1)*long_SP_2, (-1)*lat_SP_2), axis = 1)"
   ]
  },
  {
   "cell_type": "code",
   "execution_count": 59,
   "id": "06f1392c",
   "metadata": {},
   "outputs": [
    {
     "name": "stdout",
     "output_type": "stream",
     "text": [
      "         vl_latitude  vl_longitude            LTV st_uf  cd_cnpj_anonimizado  \\\n",
      "1909137     -23.6440      -46.3100  768758.154291    SP             13747274   \n",
      "1909674     -22.3541      -47.3836  589713.817603    SP             13602119   \n",
      "1909739     -23.4211      -46.3716  497302.291578    SP             13657562   \n",
      "1909676     -23.8040      -46.5101  414573.795892    SP             13656019   \n",
      "1909136     -23.4773      -46.5222  383457.631368    SP              7627864   \n",
      "...              ...           ...            ...   ...                  ...   \n",
      "155959      -23.5707      -46.4082    1690.080180    SP              3860936   \n",
      "148248      -23.6952      -46.6663    1690.080180    SP               128977   \n",
      "156307      -23.4688      -46.3272    1690.080180    SP               946454   \n",
      "156298      -23.4681      -46.3038    1690.080180    SP             12490631   \n",
      "156290      -23.4896      -46.3009    1690.080180    SP             11658746   \n",
      "\n",
      "               dist  \n",
      "1909137  113.439369  \n",
      "1909674   69.266133  \n",
      "1909739   92.274730  \n",
      "1909676  115.077861  \n",
      "1909136   85.113599  \n",
      "...             ...  \n",
      "155959   100.631579  \n",
      "148248    96.839975  \n",
      "156307    99.103125  \n",
      "156298   100.938143  \n",
      "156290   102.639515  \n",
      "\n",
      "[200000 rows x 6 columns]\n"
     ]
    },
    {
     "name": "stderr",
     "output_type": "stream",
     "text": [
      "C:\\Users\\te-te\\AppData\\Local\\Temp\\ipykernel_61292\\1082795730.py:42: SettingWithCopyWarning: \n",
      "A value is trying to be set on a copy of a slice from a DataFrame.\n",
      "Try using .loc[row_indexer,col_indexer] = value instead\n",
      "\n",
      "See the caveats in the documentation: https://pandas.pydata.org/pandas-docs/stable/user_guide/indexing.html#returning-a-view-versus-a-copy\n",
      "  df['dist'] = df.apply(lambda row: haversine_np(row['vl_longitude'], row['vl_latitude'],  long_c, lat_c), axis=1)\n"
     ]
    }
   ],
   "source": [
    "#definição de hub do tipo A\n",
    "sobras_SP_1 = veri_centroid(sobras_SP_1, (-1)*lat_SP_2, (-1)*long_SP_2, 200000)\n",
    "print(sobras_SP_1)"
   ]
  },
  {
   "cell_type": "code",
   "execution_count": 60,
   "id": "8063c3a1",
   "metadata": {},
   "outputs": [],
   "source": [
    "sobras_SP_1['Classe'] = 'A'\n",
    "sobras_SP_1 = sobras_SP_1[['vl_latitude', 'vl_longitude', 'LTV','st_uf','cd_cnpj_anonimizado','Classe','dist']]"
   ]
  },
  {
   "cell_type": "code",
   "execution_count": 61,
   "id": "f0a73023",
   "metadata": {},
   "outputs": [
    {
     "name": "stdout",
     "output_type": "stream",
     "text": [
      "Aproximadamente 20.93% do LTV estadual\n"
     ]
    }
   ],
   "source": [
    "#Printando a porcentagem de LTV abragida\n",
    "print('Aproximadamente '+str(round((sobras_SP_1.LTV.sum() / mapeamento[mapeamento['st_uf'] == 'SP'].LTV.sum()) * 100, 2))+ '%'+' do LTV estadual')"
   ]
  },
  {
   "cell_type": "code",
   "execution_count": 62,
   "id": "6d84aa3d",
   "metadata": {},
   "outputs": [
    {
     "name": "stdout",
     "output_type": "stream",
     "text": [
      "lat =  -22.914005767184516\n",
      "long =  -47.086826785393804\n"
     ]
    }
   ],
   "source": [
    "#latitude e longitude hub2 sp tipo A\n",
    "print(\"lat = \", (-1)*lat_SP_2)\n",
    "print(\"long = \", (-1)*long_SP_2)"
   ]
  },
  {
   "cell_type": "code",
   "execution_count": 63,
   "id": "af156c0b",
   "metadata": {},
   "outputs": [],
   "source": [
    "#Com o que sobrou de estabelecimentos, instalar um hub do tipo C no SP\n",
    "#Encontrando o que sobrou dos estabelecimentos:\n",
    "select_SP_2 = sobras_SP_1['cd_cnpj_anonimizado']\n",
    "sobras_SP_2 = SOBRAS_SP_1_reserva[~SOBRAS_SP_1_reserva['cd_cnpj_anonimizado'].isin(select_SP_2)]\n",
    "SOBRAS_SP_2_reserva = SOBRAS_SP_1_reserva[~SOBRAS_SP_1_reserva['cd_cnpj_anonimizado'].isin(select_SP_2)]"
   ]
  },
  {
   "cell_type": "code",
   "execution_count": 64,
   "id": "00accf67",
   "metadata": {},
   "outputs": [
    {
     "name": "stderr",
     "output_type": "stream",
     "text": [
      "C:\\Users\\te-te\\AppData\\Local\\Temp\\ipykernel_61292\\3932271503.py:4: SettingWithCopyWarning: \n",
      "A value is trying to be set on a copy of a slice from a DataFrame.\n",
      "Try using .loc[row_indexer,col_indexer] = value instead\n",
      "\n",
      "See the caveats in the documentation: https://pandas.pydata.org/pandas-docs/stable/user_guide/indexing.html#returning-a-view-versus-a-copy\n",
      "  sobras_SP_2['dist']=sobras_SP_2.apply(lambda row: haversine_np(row['vl_longitude'],row['vl_latitude'], (-1)*long_SP_3, (-1)*lat_SP_3), axis = 1)\n"
     ]
    }
   ],
   "source": [
    "#latitude e longitude para um hub do tipo C\n",
    "lat_SP_3 = gmean((-1)*sobras_SP_2['vl_latitude'], weights = (sobras_SP_2['LTV'])**4)\n",
    "long_SP_3 =  gmean((-1)*sobras_SP_2['vl_longitude'], weights = (sobras_SP_2['LTV'])**4)\n",
    "sobras_SP_2['dist']=sobras_SP_2.apply(lambda row: haversine_np(row['vl_longitude'],row['vl_latitude'], (-1)*long_SP_3, (-1)*lat_SP_3), axis = 1)"
   ]
  },
  {
   "cell_type": "code",
   "execution_count": 65,
   "id": "f39cae6a",
   "metadata": {},
   "outputs": [
    {
     "name": "stdout",
     "output_type": "stream",
     "text": [
      "         vl_latitude  vl_longitude            LTV st_uf  cd_cnpj_anonimizado  \\\n",
      "1909138     -21.1671      -47.7973  497758.191719    SP               830413   \n",
      "1909745     -21.5650      -48.4687  404286.633861    SP             13669005   \n",
      "1909754     -21.6831      -49.7668  391046.107456    SP               308717   \n",
      "1909753     -21.6059      -48.3635  371921.466907    SP              6554016   \n",
      "1908471     -21.1163      -47.7909  333192.545493    SP             12793535   \n",
      "...              ...           ...            ...   ...                  ...   \n",
      "962030      -21.6059      -48.3635    1212.391733    SP               196209   \n",
      "962032      -21.6059      -48.3635    1212.391733    SP              6617294   \n",
      "957353      -22.5734      -47.4031    1212.391733    SP             12528313   \n",
      "957352      -22.5734      -47.4031    1212.391733    SP             13099216   \n",
      "962033      -21.6059      -48.3635    1212.391733    SP               861369   \n",
      "\n",
      "               dist  \n",
      "1909138  100.816125  \n",
      "1909745   28.479208  \n",
      "1909754  134.425368  \n",
      "1909753   26.462436  \n",
      "1908471  105.409163  \n",
      "...             ...  \n",
      "962030    26.462436  \n",
      "962032    26.462436  \n",
      "957353   138.208111  \n",
      "957352   138.208111  \n",
      "962033    26.462436  \n",
      "\n",
      "[80000 rows x 6 columns]\n"
     ]
    },
    {
     "name": "stderr",
     "output_type": "stream",
     "text": [
      "C:\\Users\\te-te\\AppData\\Local\\Temp\\ipykernel_61292\\1082795730.py:42: SettingWithCopyWarning: \n",
      "A value is trying to be set on a copy of a slice from a DataFrame.\n",
      "Try using .loc[row_indexer,col_indexer] = value instead\n",
      "\n",
      "See the caveats in the documentation: https://pandas.pydata.org/pandas-docs/stable/user_guide/indexing.html#returning-a-view-versus-a-copy\n",
      "  df['dist'] = df.apply(lambda row: haversine_np(row['vl_longitude'], row['vl_latitude'],  long_c, lat_c), axis=1)\n"
     ]
    }
   ],
   "source": [
    "#definição de hub do tipo C\n",
    "sobras_SP_2 = veri_centroid(sobras_SP_2, (-1)*lat_SP_3, (-1)*long_SP_3, 80000)\n",
    "print(sobras_SP_2)"
   ]
  },
  {
   "cell_type": "code",
   "execution_count": 66,
   "id": "3ad8cf8e",
   "metadata": {},
   "outputs": [],
   "source": [
    "sobras_SP_2['Classe'] = 'C'\n",
    "sobras_SP_2 = sobras_SP_2[['vl_latitude', 'vl_longitude', 'LTV','st_uf','cd_cnpj_anonimizado','Classe','dist']]"
   ]
  },
  {
   "cell_type": "code",
   "execution_count": 67,
   "id": "fa29c93b",
   "metadata": {},
   "outputs": [
    {
     "name": "stdout",
     "output_type": "stream",
     "text": [
      "Aproximadamente 7.86% do LTV estadual\n"
     ]
    }
   ],
   "source": [
    "#Printando a porcentagem de LTV abragida\n",
    "print('Aproximadamente '+str(round((sobras_SP_2.LTV.sum() / mapeamento[mapeamento['st_uf'] == 'SP'].LTV.sum()) * 100, 2))+ '%'+' do LTV estadual')"
   ]
  },
  {
   "cell_type": "code",
   "execution_count": 68,
   "id": "b808e543",
   "metadata": {},
   "outputs": [
    {
     "name": "stdout",
     "output_type": "stream",
     "text": [
      "lat =  -21.82125080795366\n",
      "long =  -48.47290356310254\n"
     ]
    }
   ],
   "source": [
    "#latitude e longitude hub do tipo C em sp\n",
    "print(\"lat = \", (-1)*lat_SP_3)\n",
    "print(\"long = \", (-1)*long_SP_3)"
   ]
  },
  {
   "cell_type": "markdown",
   "id": "e8c16852",
   "metadata": {},
   "source": [
    "## Concatenação dos dataframes dos hubs"
   ]
  },
  {
   "cell_type": "code",
   "execution_count": 69,
   "id": "2b0b37ba",
   "metadata": {},
   "outputs": [],
   "source": [
    "alocados = pd.DataFrame()\n",
    "frames = (alocados, df_PR, df_SP, sobras_SP_1, df_RJ, df_SC, df_PE, df_GO, df_RS, df_MG, df_BA, df_CE, df_DF, df_ES, sobras_PR, sobras_SP_2, df_RN, df_AL, df_AM, df_PB, df_MS)\n",
    "alocados = pd.concat(frames)"
   ]
  },
  {
   "cell_type": "code",
   "execution_count": 70,
   "id": "9343be4b",
   "metadata": {},
   "outputs": [
    {
     "name": "stdout",
     "output_type": "stream",
     "text": [
      "   vl_latitude  vl_longitude          LTV st_uf  cd_cnpj_anonimizado\n",
      "0     -23.5506      -46.6343  9853.961949    SP               313746\n",
      "1     -23.5506      -46.6343  4225.376915    SP              5800807\n",
      "2     -23.5506      -46.6343  6271.998990    SP              1206608\n",
      "3     -23.5476      -46.6362  4225.376915    SP              1130143\n",
      "4     -23.5476      -46.6362  6341.275365    SP              6056402\n"
     ]
    }
   ],
   "source": [
    "print(mapeamento.head())"
   ]
  },
  {
   "cell_type": "markdown",
   "id": "67b1df3f",
   "metadata": {},
   "source": [
    "# Análise dos hubs alocados"
   ]
  },
  {
   "cell_type": "code",
   "execution_count": 71,
   "id": "6aeba5cf",
   "metadata": {},
   "outputs": [
    {
     "name": "stdout",
     "output_type": "stream",
     "text": [
      "   cd_cnpj_anonimizado   st_ramo_x Classe  vl_potencial_faturamento_anual  \\\n",
      "0             13827564  Construcao      A                       120491780   \n",
      "1              9678391  Variedades      A                        56611425   \n",
      "2              9678386  Variedades      A                        56611425   \n",
      "3              9678389  Variedades      A                        56611425   \n",
      "4                28847  Construcao      A                        43133026   \n",
      "\n",
      "            LTV  \n",
      "0  1.603459e+06  \n",
      "1  6.222138e+05  \n",
      "2  6.222138e+05  \n",
      "3  6.222138e+05  \n",
      "4  5.739981e+05  \n"
     ]
    }
   ],
   "source": [
    "geolocator = Nominatim(user_agent=\"geoapiExercises\")\n",
    "\n",
    "mapeamento = pd.read_csv('base_final_estab.csv')\n",
    "\n",
    "\n",
    "LTV_total = mapeamento.LTV.sum()\n",
    "LTV_disponivel = mapeamento.LTV.nlargest(2400000).sum()\n",
    "\n",
    "df = pd.merge(alocados, mapeamento,  how='inner', left_on='cd_cnpj_anonimizado', right_on='cd_cnpj_anonimizado')\n",
    "df = df[['cd_cnpj_anonimizado','st_ramo_x', 'Classe', 'vl_potencial_faturamento_anual', 'LTV_y']]\n",
    "    \n",
    "df.rename(columns = {'LTV_y':'LTV'}, inplace = True)\n",
    "print(df.head())"
   ]
  },
  {
   "cell_type": "code",
   "execution_count": 72,
   "id": "53a40c15",
   "metadata": {},
   "outputs": [],
   "source": [
    "def localizacao(Latitude, Longitude):\n",
    "    location = geolocator.reverse(Latitude+\",\"+Longitude) \n",
    "    address = location.raw['address'] \n",
    "    print(f\"O CEP é: {address['postcode']}\")\n",
    "    return address['postcode']"
   ]
  },
  {
   "cell_type": "markdown",
   "id": "079b5bf5",
   "metadata": {},
   "source": [
    "## Mapeamento dos Hubs"
   ]
  },
  {
   "cell_type": "code",
   "execution_count": 73,
   "id": "f074624a",
   "metadata": {},
   "outputs": [
    {
     "data": {
      "text/html": [
       "<div style=\"width:100%;\"><div style=\"position:relative;width:100%;height:0;padding-bottom:60%;\"><span style=\"color:#565656\">Make this Notebook Trusted to load map: File -> Trust Notebook</span><iframe srcdoc=\"&lt;!DOCTYPE html&gt;\n",
       "&lt;html&gt;\n",
       "&lt;head&gt;\n",
       "    \n",
       "    &lt;meta http-equiv=&quot;content-type&quot; content=&quot;text/html; charset=UTF-8&quot; /&gt;\n",
       "    \n",
       "        &lt;script&gt;\n",
       "            L_NO_TOUCH = false;\n",
       "            L_DISABLE_3D = false;\n",
       "        &lt;/script&gt;\n",
       "    \n",
       "    &lt;style&gt;html, body {width: 100%;height: 100%;margin: 0;padding: 0;}&lt;/style&gt;\n",
       "    &lt;style&gt;#map {position:absolute;top:0;bottom:0;right:0;left:0;}&lt;/style&gt;\n",
       "    &lt;script src=&quot;https://cdn.jsdelivr.net/npm/leaflet@1.9.3/dist/leaflet.js&quot;&gt;&lt;/script&gt;\n",
       "    &lt;script src=&quot;https://code.jquery.com/jquery-1.12.4.min.js&quot;&gt;&lt;/script&gt;\n",
       "    &lt;script src=&quot;https://cdn.jsdelivr.net/npm/bootstrap@5.2.2/dist/js/bootstrap.bundle.min.js&quot;&gt;&lt;/script&gt;\n",
       "    &lt;script src=&quot;https://cdnjs.cloudflare.com/ajax/libs/Leaflet.awesome-markers/2.0.2/leaflet.awesome-markers.js&quot;&gt;&lt;/script&gt;\n",
       "    &lt;link rel=&quot;stylesheet&quot; href=&quot;https://cdn.jsdelivr.net/npm/leaflet@1.9.3/dist/leaflet.css&quot;/&gt;\n",
       "    &lt;link rel=&quot;stylesheet&quot; href=&quot;https://cdn.jsdelivr.net/npm/bootstrap@5.2.2/dist/css/bootstrap.min.css&quot;/&gt;\n",
       "    &lt;link rel=&quot;stylesheet&quot; href=&quot;https://netdna.bootstrapcdn.com/bootstrap/3.0.0/css/bootstrap.min.css&quot;/&gt;\n",
       "    &lt;link rel=&quot;stylesheet&quot; href=&quot;https://cdn.jsdelivr.net/npm/@fortawesome/fontawesome-free@6.2.0/css/all.min.css&quot;/&gt;\n",
       "    &lt;link rel=&quot;stylesheet&quot; href=&quot;https://cdnjs.cloudflare.com/ajax/libs/Leaflet.awesome-markers/2.0.2/leaflet.awesome-markers.css&quot;/&gt;\n",
       "    &lt;link rel=&quot;stylesheet&quot; href=&quot;https://cdn.jsdelivr.net/gh/python-visualization/folium/folium/templates/leaflet.awesome.rotate.min.css&quot;/&gt;\n",
       "    \n",
       "            &lt;meta name=&quot;viewport&quot; content=&quot;width=device-width,\n",
       "                initial-scale=1.0, maximum-scale=1.0, user-scalable=no&quot; /&gt;\n",
       "            &lt;style&gt;\n",
       "                #map_531245798203a940a71a2e17fba118c9 {\n",
       "                    position: relative;\n",
       "                    width: 100.0%;\n",
       "                    height: 100.0%;\n",
       "                    left: 0.0%;\n",
       "                    top: 0.0%;\n",
       "                }\n",
       "                .leaflet-container { font-size: 1rem; }\n",
       "            &lt;/style&gt;\n",
       "        \n",
       "&lt;/head&gt;\n",
       "&lt;body&gt;\n",
       "    \n",
       "    \n",
       "            &lt;div class=&quot;folium-map&quot; id=&quot;map_531245798203a940a71a2e17fba118c9&quot; &gt;&lt;/div&gt;\n",
       "        \n",
       "&lt;/body&gt;\n",
       "&lt;script&gt;\n",
       "    \n",
       "    \n",
       "            var map_531245798203a940a71a2e17fba118c9 = L.map(\n",
       "                &quot;map_531245798203a940a71a2e17fba118c9&quot;,\n",
       "                {\n",
       "                    center: [-16.0, -43.0],\n",
       "                    crs: L.CRS.EPSG3857,\n",
       "                    zoom: 3,\n",
       "                    zoomControl: true,\n",
       "                    preferCanvas: false,\n",
       "                }\n",
       "            );\n",
       "\n",
       "            \n",
       "\n",
       "        \n",
       "    \n",
       "            var tile_layer_84d85491bf2503a06df976e414612541 = L.tileLayer(\n",
       "                &quot;https://{s}.tile.openstreetmap.org/{z}/{x}/{y}.png&quot;,\n",
       "                {&quot;attribution&quot;: &quot;Data by \\u0026copy; \\u003ca target=\\&quot;_blank\\&quot; href=\\&quot;http://openstreetmap.org\\&quot;\\u003eOpenStreetMap\\u003c/a\\u003e, under \\u003ca target=\\&quot;_blank\\&quot; href=\\&quot;http://www.openstreetmap.org/copyright\\&quot;\\u003eODbL\\u003c/a\\u003e.&quot;, &quot;detectRetina&quot;: false, &quot;maxNativeZoom&quot;: 18, &quot;maxZoom&quot;: 18, &quot;minZoom&quot;: 0, &quot;noWrap&quot;: false, &quot;opacity&quot;: 1, &quot;subdomains&quot;: &quot;abc&quot;, &quot;tms&quot;: false}\n",
       "            ).addTo(map_531245798203a940a71a2e17fba118c9);\n",
       "        \n",
       "    \n",
       "            var circle_01a698ee2e083b4d771cd9878c5393eb = L.circle(\n",
       "                [-16.58297619, -49.18121983],\n",
       "                {&quot;bubblingMouseEvents&quot;: true, &quot;color&quot;: &quot;green&quot;, &quot;dashArray&quot;: null, &quot;dashOffset&quot;: null, &quot;fill&quot;: true, &quot;fillColor&quot;: &quot;#3186cc&quot;, &quot;fillOpacity&quot;: 0.2, &quot;fillRule&quot;: &quot;evenodd&quot;, &quot;lineCap&quot;: &quot;round&quot;, &quot;lineJoin&quot;: &quot;round&quot;, &quot;opacity&quot;: 1.0, &quot;radius&quot;: 150000, &quot;stroke&quot;: true, &quot;weight&quot;: 3}\n",
       "            ).addTo(map_531245798203a940a71a2e17fba118c9);\n",
       "        \n",
       "    \n",
       "            var circle_2d4cf2c82db66ce7f33aaf93d883c255 = L.circle(\n",
       "                [-16.58297619, -49.18121983],\n",
       "                {&quot;bubblingMouseEvents&quot;: true, &quot;color&quot;: &quot;red&quot;, &quot;dashArray&quot;: null, &quot;dashOffset&quot;: null, &quot;fill&quot;: true, &quot;fillColor&quot;: &quot;red&quot;, &quot;fillOpacity&quot;: 0.2, &quot;fillRule&quot;: &quot;evenodd&quot;, &quot;lineCap&quot;: &quot;round&quot;, &quot;lineJoin&quot;: &quot;round&quot;, &quot;opacity&quot;: 1.0, &quot;radius&quot;: 1500, &quot;stroke&quot;: true, &quot;weight&quot;: 3}\n",
       "            ).addTo(map_531245798203a940a71a2e17fba118c9);\n",
       "        \n",
       "    \n",
       "            var circle_e73c3c3913b90b1c3405bd70dcfc1388 = L.circle(\n",
       "                [-8.19549872, -35.9720766],\n",
       "                {&quot;bubblingMouseEvents&quot;: true, &quot;color&quot;: &quot;green&quot;, &quot;dashArray&quot;: null, &quot;dashOffset&quot;: null, &quot;fill&quot;: true, &quot;fillColor&quot;: &quot;green&quot;, &quot;fillOpacity&quot;: 0.2, &quot;fillRule&quot;: &quot;evenodd&quot;, &quot;lineCap&quot;: &quot;round&quot;, &quot;lineJoin&quot;: &quot;round&quot;, &quot;opacity&quot;: 1.0, &quot;radius&quot;: 150000, &quot;stroke&quot;: true, &quot;weight&quot;: 3}\n",
       "            ).addTo(map_531245798203a940a71a2e17fba118c9);\n",
       "        \n",
       "    \n",
       "            var circle_e88a60222da9649e8c1dde9fdcd770ac = L.circle(\n",
       "                [-8.19549872, -35.9720766],\n",
       "                {&quot;bubblingMouseEvents&quot;: true, &quot;color&quot;: &quot;red&quot;, &quot;dashArray&quot;: null, &quot;dashOffset&quot;: null, &quot;fill&quot;: true, &quot;fillColor&quot;: &quot;red&quot;, &quot;fillOpacity&quot;: 0.2, &quot;fillRule&quot;: &quot;evenodd&quot;, &quot;lineCap&quot;: &quot;round&quot;, &quot;lineJoin&quot;: &quot;round&quot;, &quot;opacity&quot;: 1.0, &quot;radius&quot;: 1500, &quot;stroke&quot;: true, &quot;weight&quot;: 3}\n",
       "            ).addTo(map_531245798203a940a71a2e17fba118c9);\n",
       "        \n",
       "    \n",
       "            var circle_33aaaf7b04ca5ffbe03ea783ec2789d7 = L.circle(\n",
       "                [-4.39093276, -39.0397883],\n",
       "                {&quot;bubblingMouseEvents&quot;: true, &quot;color&quot;: &quot;blue&quot;, &quot;dashArray&quot;: null, &quot;dashOffset&quot;: null, &quot;fill&quot;: true, &quot;fillColor&quot;: &quot;blue&quot;, &quot;fillOpacity&quot;: 0.2, &quot;fillRule&quot;: &quot;evenodd&quot;, &quot;lineCap&quot;: &quot;round&quot;, &quot;lineJoin&quot;: &quot;round&quot;, &quot;opacity&quot;: 1.0, &quot;radius&quot;: 150000, &quot;stroke&quot;: true, &quot;weight&quot;: 3}\n",
       "            ).addTo(map_531245798203a940a71a2e17fba118c9);\n",
       "        \n",
       "    \n",
       "            var circle_c14b3bb66239a0bf11ac3fa884e810e2 = L.circle(\n",
       "                [-4.39093276, -39.0397883],\n",
       "                {&quot;bubblingMouseEvents&quot;: true, &quot;color&quot;: &quot;red&quot;, &quot;dashArray&quot;: null, &quot;dashOffset&quot;: null, &quot;fill&quot;: true, &quot;fillColor&quot;: &quot;red&quot;, &quot;fillOpacity&quot;: 0.2, &quot;fillRule&quot;: &quot;evenodd&quot;, &quot;lineCap&quot;: &quot;round&quot;, &quot;lineJoin&quot;: &quot;round&quot;, &quot;opacity&quot;: 1.0, &quot;radius&quot;: 1500, &quot;stroke&quot;: true, &quot;weight&quot;: 3}\n",
       "            ).addTo(map_531245798203a940a71a2e17fba118c9);\n",
       "        \n",
       "    \n",
       "            var circle_c53b5b27c9a6c27637292128beb257eb = L.circle(\n",
       "                [-27.22200399, -49.71777823],\n",
       "                {&quot;bubblingMouseEvents&quot;: true, &quot;color&quot;: &quot;yellow&quot;, &quot;dashArray&quot;: null, &quot;dashOffset&quot;: null, &quot;fill&quot;: true, &quot;fillColor&quot;: &quot;yellow&quot;, &quot;fillOpacity&quot;: 0.2, &quot;fillRule&quot;: &quot;evenodd&quot;, &quot;lineCap&quot;: &quot;round&quot;, &quot;lineJoin&quot;: &quot;round&quot;, &quot;opacity&quot;: 1.0, &quot;radius&quot;: 150000, &quot;stroke&quot;: true, &quot;weight&quot;: 3}\n",
       "            ).addTo(map_531245798203a940a71a2e17fba118c9);\n",
       "        \n",
       "    \n",
       "            var circle_a17f8591960b39b2aa67047a2fbeb434 = L.circle(\n",
       "                [-27.22200399, -49.71777823],\n",
       "                {&quot;bubblingMouseEvents&quot;: true, &quot;color&quot;: &quot;red&quot;, &quot;dashArray&quot;: null, &quot;dashOffset&quot;: null, &quot;fill&quot;: true, &quot;fillColor&quot;: &quot;red&quot;, &quot;fillOpacity&quot;: 0.2, &quot;fillRule&quot;: &quot;evenodd&quot;, &quot;lineCap&quot;: &quot;round&quot;, &quot;lineJoin&quot;: &quot;round&quot;, &quot;opacity&quot;: 1.0, &quot;radius&quot;: 1500, &quot;stroke&quot;: true, &quot;weight&quot;: 3}\n",
       "            ).addTo(map_531245798203a940a71a2e17fba118c9);\n",
       "        \n",
       "    \n",
       "            var circle_904dab34f09d9023c48aa9a67548f7ac = L.circle(\n",
       "                [-29.50604948, -52.07953343],\n",
       "                {&quot;bubblingMouseEvents&quot;: true, &quot;color&quot;: &quot;green&quot;, &quot;dashArray&quot;: null, &quot;dashOffset&quot;: null, &quot;fill&quot;: true, &quot;fillColor&quot;: &quot;grenn&quot;, &quot;fillOpacity&quot;: 0.2, &quot;fillRule&quot;: &quot;evenodd&quot;, &quot;lineCap&quot;: &quot;round&quot;, &quot;lineJoin&quot;: &quot;round&quot;, &quot;opacity&quot;: 1.0, &quot;radius&quot;: 150000, &quot;stroke&quot;: true, &quot;weight&quot;: 3}\n",
       "            ).addTo(map_531245798203a940a71a2e17fba118c9);\n",
       "        \n",
       "    \n",
       "            var circle_ab783636344a87b12d8f3c23a6df940f = L.circle(\n",
       "                [-29.50604948, -52.07953343],\n",
       "                {&quot;bubblingMouseEvents&quot;: true, &quot;color&quot;: &quot;red&quot;, &quot;dashArray&quot;: null, &quot;dashOffset&quot;: null, &quot;fill&quot;: true, &quot;fillColor&quot;: &quot;red&quot;, &quot;fillOpacity&quot;: 0.2, &quot;fillRule&quot;: &quot;evenodd&quot;, &quot;lineCap&quot;: &quot;round&quot;, &quot;lineJoin&quot;: &quot;round&quot;, &quot;opacity&quot;: 1.0, &quot;radius&quot;: 1500, &quot;stroke&quot;: true, &quot;weight&quot;: 3}\n",
       "            ).addTo(map_531245798203a940a71a2e17fba118c9);\n",
       "        \n",
       "    \n",
       "            var circle_c255e821cf563510212d73637be01811 = L.circle(\n",
       "                [-19.66359019, -44.56388694],\n",
       "                {&quot;bubblingMouseEvents&quot;: true, &quot;color&quot;: &quot;green&quot;, &quot;dashArray&quot;: null, &quot;dashOffset&quot;: null, &quot;fill&quot;: true, &quot;fillColor&quot;: &quot;grenn&quot;, &quot;fillOpacity&quot;: 0.2, &quot;fillRule&quot;: &quot;evenodd&quot;, &quot;lineCap&quot;: &quot;round&quot;, &quot;lineJoin&quot;: &quot;round&quot;, &quot;opacity&quot;: 1.0, &quot;radius&quot;: 150000, &quot;stroke&quot;: true, &quot;weight&quot;: 3}\n",
       "            ).addTo(map_531245798203a940a71a2e17fba118c9);\n",
       "        \n",
       "    \n",
       "            var circle_8208b77297c1c3a0e240b4c399489ba1 = L.circle(\n",
       "                [-19.66359019, -44.56388694],\n",
       "                {&quot;bubblingMouseEvents&quot;: true, &quot;color&quot;: &quot;red&quot;, &quot;dashArray&quot;: null, &quot;dashOffset&quot;: null, &quot;fill&quot;: true, &quot;fillColor&quot;: &quot;red&quot;, &quot;fillOpacity&quot;: 0.2, &quot;fillRule&quot;: &quot;evenodd&quot;, &quot;lineCap&quot;: &quot;round&quot;, &quot;lineJoin&quot;: &quot;round&quot;, &quot;opacity&quot;: 1.0, &quot;radius&quot;: 1500, &quot;stroke&quot;: true, &quot;weight&quot;: 3}\n",
       "            ).addTo(map_531245798203a940a71a2e17fba118c9);\n",
       "        \n",
       "    \n",
       "            var circle_3338f9f1d6dd845b156d3180c5628f17 = L.circle(\n",
       "                [-22.70880731, -43.14189407],\n",
       "                {&quot;bubblingMouseEvents&quot;: true, &quot;color&quot;: &quot;yellow&quot;, &quot;dashArray&quot;: null, &quot;dashOffset&quot;: null, &quot;fill&quot;: true, &quot;fillColor&quot;: &quot;yellow&quot;, &quot;fillOpacity&quot;: 0.2, &quot;fillRule&quot;: &quot;evenodd&quot;, &quot;lineCap&quot;: &quot;round&quot;, &quot;lineJoin&quot;: &quot;round&quot;, &quot;opacity&quot;: 1.0, &quot;radius&quot;: 150000, &quot;stroke&quot;: true, &quot;weight&quot;: 3}\n",
       "            ).addTo(map_531245798203a940a71a2e17fba118c9);\n",
       "        \n",
       "    \n",
       "            var circle_760b4cc038e54987f10a184e4cec2f3b = L.circle(\n",
       "                [-22.70880731, -43.14189407],\n",
       "                {&quot;bubblingMouseEvents&quot;: true, &quot;color&quot;: &quot;red&quot;, &quot;dashArray&quot;: null, &quot;dashOffset&quot;: null, &quot;fill&quot;: true, &quot;fillColor&quot;: &quot;red&quot;, &quot;fillOpacity&quot;: 0.2, &quot;fillRule&quot;: &quot;evenodd&quot;, &quot;lineCap&quot;: &quot;round&quot;, &quot;lineJoin&quot;: &quot;round&quot;, &quot;opacity&quot;: 1.0, &quot;radius&quot;: 1500, &quot;stroke&quot;: true, &quot;weight&quot;: 3}\n",
       "            ).addTo(map_531245798203a940a71a2e17fba118c9);\n",
       "        \n",
       "    \n",
       "            var circle_1ba14c7d21b736fbc4a5d89ce55c8692 = L.circle(\n",
       "                [-11.698, -38.909],\n",
       "                {&quot;bubblingMouseEvents&quot;: true, &quot;color&quot;: &quot;green&quot;, &quot;dashArray&quot;: null, &quot;dashOffset&quot;: null, &quot;fill&quot;: true, &quot;fillColor&quot;: &quot;grenn&quot;, &quot;fillOpacity&quot;: 0.2, &quot;fillRule&quot;: &quot;evenodd&quot;, &quot;lineCap&quot;: &quot;round&quot;, &quot;lineJoin&quot;: &quot;round&quot;, &quot;opacity&quot;: 1.0, &quot;radius&quot;: 150000, &quot;stroke&quot;: true, &quot;weight&quot;: 3}\n",
       "            ).addTo(map_531245798203a940a71a2e17fba118c9);\n",
       "        \n",
       "    \n",
       "            var circle_ef3a3601b735b2bc2604e6629ab0f1a5 = L.circle(\n",
       "                [-11.698, -38.909],\n",
       "                {&quot;bubblingMouseEvents&quot;: true, &quot;color&quot;: &quot;red&quot;, &quot;dashArray&quot;: null, &quot;dashOffset&quot;: null, &quot;fill&quot;: true, &quot;fillColor&quot;: &quot;red&quot;, &quot;fillOpacity&quot;: 0.2, &quot;fillRule&quot;: &quot;evenodd&quot;, &quot;lineCap&quot;: &quot;round&quot;, &quot;lineJoin&quot;: &quot;round&quot;, &quot;opacity&quot;: 1.0, &quot;radius&quot;: 1500, &quot;stroke&quot;: true, &quot;weight&quot;: 3}\n",
       "            ).addTo(map_531245798203a940a71a2e17fba118c9);\n",
       "        \n",
       "    \n",
       "            var circle_eb755c73cf5e235b83a0613929417bf5 = L.circle(\n",
       "                [-25.08, -49.6],\n",
       "                {&quot;bubblingMouseEvents&quot;: true, &quot;color&quot;: &quot;yellow&quot;, &quot;dashArray&quot;: null, &quot;dashOffset&quot;: null, &quot;fill&quot;: true, &quot;fillColor&quot;: &quot;yellow&quot;, &quot;fillOpacity&quot;: 0.2, &quot;fillRule&quot;: &quot;evenodd&quot;, &quot;lineCap&quot;: &quot;round&quot;, &quot;lineJoin&quot;: &quot;round&quot;, &quot;opacity&quot;: 1.0, &quot;radius&quot;: 150000, &quot;stroke&quot;: true, &quot;weight&quot;: 3}\n",
       "            ).addTo(map_531245798203a940a71a2e17fba118c9);\n",
       "        \n",
       "    \n",
       "            var circle_b6d1ee6cee1614086e23886ec38b272b = L.circle(\n",
       "                [-25.08, -49.6],\n",
       "                {&quot;bubblingMouseEvents&quot;: true, &quot;color&quot;: &quot;red&quot;, &quot;dashArray&quot;: null, &quot;dashOffset&quot;: null, &quot;fill&quot;: true, &quot;fillColor&quot;: &quot;red&quot;, &quot;fillOpacity&quot;: 0.2, &quot;fillRule&quot;: &quot;evenodd&quot;, &quot;lineCap&quot;: &quot;round&quot;, &quot;lineJoin&quot;: &quot;round&quot;, &quot;opacity&quot;: 1.0, &quot;radius&quot;: 1500, &quot;stroke&quot;: true, &quot;weight&quot;: 3}\n",
       "            ).addTo(map_531245798203a940a71a2e17fba118c9);\n",
       "        \n",
       "    \n",
       "            var circle_5710b644eb9afef9a1440a04a58aa9a9 = L.circle(\n",
       "                [-23.593, -48.02],\n",
       "                {&quot;bubblingMouseEvents&quot;: true, &quot;color&quot;: &quot;yellow&quot;, &quot;dashArray&quot;: null, &quot;dashOffset&quot;: null, &quot;fill&quot;: true, &quot;fillColor&quot;: &quot;yellow&quot;, &quot;fillOpacity&quot;: 0.2, &quot;fillRule&quot;: &quot;evenodd&quot;, &quot;lineCap&quot;: &quot;round&quot;, &quot;lineJoin&quot;: &quot;round&quot;, &quot;opacity&quot;: 1.0, &quot;radius&quot;: 150000, &quot;stroke&quot;: true, &quot;weight&quot;: 3}\n",
       "            ).addTo(map_531245798203a940a71a2e17fba118c9);\n",
       "        \n",
       "    \n",
       "            var circle_abcf5b9f6c6421ad88cc61156122a8d2 = L.circle(\n",
       "                [-23.593, -48.02],\n",
       "                {&quot;bubblingMouseEvents&quot;: true, &quot;color&quot;: &quot;red&quot;, &quot;dashArray&quot;: null, &quot;dashOffset&quot;: null, &quot;fill&quot;: true, &quot;fillColor&quot;: &quot;red&quot;, &quot;fillOpacity&quot;: 0.2, &quot;fillRule&quot;: &quot;evenodd&quot;, &quot;lineCap&quot;: &quot;round&quot;, &quot;lineJoin&quot;: &quot;round&quot;, &quot;opacity&quot;: 1.0, &quot;radius&quot;: 1500, &quot;stroke&quot;: true, &quot;weight&quot;: 3}\n",
       "            ).addTo(map_531245798203a940a71a2e17fba118c9);\n",
       "        \n",
       "    \n",
       "            var circle_5f8a6915aeadd71a8be559b2738f65a1 = L.circle(\n",
       "                [-22.914, -47.086],\n",
       "                {&quot;bubblingMouseEvents&quot;: true, &quot;color&quot;: &quot;yellow&quot;, &quot;dashArray&quot;: null, &quot;dashOffset&quot;: null, &quot;fill&quot;: true, &quot;fillColor&quot;: &quot;yellow&quot;, &quot;fillOpacity&quot;: 0.2, &quot;fillRule&quot;: &quot;evenodd&quot;, &quot;lineCap&quot;: &quot;round&quot;, &quot;lineJoin&quot;: &quot;round&quot;, &quot;opacity&quot;: 1.0, &quot;radius&quot;: 150000, &quot;stroke&quot;: true, &quot;weight&quot;: 3}\n",
       "            ).addTo(map_531245798203a940a71a2e17fba118c9);\n",
       "        \n",
       "    \n",
       "            var circle_9510ed620f3f0ab426ba0fa691cce0c8 = L.circle(\n",
       "                [-22.914, -47.086],\n",
       "                {&quot;bubblingMouseEvents&quot;: true, &quot;color&quot;: &quot;red&quot;, &quot;dashArray&quot;: null, &quot;dashOffset&quot;: null, &quot;fill&quot;: true, &quot;fillColor&quot;: &quot;red&quot;, &quot;fillOpacity&quot;: 0.2, &quot;fillRule&quot;: &quot;evenodd&quot;, &quot;lineCap&quot;: &quot;round&quot;, &quot;lineJoin&quot;: &quot;round&quot;, &quot;opacity&quot;: 1.0, &quot;radius&quot;: 1500, &quot;stroke&quot;: true, &quot;weight&quot;: 3}\n",
       "            ).addTo(map_531245798203a940a71a2e17fba118c9);\n",
       "        \n",
       "    \n",
       "            var circle_5da25e84fc576ecb69d8426d54cb28e6 = L.circle(\n",
       "                [-21.821, -48.472],\n",
       "                {&quot;bubblingMouseEvents&quot;: true, &quot;color&quot;: &quot;blue&quot;, &quot;dashArray&quot;: null, &quot;dashOffset&quot;: null, &quot;fill&quot;: true, &quot;fillColor&quot;: &quot;blue&quot;, &quot;fillOpacity&quot;: 0.2, &quot;fillRule&quot;: &quot;evenodd&quot;, &quot;lineCap&quot;: &quot;round&quot;, &quot;lineJoin&quot;: &quot;round&quot;, &quot;opacity&quot;: 1.0, &quot;radius&quot;: 150000, &quot;stroke&quot;: true, &quot;weight&quot;: 3}\n",
       "            ).addTo(map_531245798203a940a71a2e17fba118c9);\n",
       "        \n",
       "    \n",
       "            var circle_ad96e54e17555b992a2ec69f36b9a037 = L.circle(\n",
       "                [-21.821, -48.472],\n",
       "                {&quot;bubblingMouseEvents&quot;: true, &quot;color&quot;: &quot;red&quot;, &quot;dashArray&quot;: null, &quot;dashOffset&quot;: null, &quot;fill&quot;: true, &quot;fillColor&quot;: &quot;red&quot;, &quot;fillOpacity&quot;: 0.2, &quot;fillRule&quot;: &quot;evenodd&quot;, &quot;lineCap&quot;: &quot;round&quot;, &quot;lineJoin&quot;: &quot;round&quot;, &quot;opacity&quot;: 1.0, &quot;radius&quot;: 1500, &quot;stroke&quot;: true, &quot;weight&quot;: 3}\n",
       "            ).addTo(map_531245798203a940a71a2e17fba118c9);\n",
       "        \n",
       "    \n",
       "            var circle_488b5d31d3386fef101d0e8fca02f4ab = L.circle(\n",
       "                [-23.394, -51.257],\n",
       "                {&quot;bubblingMouseEvents&quot;: true, &quot;color&quot;: &quot;blue&quot;, &quot;dashArray&quot;: null, &quot;dashOffset&quot;: null, &quot;fill&quot;: true, &quot;fillColor&quot;: &quot;blue&quot;, &quot;fillOpacity&quot;: 0.2, &quot;fillRule&quot;: &quot;evenodd&quot;, &quot;lineCap&quot;: &quot;round&quot;, &quot;lineJoin&quot;: &quot;round&quot;, &quot;opacity&quot;: 1.0, &quot;radius&quot;: 150000, &quot;stroke&quot;: true, &quot;weight&quot;: 3}\n",
       "            ).addTo(map_531245798203a940a71a2e17fba118c9);\n",
       "        \n",
       "    \n",
       "            var circle_1f42d77626c925d01222f91a821fd326 = L.circle(\n",
       "                [-23.394, -51.257],\n",
       "                {&quot;bubblingMouseEvents&quot;: true, &quot;color&quot;: &quot;red&quot;, &quot;dashArray&quot;: null, &quot;dashOffset&quot;: null, &quot;fill&quot;: true, &quot;fillColor&quot;: &quot;red&quot;, &quot;fillOpacity&quot;: 0.2, &quot;fillRule&quot;: &quot;evenodd&quot;, &quot;lineCap&quot;: &quot;round&quot;, &quot;lineJoin&quot;: &quot;round&quot;, &quot;opacity&quot;: 1.0, &quot;radius&quot;: 1500, &quot;stroke&quot;: true, &quot;weight&quot;: 3}\n",
       "            ).addTo(map_531245798203a940a71a2e17fba118c9);\n",
       "        \n",
       "    \n",
       "            var circle_ddc505051d1e6eec012fa50ce6a1886b = L.circle(\n",
       "                [-15.82795602, -47.97963765],\n",
       "                {&quot;bubblingMouseEvents&quot;: true, &quot;color&quot;: &quot;blue&quot;, &quot;dashArray&quot;: null, &quot;dashOffset&quot;: null, &quot;fill&quot;: true, &quot;fillColor&quot;: &quot;blue&quot;, &quot;fillOpacity&quot;: 0.2, &quot;fillRule&quot;: &quot;evenodd&quot;, &quot;lineCap&quot;: &quot;round&quot;, &quot;lineJoin&quot;: &quot;round&quot;, &quot;opacity&quot;: 1.0, &quot;radius&quot;: 150000, &quot;stroke&quot;: true, &quot;weight&quot;: 3}\n",
       "            ).addTo(map_531245798203a940a71a2e17fba118c9);\n",
       "        \n",
       "    \n",
       "            var circle_2b8af1ea7fa10967239c6eac07388901 = L.circle(\n",
       "                [-15.82795602, -47.97963765],\n",
       "                {&quot;bubblingMouseEvents&quot;: true, &quot;color&quot;: &quot;red&quot;, &quot;dashArray&quot;: null, &quot;dashOffset&quot;: null, &quot;fill&quot;: true, &quot;fillColor&quot;: &quot;red&quot;, &quot;fillOpacity&quot;: 0.2, &quot;fillRule&quot;: &quot;evenodd&quot;, &quot;lineCap&quot;: &quot;round&quot;, &quot;lineJoin&quot;: &quot;round&quot;, &quot;opacity&quot;: 1.0, &quot;radius&quot;: 1500, &quot;stroke&quot;: true, &quot;weight&quot;: 3}\n",
       "            ).addTo(map_531245798203a940a71a2e17fba118c9);\n",
       "        \n",
       "    \n",
       "            var circle_d90d92051cff0d2f72846727a7c84166 = L.circle(\n",
       "                [-20.11332405, -40.52739593],\n",
       "                {&quot;bubblingMouseEvents&quot;: true, &quot;color&quot;: &quot;blue&quot;, &quot;dashArray&quot;: null, &quot;dashOffset&quot;: null, &quot;fill&quot;: true, &quot;fillColor&quot;: &quot;blue&quot;, &quot;fillOpacity&quot;: 0.2, &quot;fillRule&quot;: &quot;evenodd&quot;, &quot;lineCap&quot;: &quot;round&quot;, &quot;lineJoin&quot;: &quot;round&quot;, &quot;opacity&quot;: 1.0, &quot;radius&quot;: 150000, &quot;stroke&quot;: true, &quot;weight&quot;: 3}\n",
       "            ).addTo(map_531245798203a940a71a2e17fba118c9);\n",
       "        \n",
       "    \n",
       "            var circle_a0085dd55b7acaa321abaf7624c3068c = L.circle(\n",
       "                [-20.11332405, -40.52739593],\n",
       "                {&quot;bubblingMouseEvents&quot;: true, &quot;color&quot;: &quot;red&quot;, &quot;dashArray&quot;: null, &quot;dashOffset&quot;: null, &quot;fill&quot;: true, &quot;fillColor&quot;: &quot;red&quot;, &quot;fillOpacity&quot;: 0.2, &quot;fillRule&quot;: &quot;evenodd&quot;, &quot;lineCap&quot;: &quot;round&quot;, &quot;lineJoin&quot;: &quot;round&quot;, &quot;opacity&quot;: 1.0, &quot;radius&quot;: 1500, &quot;stroke&quot;: true, &quot;weight&quot;: 3}\n",
       "            ).addTo(map_531245798203a940a71a2e17fba118c9);\n",
       "        \n",
       "    \n",
       "            var circle_10a7f940d8ada5e9f62ee088881c3546 = L.circle(\n",
       "                [-20.92488317, -54.44739041],\n",
       "                {&quot;bubblingMouseEvents&quot;: true, &quot;color&quot;: &quot;blue&quot;, &quot;dashArray&quot;: null, &quot;dashOffset&quot;: null, &quot;fill&quot;: true, &quot;fillColor&quot;: &quot;blue&quot;, &quot;fillOpacity&quot;: 0.2, &quot;fillRule&quot;: &quot;evenodd&quot;, &quot;lineCap&quot;: &quot;round&quot;, &quot;lineJoin&quot;: &quot;round&quot;, &quot;opacity&quot;: 1.0, &quot;radius&quot;: 150000, &quot;stroke&quot;: true, &quot;weight&quot;: 3}\n",
       "            ).addTo(map_531245798203a940a71a2e17fba118c9);\n",
       "        \n",
       "    \n",
       "            var circle_edf98680473096f4e444f5090448c8a5 = L.circle(\n",
       "                [-20.92488317, -54.44739041],\n",
       "                {&quot;bubblingMouseEvents&quot;: true, &quot;color&quot;: &quot;red&quot;, &quot;dashArray&quot;: null, &quot;dashOffset&quot;: null, &quot;fill&quot;: true, &quot;fillColor&quot;: &quot;red&quot;, &quot;fillOpacity&quot;: 0.2, &quot;fillRule&quot;: &quot;evenodd&quot;, &quot;lineCap&quot;: &quot;round&quot;, &quot;lineJoin&quot;: &quot;round&quot;, &quot;opacity&quot;: 1.0, &quot;radius&quot;: 1500, &quot;stroke&quot;: true, &quot;weight&quot;: 3}\n",
       "            ).addTo(map_531245798203a940a71a2e17fba118c9);\n",
       "        \n",
       "    \n",
       "            var circle_6e2469f6692cf392e325b7dbe807c9e0 = L.circle(\n",
       "                [-7.05613487, -35.99635752],\n",
       "                {&quot;bubblingMouseEvents&quot;: true, &quot;color&quot;: &quot;blue&quot;, &quot;dashArray&quot;: null, &quot;dashOffset&quot;: null, &quot;fill&quot;: true, &quot;fillColor&quot;: &quot;blue&quot;, &quot;fillOpacity&quot;: 0.2, &quot;fillRule&quot;: &quot;evenodd&quot;, &quot;lineCap&quot;: &quot;round&quot;, &quot;lineJoin&quot;: &quot;round&quot;, &quot;opacity&quot;: 1.0, &quot;radius&quot;: 150000, &quot;stroke&quot;: true, &quot;weight&quot;: 3}\n",
       "            ).addTo(map_531245798203a940a71a2e17fba118c9);\n",
       "        \n",
       "    \n",
       "            var circle_9270aeecc8c02076abd49a38e9277adf = L.circle(\n",
       "                [-7.05613487, -35.99635752],\n",
       "                {&quot;bubblingMouseEvents&quot;: true, &quot;color&quot;: &quot;red&quot;, &quot;dashArray&quot;: null, &quot;dashOffset&quot;: null, &quot;fill&quot;: true, &quot;fillColor&quot;: &quot;red&quot;, &quot;fillOpacity&quot;: 0.2, &quot;fillRule&quot;: &quot;evenodd&quot;, &quot;lineCap&quot;: &quot;round&quot;, &quot;lineJoin&quot;: &quot;round&quot;, &quot;opacity&quot;: 1.0, &quot;radius&quot;: 1500, &quot;stroke&quot;: true, &quot;weight&quot;: 3}\n",
       "            ).addTo(map_531245798203a940a71a2e17fba118c9);\n",
       "        \n",
       "    \n",
       "            var circle_960b5f0837eba23f2d03c86ebf131e7e = L.circle(\n",
       "                [-5.82623349, -36.01951999],\n",
       "                {&quot;bubblingMouseEvents&quot;: true, &quot;color&quot;: &quot;blue&quot;, &quot;dashArray&quot;: null, &quot;dashOffset&quot;: null, &quot;fill&quot;: true, &quot;fillColor&quot;: &quot;blue&quot;, &quot;fillOpacity&quot;: 0.2, &quot;fillRule&quot;: &quot;evenodd&quot;, &quot;lineCap&quot;: &quot;round&quot;, &quot;lineJoin&quot;: &quot;round&quot;, &quot;opacity&quot;: 1.0, &quot;radius&quot;: 150000, &quot;stroke&quot;: true, &quot;weight&quot;: 3}\n",
       "            ).addTo(map_531245798203a940a71a2e17fba118c9);\n",
       "        \n",
       "    \n",
       "            var circle_6aa3c4597d1f9de43d455013ba886f14 = L.circle(\n",
       "                [-5.82623349, -36.01951999],\n",
       "                {&quot;bubblingMouseEvents&quot;: true, &quot;color&quot;: &quot;red&quot;, &quot;dashArray&quot;: null, &quot;dashOffset&quot;: null, &quot;fill&quot;: true, &quot;fillColor&quot;: &quot;red&quot;, &quot;fillOpacity&quot;: 0.2, &quot;fillRule&quot;: &quot;evenodd&quot;, &quot;lineCap&quot;: &quot;round&quot;, &quot;lineJoin&quot;: &quot;round&quot;, &quot;opacity&quot;: 1.0, &quot;radius&quot;: 1500, &quot;stroke&quot;: true, &quot;weight&quot;: 3}\n",
       "            ).addTo(map_531245798203a940a71a2e17fba118c9);\n",
       "        \n",
       "    \n",
       "            var circle_674a2c68e7eccff810a0d6845be06edb = L.circle(\n",
       "                [-3.40980075, -60.740164],\n",
       "                {&quot;bubblingMouseEvents&quot;: true, &quot;color&quot;: &quot;blue&quot;, &quot;dashArray&quot;: null, &quot;dashOffset&quot;: null, &quot;fill&quot;: true, &quot;fillColor&quot;: &quot;blue&quot;, &quot;fillOpacity&quot;: 0.2, &quot;fillRule&quot;: &quot;evenodd&quot;, &quot;lineCap&quot;: &quot;round&quot;, &quot;lineJoin&quot;: &quot;round&quot;, &quot;opacity&quot;: 1.0, &quot;radius&quot;: 150000, &quot;stroke&quot;: true, &quot;weight&quot;: 3}\n",
       "            ).addTo(map_531245798203a940a71a2e17fba118c9);\n",
       "        \n",
       "    \n",
       "            var circle_bd2bbaa1a6a79d4bdbb2d6ee6104f91c = L.circle(\n",
       "                [-3.40980075, -60.740164],\n",
       "                {&quot;bubblingMouseEvents&quot;: true, &quot;color&quot;: &quot;red&quot;, &quot;dashArray&quot;: null, &quot;dashOffset&quot;: null, &quot;fill&quot;: true, &quot;fillColor&quot;: &quot;red&quot;, &quot;fillOpacity&quot;: 0.2, &quot;fillRule&quot;: &quot;evenodd&quot;, &quot;lineCap&quot;: &quot;round&quot;, &quot;lineJoin&quot;: &quot;round&quot;, &quot;opacity&quot;: 1.0, &quot;radius&quot;: 1500, &quot;stroke&quot;: true, &quot;weight&quot;: 3}\n",
       "            ).addTo(map_531245798203a940a71a2e17fba118c9);\n",
       "        \n",
       "    \n",
       "            var circle_ac34d3679e7dbb39e5b8d0a89be85926 = L.circle(\n",
       "                [-9.59723812, -36.14148849],\n",
       "                {&quot;bubblingMouseEvents&quot;: true, &quot;color&quot;: &quot;blue&quot;, &quot;dashArray&quot;: null, &quot;dashOffset&quot;: null, &quot;fill&quot;: true, &quot;fillColor&quot;: &quot;blue&quot;, &quot;fillOpacity&quot;: 0.2, &quot;fillRule&quot;: &quot;evenodd&quot;, &quot;lineCap&quot;: &quot;round&quot;, &quot;lineJoin&quot;: &quot;round&quot;, &quot;opacity&quot;: 1.0, &quot;radius&quot;: 150000, &quot;stroke&quot;: true, &quot;weight&quot;: 3}\n",
       "            ).addTo(map_531245798203a940a71a2e17fba118c9);\n",
       "        \n",
       "    \n",
       "            var circle_4e89a7e479b3a29b7dd6aa28210d204c = L.circle(\n",
       "                [-9.59723812, -36.14148849],\n",
       "                {&quot;bubblingMouseEvents&quot;: true, &quot;color&quot;: &quot;red&quot;, &quot;dashArray&quot;: null, &quot;dashOffset&quot;: null, &quot;fill&quot;: true, &quot;fillColor&quot;: &quot;red&quot;, &quot;fillOpacity&quot;: 0.2, &quot;fillRule&quot;: &quot;evenodd&quot;, &quot;lineCap&quot;: &quot;round&quot;, &quot;lineJoin&quot;: &quot;round&quot;, &quot;opacity&quot;: 1.0, &quot;radius&quot;: 1500, &quot;stroke&quot;: true, &quot;weight&quot;: 3}\n",
       "            ).addTo(map_531245798203a940a71a2e17fba118c9);\n",
       "        \n",
       "&lt;/script&gt;\n",
       "&lt;/html&gt;\" style=\"position:absolute;width:100%;height:100%;left:0;top:0;border:none !important;\" allowfullscreen webkitallowfullscreen mozallowfullscreen></iframe></div></div>"
      ],
      "text/plain": [
       "<folium.folium.Map at 0x1abb00fe4f0>"
      ]
     },
     "execution_count": 73,
     "metadata": {},
     "output_type": "execute_result"
    }
   ],
   "source": [
    "mapa = folium.Map(location = [-16, -43], zoom_start=3)\n",
    "\n",
    "# A - Amarelo\n",
    "# B - Verde\n",
    "# C - Azul\n",
    "\n",
    "#GO - B\n",
    "folium.Circle(\n",
    "    location=[-16.58297619, -49.18121983],\n",
    "    radius = 150000,\n",
    "    color='green',\n",
    "    fill=True,\n",
    "    fill_color ='#3186cc'    \n",
    ").add_to(mapa)\n",
    "folium.Circle(\n",
    "    location=[-16.58297619, -49.18121983],\n",
    "    radius = 1500,\n",
    "    color='red',\n",
    "    fill=True,\n",
    "    fill_color ='red'    \n",
    ").add_to(mapa)\n",
    "\n",
    "#PE - B\n",
    "folium.Circle(\n",
    "\n",
    "    location = [-8.19549872, -35.9720766],\n",
    "    radius = 150000,\n",
    "    color='green',\n",
    "    fill=True,\n",
    "    fill_color ='green'    \n",
    ").add_to(mapa)\n",
    "folium.Circle(\n",
    "\n",
    "    location = [-8.19549872, -35.9720766],\n",
    "    radius = 1500,\n",
    "    color='red',\n",
    "    fill=True,\n",
    "    fill_color ='red'    \n",
    ").add_to(mapa)\n",
    "\n",
    "\n",
    "#CE - C\n",
    "folium.Circle(\n",
    "    location=[-4.39093276, -39.0397883],\n",
    "    radius = 150000,\n",
    "    color='blue',\n",
    "    fill=True,\n",
    "    fill_color ='blue'    \n",
    ").add_to(mapa)\n",
    "folium.Circle(\n",
    "\n",
    "    location = [-4.39093276, -39.0397883],\n",
    "    radius = 1500,\n",
    "    color='red',\n",
    "    fill=True,\n",
    "    fill_color ='red'    \n",
    ").add_to(mapa)\n",
    "\n",
    "#SC - A\n",
    "folium.Circle(\n",
    "    location=[-27.22200399, -49.71777823],\n",
    "    radius = 150000,\n",
    "    color='yellow',\n",
    "    fill=True,\n",
    "    fill_color ='yellow'    \n",
    ").add_to(mapa)\n",
    "folium.Circle(\n",
    "    location = [-27.22200399, -49.71777823],\n",
    "    radius = 1500,\n",
    "    color='red',\n",
    "    fill=True,\n",
    "    fill_color ='red'    \n",
    ").add_to(mapa)\n",
    "\n",
    "    #RS - B\n",
    "folium.Circle(\n",
    "    location=[-29.50604948, -52.07953343],\n",
    "    radius = 150000,\n",
    "    color='green',\n",
    "    fill=True,\n",
    "    fill_color ='grenn'    \n",
    ").add_to(mapa)\n",
    "folium.Circle(\n",
    "    location=[-29.50604948, -52.07953343],\n",
    "    radius = 1500,\n",
    "    color='red',\n",
    "    fill=True,\n",
    "    fill_color ='red'    \n",
    ").add_to(mapa)\n",
    "\n",
    "#MG - B\n",
    "folium.Circle(\n",
    "    location=[-19.66359019, -44.56388694],\n",
    "    radius = 150000,\n",
    "    color='green',\n",
    "    fill=True,\n",
    "    fill_color ='grenn'    \n",
    ").add_to(mapa)\n",
    "folium.Circle(\n",
    "    location=[-19.66359019, -44.56388694],\n",
    "    radius = 1500,\n",
    "    color='red',\n",
    "    fill=True,\n",
    "    fill_color ='red'    \n",
    ").add_to(mapa)\n",
    "\n",
    "#RJ - A\n",
    "folium.Circle(    \n",
    "    location=[-22.70880731, -43.14189407],\n",
    "    radius = 150000,\n",
    "    color='yellow',\n",
    "    fill=True,\n",
    "    fill_color ='yellow'    \n",
    ").add_to(mapa)\n",
    "folium.Circle(    \n",
    "    location=[-22.70880731, -43.14189407],\n",
    "    radius = 1500,\n",
    "    color='red',\n",
    "    fill=True,\n",
    "    fill_color ='red'    \n",
    ").add_to(mapa)\n",
    "\n",
    "#BA - B\n",
    "folium.Circle(  \n",
    "    location=[-11.698, -38.909],\n",
    "    radius = 150000,\n",
    "    color='green',\n",
    "    fill=True,\n",
    "    fill_color ='grenn'    \n",
    ").add_to(mapa)\n",
    "folium.Circle(   \n",
    "    location=[-11.698, -38.909],\n",
    "    radius = 1500,\n",
    "    color='red',\n",
    "    fill=True,\n",
    "    fill_color ='red'    \n",
    ").add_to(mapa)\n",
    "\n",
    "#PR - A\n",
    "folium.Circle(    \n",
    "    location=[-25.080, -49.60],\n",
    "    radius = 150000,\n",
    "    color='yellow',\n",
    "    fill=True,\n",
    "    fill_color ='yellow'    \n",
    ").add_to(mapa)\n",
    "folium.Circle(    \n",
    "    location=[-25.080, -49.60],\n",
    "    radius = 1500,\n",
    "    color='red',\n",
    "    fill=True,\n",
    "    fill_color ='red'    \n",
    ").add_to(mapa)\n",
    "\n",
    "#SP - A1\n",
    "folium.Circle(    \n",
    "    location=[-23.593, -48.020],\n",
    "    radius = 150000,\n",
    "    color='yellow',\n",
    "    fill=True,\n",
    "    fill_color ='yellow'    \n",
    ").add_to(mapa)\n",
    "folium.Circle(    \n",
    "    location=[-23.593, -48.020],\n",
    "    radius = 1500,\n",
    "    color='red',\n",
    "    fill=True,\n",
    "    fill_color ='red'    \n",
    ").add_to(mapa)\n",
    "\n",
    "#SP - A2\n",
    "folium.Circle(   \n",
    "    location=[-22.914, -47.086],\n",
    "    radius = 150000,\n",
    "    color='yellow',\n",
    "    fill=True,\n",
    "    fill_color ='yellow'    \n",
    ").add_to(mapa)\n",
    "folium.Circle(   \n",
    "    location=[-22.914, -47.086],\n",
    "    radius = 1500,\n",
    "    color='red',\n",
    "    fill=True,\n",
    "    fill_color ='red'    \n",
    ").add_to(mapa)\n",
    "\n",
    "#SP - C3\n",
    "folium.Circle(\n",
    "    location=[-21.821, -48.472],\n",
    "    radius = 150000,\n",
    "    color='blue',\n",
    "    fill=True,\n",
    "    fill_color ='blue'    \n",
    ").add_to(mapa)\n",
    "folium.Circle(\n",
    "    location=[-21.821, -48.472],\n",
    "    radius = 1500,\n",
    "    color='red',\n",
    "    fill=True,\n",
    "    fill_color ='red'    \n",
    ").add_to(mapa)\n",
    "\n",
    "#PR - C2\n",
    "folium.Circle(    \n",
    "    location=[-23.394, -51.257],\n",
    "    radius = 150000,\n",
    "    color='blue',\n",
    "    fill=True,\n",
    "    fill_color ='blue'    \n",
    ").add_to(mapa)\n",
    "folium.Circle(    \n",
    "    location=[-23.394, -51.257],\n",
    "    radius = 1500,\n",
    "    color='red',\n",
    "    fill=True,\n",
    "    fill_color ='red'    \n",
    ").add_to(mapa)\n",
    "\n",
    "#DF - C\n",
    "folium.Circle(   \n",
    "    location=[-15.82795602, -47.97963765],\n",
    "    radius = 150000,\n",
    "    color='blue',\n",
    "    fill=True,\n",
    "    fill_color ='blue'    \n",
    ").add_to(mapa)\n",
    "folium.Circle(   \n",
    "    location=[-15.82795602, -47.97963765],\n",
    "    radius = 1500,\n",
    "    color='red',\n",
    "    fill=True,\n",
    "    fill_color ='red'    \n",
    ").add_to(mapa)\n",
    "\n",
    "#ES - C\n",
    "folium.Circle(   \n",
    "    location=[-20.11332405, -40.52739593],\n",
    "    radius = 150000,\n",
    "    color='blue',\n",
    "    fill=True,\n",
    "    fill_color ='blue'    \n",
    ").add_to(mapa)\n",
    "folium.Circle(   \n",
    "    location=[-20.11332405, -40.52739593],\n",
    "    radius = 1500,\n",
    "    color='red',\n",
    "    fill=True,\n",
    "    fill_color ='red'    \n",
    ").add_to(mapa)\n",
    "\n",
    "#MS - C\n",
    "folium.Circle(   \n",
    "    location=[-20.92488317, -54.44739041],\n",
    "    radius = 150000,\n",
    "    color='blue',\n",
    "    fill=True,\n",
    "    fill_color ='blue'    \n",
    ").add_to(mapa)\n",
    "folium.Circle(   \n",
    "    location=[-20.92488317, -54.44739041],\n",
    "    radius = 1500,\n",
    "    color='red',\n",
    "    fill=True,\n",
    "    fill_color ='red'    \n",
    ").add_to(mapa)\n",
    "\n",
    "#PB - C\n",
    "folium.Circle(   \n",
    "    location=[-7.05613487, -35.99635752],\n",
    "    radius = 150000,\n",
    "    color='blue',\n",
    "    fill=True,\n",
    "    fill_color ='blue'    \n",
    ").add_to(mapa)\n",
    "folium.Circle(   \n",
    "    location=[-7.05613487, -35.99635752],\n",
    "    radius = 1500,\n",
    "    color='red',\n",
    "    fill=True,\n",
    "    fill_color ='red'    \n",
    ").add_to(mapa)\n",
    "\n",
    "#RN - C\n",
    "folium.Circle(    \n",
    "    location=[-5.82623349, -36.01951999],\n",
    "    radius = 150000,\n",
    "    color='blue',\n",
    "    fill=True,\n",
    "    fill_color ='blue'    \n",
    ").add_to(mapa)\n",
    "folium.Circle(    \n",
    "    location=[-5.82623349, -36.01951999],\n",
    "    radius = 1500,\n",
    "    color='red',\n",
    "    fill=True,\n",
    "    fill_color ='red'    \n",
    ").add_to(mapa)\n",
    "\n",
    "#AM - C\n",
    "folium.Circle(   \n",
    "    location=[-3.40980075, -60.7401640],\n",
    "    radius = 150000,\n",
    "    color='blue',\n",
    "    fill=True,\n",
    "    fill_color ='blue'    \n",
    ").add_to(mapa)\n",
    "folium.Circle(   \n",
    "    location=[-3.40980075, -60.7401640],\n",
    "    radius = 1500,\n",
    "    color='red',\n",
    "    fill=True,\n",
    "    fill_color ='red'    \n",
    ").add_to(mapa)\n",
    "\n",
    "#AL - C\n",
    "folium.Circle(    \n",
    "    location=[-9.59723812, -36.14148849],\n",
    "    radius = 150000,\n",
    "    color='blue',\n",
    "    fill=True,\n",
    "    fill_color ='blue'    \n",
    ").add_to(mapa)\n",
    "folium.Circle(\n",
    "    location=[-9.59723812, -36.14148849],\n",
    "    radius = 1500,\n",
    "    color='red',\n",
    "    fill=True,\n",
    "    fill_color ='red'    \n",
    ").add_to(mapa)\n",
    "\n",
    "\n",
    "mapa"
   ]
  },
  {
   "cell_type": "markdown",
   "id": "63d2480b",
   "metadata": {},
   "source": [
    "# Análise descritiva dos hubs alocados\n",
    "\n",
    "\n",
    "\n",
    "\n",
    "\n",
    "\n",
    "\n",
    "\n",
    "\n",
    "\n",
    "\n",
    "\n",
    "\n",
    "\n",
    "\n",
    "\n",
    "\n",
    "\n",
    "\n",
    "\n",
    "\n",
    "\n",
    "\n",
    "\n",
    "\n",
    "\n",
    "\n",
    "\n",
    "\n",
    "\n",
    "\n",
    "\n",
    "\n",
    "\n",
    "\n",
    "\n",
    "\n",
    "\n",
    "\n",
    "\n",
    "\n",
    "\n",
    "\n",
    "\n",
    "\n",
    "\n",
    "\n",
    "\n",
    "\n",
    "\n",
    "\n",
    "\n",
    "\n",
    "\n"
   ]
  },
  {
   "cell_type": "markdown",
   "id": "679a3965",
   "metadata": {},
   "source": [
    "### *Quantidade de estabelecimentos por hubs"
   ]
  },
  {
   "cell_type": "code",
   "execution_count": 74,
   "id": "91088224",
   "metadata": {},
   "outputs": [
    {
     "name": "stdout",
     "output_type": "stream",
     "text": [
      "Classe\n",
      "A    1000000\n",
      "B     600000\n",
      "C     738565\n",
      "Name: cd_cnpj_anonimizado, dtype: int64\n",
      "2338565\n"
     ]
    }
   ],
   "source": [
    "print(df.groupby(['Classe']).cd_cnpj_anonimizado.count())\n",
    "print(df.cd_cnpj_anonimizado.count())"
   ]
  },
  {
   "cell_type": "code",
   "execution_count": 75,
   "id": "4a65d4ab",
   "metadata": {},
   "outputs": [
    {
     "data": {
      "image/png": "[encoded data removed]",
      "text/plain": [
       "<Figure size 640x480 with 1 Axes>"
      ]
     },
     "metadata": {},
     "output_type": "display_data"
    }
   ],
   "source": [
    "sns.barplot(y=[1000000, 600000, 597260], x=['A', 'B', 'C'])\n",
    "plt.show()"
   ]
  },
  {
   "cell_type": "markdown",
   "id": "3efd03d6",
   "metadata": {},
   "source": [
    "## *Análise hub tipo A"
   ]
  },
  {
   "cell_type": "code",
   "execution_count": 76,
   "id": "f2ee6dbb",
   "metadata": {},
   "outputs": [
    {
     "data": {
      "text/html": [
       "<div>\n",
       "<style scoped>\n",
       "    .dataframe tbody tr th:only-of-type {\n",
       "        vertical-align: middle;\n",
       "    }\n",
       "\n",
       "    .dataframe tbody tr th {\n",
       "        vertical-align: top;\n",
       "    }\n",
       "\n",
       "    .dataframe thead th {\n",
       "        text-align: right;\n",
       "    }\n",
       "</style>\n",
       "<table border=\"1\" class=\"dataframe\">\n",
       "  <thead>\n",
       "    <tr style=\"text-align: right;\">\n",
       "      <th></th>\n",
       "      <th>cd_cnpj_anonimizado</th>\n",
       "      <th>st_ramo_x</th>\n",
       "      <th>Classe</th>\n",
       "      <th>vl_potencial_faturamento_anual</th>\n",
       "      <th>LTV</th>\n",
       "    </tr>\n",
       "  </thead>\n",
       "  <tbody>\n",
       "    <tr>\n",
       "      <th>0</th>\n",
       "      <td>13827564</td>\n",
       "      <td>Construcao</td>\n",
       "      <td>A</td>\n",
       "      <td>120491780</td>\n",
       "      <td>1.603459e+06</td>\n",
       "    </tr>\n",
       "    <tr>\n",
       "      <th>1</th>\n",
       "      <td>9678391</td>\n",
       "      <td>Variedades</td>\n",
       "      <td>A</td>\n",
       "      <td>56611425</td>\n",
       "      <td>6.222138e+05</td>\n",
       "    </tr>\n",
       "    <tr>\n",
       "      <th>2</th>\n",
       "      <td>9678386</td>\n",
       "      <td>Variedades</td>\n",
       "      <td>A</td>\n",
       "      <td>56611425</td>\n",
       "      <td>6.222138e+05</td>\n",
       "    </tr>\n",
       "    <tr>\n",
       "      <th>3</th>\n",
       "      <td>9678389</td>\n",
       "      <td>Variedades</td>\n",
       "      <td>A</td>\n",
       "      <td>56611425</td>\n",
       "      <td>6.222138e+05</td>\n",
       "    </tr>\n",
       "    <tr>\n",
       "      <th>4</th>\n",
       "      <td>28847</td>\n",
       "      <td>Construcao</td>\n",
       "      <td>A</td>\n",
       "      <td>43133026</td>\n",
       "      <td>5.739981e+05</td>\n",
       "    </tr>\n",
       "  </tbody>\n",
       "</table>\n",
       "</div>"
      ],
      "text/plain": [
       "   cd_cnpj_anonimizado   st_ramo_x Classe  vl_potencial_faturamento_anual  \\\n",
       "0             13827564  Construcao      A                       120491780   \n",
       "1              9678391  Variedades      A                        56611425   \n",
       "2              9678386  Variedades      A                        56611425   \n",
       "3              9678389  Variedades      A                        56611425   \n",
       "4                28847  Construcao      A                        43133026   \n",
       "\n",
       "            LTV  \n",
       "0  1.603459e+06  \n",
       "1  6.222138e+05  \n",
       "2  6.222138e+05  \n",
       "3  6.222138e+05  \n",
       "4  5.739981e+05  "
      ]
     },
     "execution_count": 76,
     "metadata": {},
     "output_type": "execute_result"
    }
   ],
   "source": [
    "df_A = df[df['Classe'] == 'A']\n",
    "df_A.head()"
   ]
  },
  {
   "cell_type": "code",
   "execution_count": 77,
   "id": "de2dcf64",
   "metadata": {},
   "outputs": [
    {
     "data": {
      "text/html": [
       "<div>\n",
       "<style scoped>\n",
       "    .dataframe tbody tr th:only-of-type {\n",
       "        vertical-align: middle;\n",
       "    }\n",
       "\n",
       "    .dataframe tbody tr th {\n",
       "        vertical-align: top;\n",
       "    }\n",
       "\n",
       "    .dataframe thead th {\n",
       "        text-align: right;\n",
       "    }\n",
       "</style>\n",
       "<table border=\"1\" class=\"dataframe\">\n",
       "  <thead>\n",
       "    <tr style=\"text-align: right;\">\n",
       "      <th></th>\n",
       "      <th>cd_cnpj_anonimizado</th>\n",
       "      <th>vl_potencial_faturamento_anual</th>\n",
       "      <th>LTV</th>\n",
       "    </tr>\n",
       "  </thead>\n",
       "  <tbody>\n",
       "    <tr>\n",
       "      <th>count</th>\n",
       "      <td>1.000000e+06</td>\n",
       "      <td>1.000000e+06</td>\n",
       "      <td>1.000000e+06</td>\n",
       "    </tr>\n",
       "    <tr>\n",
       "      <th>mean</th>\n",
       "      <td>6.708860e+06</td>\n",
       "      <td>4.566137e+05</td>\n",
       "      <td>4.832324e+03</td>\n",
       "    </tr>\n",
       "    <tr>\n",
       "      <th>std</th>\n",
       "      <td>4.127987e+06</td>\n",
       "      <td>1.225044e+06</td>\n",
       "      <td>1.120894e+04</td>\n",
       "    </tr>\n",
       "    <tr>\n",
       "      <th>min</th>\n",
       "      <td>2.700000e+01</td>\n",
       "      <td>1.374200e+04</td>\n",
       "      <td>3.708582e+02</td>\n",
       "    </tr>\n",
       "    <tr>\n",
       "      <th>25%</th>\n",
       "      <td>3.100537e+06</td>\n",
       "      <td>1.334460e+05</td>\n",
       "      <td>1.626487e+03</td>\n",
       "    </tr>\n",
       "    <tr>\n",
       "      <th>50%</th>\n",
       "      <td>6.437163e+06</td>\n",
       "      <td>2.217660e+05</td>\n",
       "      <td>2.670451e+03</td>\n",
       "    </tr>\n",
       "    <tr>\n",
       "      <th>75%</th>\n",
       "      <td>1.033115e+07</td>\n",
       "      <td>4.631340e+05</td>\n",
       "      <td>5.093799e+03</td>\n",
       "    </tr>\n",
       "    <tr>\n",
       "      <th>max</th>\n",
       "      <td>1.395692e+07</td>\n",
       "      <td>2.136577e+08</td>\n",
       "      <td>1.810648e+06</td>\n",
       "    </tr>\n",
       "  </tbody>\n",
       "</table>\n",
       "</div>"
      ],
      "text/plain": [
       "       cd_cnpj_anonimizado  vl_potencial_faturamento_anual           LTV\n",
       "count         1.000000e+06                    1.000000e+06  1.000000e+06\n",
       "mean          6.708860e+06                    4.566137e+05  4.832324e+03\n",
       "std           4.127987e+06                    1.225044e+06  1.120894e+04\n",
       "min           2.700000e+01                    1.374200e+04  3.708582e+02\n",
       "25%           3.100537e+06                    1.334460e+05  1.626487e+03\n",
       "50%           6.437163e+06                    2.217660e+05  2.670451e+03\n",
       "75%           1.033115e+07                    4.631340e+05  5.093799e+03\n",
       "max           1.395692e+07                    2.136577e+08  1.810648e+06"
      ]
     },
     "execution_count": 77,
     "metadata": {},
     "output_type": "execute_result"
    }
   ],
   "source": [
    "df_A.describe()"
   ]
  },
  {
   "cell_type": "markdown",
   "id": "0251a050",
   "metadata": {},
   "source": [
    "### -Análise Ramos"
   ]
  },
  {
   "cell_type": "code",
   "execution_count": 78,
   "id": "a90f62e2",
   "metadata": {},
   "outputs": [
    {
     "name": "stdout",
     "output_type": "stream",
     "text": [
      "st_ramo_x\n",
      "Construcao          139113\n",
      "Mercados            124605\n",
      "Refeicao            113593\n",
      "Vestimentas         112174\n",
      "Variedades          104100\n",
      "Automoveis           77825\n",
      "Saude                76207\n",
      "Eletrodomesticos     65482\n",
      "Estetica             64118\n",
      "Turismo              57170\n",
      "Escolas              41770\n",
      "Entreterimento       17648\n",
      "Postos                6093\n",
      "Cias_Aereas            102\n",
      "Name: Classe, dtype: int64\n"
     ]
    }
   ],
   "source": [
    "print(df_A.groupby(['st_ramo_x']).Classe.count().sort_values(ascending=False))"
   ]
  },
  {
   "cell_type": "code",
   "execution_count": 79,
   "id": "1436dcfc",
   "metadata": {},
   "outputs": [
    {
     "data": {
      "image/png": "[encoded data removed]",
      "text/plain": [
       "<Figure size 640x480 with 1 Axes>"
      ]
     },
     "metadata": {},
     "output_type": "display_data"
    }
   ],
   "source": [
    "sns.barplot(data=df_A, x=df_A.st_ramo_x.value_counts().tolist(), y=df_A.st_ramo_x.value_counts().index)\n",
    "plt.show()"
   ]
  },
  {
   "cell_type": "markdown",
   "id": "d4c51d5d",
   "metadata": {},
   "source": [
    "### -Análise Faixa de TPV"
   ]
  },
  {
   "cell_type": "code",
   "execution_count": 80,
   "id": "25772ca3",
   "metadata": {},
   "outputs": [
    {
     "name": "stdout",
     "output_type": "stream",
     "text": [
      "Faixa_de_TPV\n",
      "400k a 1M      274138\n",
      "200k a 400k    238140\n",
      "125k a 200k    195108\n",
      "<40k           101594\n",
      "75k a 125k      95486\n",
      "1M a 10M        59023\n",
      "40k a 75k       33873\n",
      "10M a 40M        2585\n",
      ">40M               53\n",
      "Name: Classe, dtype: int64\n"
     ]
    },
    {
     "name": "stderr",
     "output_type": "stream",
     "text": [
      "C:\\Users\\te-te\\AppData\\Local\\Temp\\ipykernel_61292\\519517386.py:1: SettingWithCopyWarning: \n",
      "A value is trying to be set on a copy of a slice from a DataFrame.\n",
      "Try using .loc[row_indexer,col_indexer] = value instead\n",
      "\n",
      "See the caveats in the documentation: https://pandas.pydata.org/pandas-docs/stable/user_guide/indexing.html#returning-a-view-versus-a-copy\n",
      "  df_A['Faixa_de_TPV'] = df_A.vl_potencial_faturamento_anual.apply(faixa_fat)\n"
     ]
    }
   ],
   "source": [
    "df_A['Faixa_de_TPV'] = df_A.vl_potencial_faturamento_anual.apply(faixa_fat)\n",
    "\n",
    "print(df_A.groupby(['Faixa_de_TPV']).Classe.count().sort_values(ascending=False))"
   ]
  },
  {
   "cell_type": "code",
   "execution_count": 81,
   "id": "c726b5db",
   "metadata": {},
   "outputs": [
    {
     "data": {
      "image/png": "[encoded data removed]",
      "text/plain": [
       "<Figure size 1200x1200 with 1 Axes>"
      ]
     },
     "metadata": {},
     "output_type": "display_data"
    }
   ],
   "source": [
    "sns.barplot(data=df_A, y=df_A.Faixa_de_TPV.value_counts().tolist(), x=df_A.Faixa_de_TPV.value_counts().index, order = ['<40k', '40k a 75k', '75k a 125k', '125k a 200k', '200k a 400k', '400k a 1M', '1M a 10M', '10M a 40M', '>40M']).figure.set_size_inches(12,12)\n",
    "plt.show()"
   ]
  },
  {
   "cell_type": "markdown",
   "id": "1ebce978",
   "metadata": {},
   "source": [
    "### -Ramo x Faixa de TPV"
   ]
  },
  {
   "cell_type": "code",
   "execution_count": 82,
   "id": "490220d1",
   "metadata": {},
   "outputs": [
    {
     "name": "stdout",
     "output_type": "stream",
     "text": [
      "st_ramo_x\n",
      "Mercados            68982537326\n",
      "Construcao          59046706728\n",
      "Saude               55672863296\n",
      "Variedades          41842108492\n",
      "Automoveis          40615863958\n",
      "Vestimentas         40373231985\n",
      "Refeicao            40322415527\n",
      "Turismo             29219655677\n",
      "Eletrodomesticos    27756900631\n",
      "Escolas             19723040609\n",
      "Estetica            14663722867\n",
      "Entreterimento       9504394195\n",
      "Postos               8217884136\n",
      "Cias_Aereas           672378242\n",
      "Name: vl_potencial_faturamento_anual, dtype: int64\n"
     ]
    }
   ],
   "source": [
    "print(df_A.groupby(['st_ramo_x']).vl_potencial_faturamento_anual.sum().sort_values(ascending=False))"
   ]
  },
  {
   "cell_type": "markdown",
   "id": "77bae07d",
   "metadata": {},
   "source": [
    "## *Análise hub tipo B"
   ]
  },
  {
   "cell_type": "code",
   "execution_count": 83,
   "id": "2881105b",
   "metadata": {},
   "outputs": [
    {
     "data": {
      "text/html": [
       "<div>\n",
       "<style scoped>\n",
       "    .dataframe tbody tr th:only-of-type {\n",
       "        vertical-align: middle;\n",
       "    }\n",
       "\n",
       "    .dataframe tbody tr th {\n",
       "        vertical-align: top;\n",
       "    }\n",
       "\n",
       "    .dataframe thead th {\n",
       "        text-align: right;\n",
       "    }\n",
       "</style>\n",
       "<table border=\"1\" class=\"dataframe\">\n",
       "  <thead>\n",
       "    <tr style=\"text-align: right;\">\n",
       "      <th></th>\n",
       "      <th>cd_cnpj_anonimizado</th>\n",
       "      <th>st_ramo_x</th>\n",
       "      <th>Classe</th>\n",
       "      <th>vl_potencial_faturamento_anual</th>\n",
       "      <th>LTV</th>\n",
       "    </tr>\n",
       "  </thead>\n",
       "  <tbody>\n",
       "    <tr>\n",
       "      <th>1000000</th>\n",
       "      <td>1407725</td>\n",
       "      <td>Mercados</td>\n",
       "      <td>B</td>\n",
       "      <td>206113514</td>\n",
       "      <td>2.096836e+06</td>\n",
       "    </tr>\n",
       "    <tr>\n",
       "      <th>1000001</th>\n",
       "      <td>1852886</td>\n",
       "      <td>Automoveis</td>\n",
       "      <td>B</td>\n",
       "      <td>108391900</td>\n",
       "      <td>1.165149e+06</td>\n",
       "    </tr>\n",
       "    <tr>\n",
       "      <th>1000002</th>\n",
       "      <td>10144378</td>\n",
       "      <td>Refeicao</td>\n",
       "      <td>B</td>\n",
       "      <td>32712150</td>\n",
       "      <td>4.055789e+05</td>\n",
       "    </tr>\n",
       "    <tr>\n",
       "      <th>1000003</th>\n",
       "      <td>13670458</td>\n",
       "      <td>Construcao</td>\n",
       "      <td>B</td>\n",
       "      <td>32476835</td>\n",
       "      <td>3.991564e+05</td>\n",
       "    </tr>\n",
       "    <tr>\n",
       "      <th>1000004</th>\n",
       "      <td>1639344</td>\n",
       "      <td>Variedades</td>\n",
       "      <td>B</td>\n",
       "      <td>37385005</td>\n",
       "      <td>3.924039e+05</td>\n",
       "    </tr>\n",
       "  </tbody>\n",
       "</table>\n",
       "</div>"
      ],
      "text/plain": [
       "         cd_cnpj_anonimizado   st_ramo_x Classe  \\\n",
       "1000000              1407725    Mercados      B   \n",
       "1000001              1852886  Automoveis      B   \n",
       "1000002             10144378    Refeicao      B   \n",
       "1000003             13670458  Construcao      B   \n",
       "1000004              1639344  Variedades      B   \n",
       "\n",
       "         vl_potencial_faturamento_anual           LTV  \n",
       "1000000                       206113514  2.096836e+06  \n",
       "1000001                       108391900  1.165149e+06  \n",
       "1000002                        32712150  4.055789e+05  \n",
       "1000003                        32476835  3.991564e+05  \n",
       "1000004                        37385005  3.924039e+05  "
      ]
     },
     "execution_count": 83,
     "metadata": {},
     "output_type": "execute_result"
    }
   ],
   "source": [
    "df_B = df[df['Classe'] == 'B']\n",
    "df_B.head()"
   ]
  },
  {
   "cell_type": "code",
   "execution_count": 84,
   "id": "132fd22b",
   "metadata": {},
   "outputs": [
    {
     "data": {
      "text/html": [
       "<div>\n",
       "<style scoped>\n",
       "    .dataframe tbody tr th:only-of-type {\n",
       "        vertical-align: middle;\n",
       "    }\n",
       "\n",
       "    .dataframe tbody tr th {\n",
       "        vertical-align: top;\n",
       "    }\n",
       "\n",
       "    .dataframe thead th {\n",
       "        text-align: right;\n",
       "    }\n",
       "</style>\n",
       "<table border=\"1\" class=\"dataframe\">\n",
       "  <thead>\n",
       "    <tr style=\"text-align: right;\">\n",
       "      <th></th>\n",
       "      <th>cd_cnpj_anonimizado</th>\n",
       "      <th>vl_potencial_faturamento_anual</th>\n",
       "      <th>LTV</th>\n",
       "    </tr>\n",
       "  </thead>\n",
       "  <tbody>\n",
       "    <tr>\n",
       "      <th>count</th>\n",
       "      <td>6.000000e+05</td>\n",
       "      <td>6.000000e+05</td>\n",
       "      <td>6.000000e+05</td>\n",
       "    </tr>\n",
       "    <tr>\n",
       "      <th>mean</th>\n",
       "      <td>6.734999e+06</td>\n",
       "      <td>3.452588e+05</td>\n",
       "      <td>3.984815e+03</td>\n",
       "    </tr>\n",
       "    <tr>\n",
       "      <th>std</th>\n",
       "      <td>4.040600e+06</td>\n",
       "      <td>9.295942e+05</td>\n",
       "      <td>9.094469e+03</td>\n",
       "    </tr>\n",
       "    <tr>\n",
       "      <th>min</th>\n",
       "      <td>4.000000e+00</td>\n",
       "      <td>1.777600e+04</td>\n",
       "      <td>4.667222e+02</td>\n",
       "    </tr>\n",
       "    <tr>\n",
       "      <th>25%</th>\n",
       "      <td>3.197620e+06</td>\n",
       "      <td>7.717000e+04</td>\n",
       "      <td>1.348961e+03</td>\n",
       "    </tr>\n",
       "    <tr>\n",
       "      <th>50%</th>\n",
       "      <td>6.565248e+06</td>\n",
       "      <td>1.577910e+05</td>\n",
       "      <td>2.132885e+03</td>\n",
       "    </tr>\n",
       "    <tr>\n",
       "      <th>75%</th>\n",
       "      <td>1.027077e+07</td>\n",
       "      <td>3.847310e+05</td>\n",
       "      <td>4.260794e+03</td>\n",
       "    </tr>\n",
       "    <tr>\n",
       "      <th>max</th>\n",
       "      <td>1.395762e+07</td>\n",
       "      <td>2.061135e+08</td>\n",
       "      <td>2.096836e+06</td>\n",
       "    </tr>\n",
       "  </tbody>\n",
       "</table>\n",
       "</div>"
      ],
      "text/plain": [
       "       cd_cnpj_anonimizado  vl_potencial_faturamento_anual           LTV\n",
       "count         6.000000e+05                    6.000000e+05  6.000000e+05\n",
       "mean          6.734999e+06                    3.452588e+05  3.984815e+03\n",
       "std           4.040600e+06                    9.295942e+05  9.094469e+03\n",
       "min           4.000000e+00                    1.777600e+04  4.667222e+02\n",
       "25%           3.197620e+06                    7.717000e+04  1.348961e+03\n",
       "50%           6.565248e+06                    1.577910e+05  2.132885e+03\n",
       "75%           1.027077e+07                    3.847310e+05  4.260794e+03\n",
       "max           1.395762e+07                    2.061135e+08  2.096836e+06"
      ]
     },
     "execution_count": 84,
     "metadata": {},
     "output_type": "execute_result"
    }
   ],
   "source": [
    "df_B.describe()"
   ]
  },
  {
   "cell_type": "markdown",
   "id": "5b2c93e4",
   "metadata": {},
   "source": [
    "### -Análise Ramos"
   ]
  },
  {
   "cell_type": "code",
   "execution_count": 85,
   "id": "8625887c",
   "metadata": {},
   "outputs": [
    {
     "name": "stdout",
     "output_type": "stream",
     "text": [
      "st_ramo_x\n",
      "Mercados            88216\n",
      "Construcao          79698\n",
      "Vestimentas         78697\n",
      "Refeicao            61302\n",
      "Variedades          58802\n",
      "Saude               47056\n",
      "Automoveis          44161\n",
      "Eletrodomesticos    39367\n",
      "Estetica            38134\n",
      "Turismo             28179\n",
      "Escolas             23421\n",
      "Entreterimento       8839\n",
      "Postos               4084\n",
      "Cias_Aereas            44\n",
      "Name: Classe, dtype: int64\n"
     ]
    }
   ],
   "source": [
    "print(df_B.groupby(['st_ramo_x']).Classe.count().sort_values(ascending=False))"
   ]
  },
  {
   "cell_type": "code",
   "execution_count": 86,
   "id": "4bd69475",
   "metadata": {},
   "outputs": [
    {
     "data": {
      "image/png": "[encoded data removed]",
      "text/plain": [
       "<Figure size 640x480 with 1 Axes>"
      ]
     },
     "metadata": {},
     "output_type": "display_data"
    }
   ],
   "source": [
    "sns.barplot(data=df_B, x=df_B.st_ramo_x.value_counts().tolist(), y=df_B.st_ramo_x.value_counts().index)\n",
    "plt.show()"
   ]
  },
  {
   "cell_type": "markdown",
   "id": "63412f6d",
   "metadata": {},
   "source": [
    "### -Análise Faixa de TPV"
   ]
  },
  {
   "cell_type": "code",
   "execution_count": 87,
   "id": "1f5f8258",
   "metadata": {},
   "outputs": [
    {
     "name": "stdout",
     "output_type": "stream",
     "text": [
      "Faixa_de_TPV\n",
      "125k a 200k    147701\n",
      "400k a 1M      125327\n",
      "75k a 125k     124500\n",
      "200k a 400k    120044\n",
      "40k a 75k       32597\n",
      "<40k            26288\n",
      "1M a 10M        22815\n",
      "10M a 40M         709\n",
      ">40M               19\n",
      "Name: Classe, dtype: int64\n"
     ]
    },
    {
     "name": "stderr",
     "output_type": "stream",
     "text": [
      "C:\\Users\\te-te\\AppData\\Local\\Temp\\ipykernel_61292\\791397034.py:1: SettingWithCopyWarning: \n",
      "A value is trying to be set on a copy of a slice from a DataFrame.\n",
      "Try using .loc[row_indexer,col_indexer] = value instead\n",
      "\n",
      "See the caveats in the documentation: https://pandas.pydata.org/pandas-docs/stable/user_guide/indexing.html#returning-a-view-versus-a-copy\n",
      "  df_B['Faixa_de_TPV'] = df_B.vl_potencial_faturamento_anual.apply(faixa_fat)\n"
     ]
    }
   ],
   "source": [
    "df_B['Faixa_de_TPV'] = df_B.vl_potencial_faturamento_anual.apply(faixa_fat)\n",
    "\n",
    "print(df_B.groupby(['Faixa_de_TPV']).Classe.count().sort_values(ascending=False))"
   ]
  },
  {
   "cell_type": "code",
   "execution_count": 88,
   "id": "2fce757c",
   "metadata": {},
   "outputs": [
    {
     "data": {
      "image/png": "[encoded data removed]",
      "text/plain": [
       "<Figure size 1200x1200 with 1 Axes>"
      ]
     },
     "metadata": {},
     "output_type": "display_data"
    }
   ],
   "source": [
    "sns.barplot(data=df_B, y=df_B.Faixa_de_TPV.value_counts().tolist(), x=df_B.Faixa_de_TPV.value_counts().index, order = ['<40k', '40k a 75k', '75k a 125k', '125k a 200k', '200k a 400k', '400k a 1M', '1M a 10M', '10M a 40M', '>40M']).figure.set_size_inches(12,12)\n",
    "plt.show()"
   ]
  },
  {
   "cell_type": "markdown",
   "id": "e6587b6d",
   "metadata": {},
   "source": [
    "### -Ramo x Faixa de TPV"
   ]
  },
  {
   "cell_type": "code",
   "execution_count": 89,
   "id": "28aa3f04",
   "metadata": {},
   "outputs": [
    {
     "name": "stdout",
     "output_type": "stream",
     "text": [
      "st_ramo_x\n",
      "Mercados            33870364861\n",
      "Construcao          26619148041\n",
      "Saude               24123295607\n",
      "Vestimentas         20017718563\n",
      "Variedades          19096827091\n",
      "Automoveis          18758879348\n",
      "Refeicao            15310360601\n",
      "Eletrodomesticos    13440222891\n",
      "Turismo             12223850455\n",
      "Escolas              8413671899\n",
      "Estetica             7185304340\n",
      "Postos               4070092624\n",
      "Entreterimento       3730210553\n",
      "Cias_Aereas           295312768\n",
      "Name: vl_potencial_faturamento_anual, dtype: int64\n"
     ]
    }
   ],
   "source": [
    "print(df_B.groupby(['st_ramo_x']).vl_potencial_faturamento_anual.sum().sort_values(ascending=False))"
   ]
  },
  {
   "cell_type": "markdown",
   "id": "abd96852",
   "metadata": {},
   "source": [
    "## *Análise hub tipo C"
   ]
  },
  {
   "cell_type": "code",
   "execution_count": 90,
   "id": "1fceada3",
   "metadata": {},
   "outputs": [
    {
     "data": {
      "text/html": [
       "<div>\n",
       "<style scoped>\n",
       "    .dataframe tbody tr th:only-of-type {\n",
       "        vertical-align: middle;\n",
       "    }\n",
       "\n",
       "    .dataframe tbody tr th {\n",
       "        vertical-align: top;\n",
       "    }\n",
       "\n",
       "    .dataframe thead th {\n",
       "        text-align: right;\n",
       "    }\n",
       "</style>\n",
       "<table border=\"1\" class=\"dataframe\">\n",
       "  <thead>\n",
       "    <tr style=\"text-align: right;\">\n",
       "      <th></th>\n",
       "      <th>cd_cnpj_anonimizado</th>\n",
       "      <th>st_ramo_x</th>\n",
       "      <th>Classe</th>\n",
       "      <th>vl_potencial_faturamento_anual</th>\n",
       "      <th>LTV</th>\n",
       "    </tr>\n",
       "  </thead>\n",
       "  <tbody>\n",
       "    <tr>\n",
       "      <th>1600000</th>\n",
       "      <td>1568422</td>\n",
       "      <td>Construcao</td>\n",
       "      <td>C</td>\n",
       "      <td>104588270</td>\n",
       "      <td>1.519763e+06</td>\n",
       "    </tr>\n",
       "    <tr>\n",
       "      <th>1600001</th>\n",
       "      <td>6656267</td>\n",
       "      <td>Saude</td>\n",
       "      <td>C</td>\n",
       "      <td>63893699</td>\n",
       "      <td>6.008882e+05</td>\n",
       "    </tr>\n",
       "    <tr>\n",
       "      <th>1600002</th>\n",
       "      <td>6656266</td>\n",
       "      <td>Saude</td>\n",
       "      <td>C</td>\n",
       "      <td>63893699</td>\n",
       "      <td>6.008882e+05</td>\n",
       "    </tr>\n",
       "    <tr>\n",
       "      <th>1600003</th>\n",
       "      <td>1963559</td>\n",
       "      <td>Mercados</td>\n",
       "      <td>C</td>\n",
       "      <td>50563675</td>\n",
       "      <td>5.410872e+05</td>\n",
       "    </tr>\n",
       "    <tr>\n",
       "      <th>1600004</th>\n",
       "      <td>835716</td>\n",
       "      <td>Mercados</td>\n",
       "      <td>C</td>\n",
       "      <td>33215916</td>\n",
       "      <td>3.947280e+05</td>\n",
       "    </tr>\n",
       "  </tbody>\n",
       "</table>\n",
       "</div>"
      ],
      "text/plain": [
       "         cd_cnpj_anonimizado   st_ramo_x Classe  \\\n",
       "1600000              1568422  Construcao      C   \n",
       "1600001              6656267       Saude      C   \n",
       "1600002              6656266       Saude      C   \n",
       "1600003              1963559    Mercados      C   \n",
       "1600004               835716    Mercados      C   \n",
       "\n",
       "         vl_potencial_faturamento_anual           LTV  \n",
       "1600000                       104588270  1.519763e+06  \n",
       "1600001                        63893699  6.008882e+05  \n",
       "1600002                        63893699  6.008882e+05  \n",
       "1600003                        50563675  5.410872e+05  \n",
       "1600004                        33215916  3.947280e+05  "
      ]
     },
     "execution_count": 90,
     "metadata": {},
     "output_type": "execute_result"
    }
   ],
   "source": [
    "df_C = df[df['Classe'] == 'C']\n",
    "df_C.head()"
   ]
  },
  {
   "cell_type": "code",
   "execution_count": 91,
   "id": "2bb60231",
   "metadata": {},
   "outputs": [
    {
     "data": {
      "text/html": [
       "<div>\n",
       "<style scoped>\n",
       "    .dataframe tbody tr th:only-of-type {\n",
       "        vertical-align: middle;\n",
       "    }\n",
       "\n",
       "    .dataframe tbody tr th {\n",
       "        vertical-align: top;\n",
       "    }\n",
       "\n",
       "    .dataframe thead th {\n",
       "        text-align: right;\n",
       "    }\n",
       "</style>\n",
       "<table border=\"1\" class=\"dataframe\">\n",
       "  <thead>\n",
       "    <tr style=\"text-align: right;\">\n",
       "      <th></th>\n",
       "      <th>cd_cnpj_anonimizado</th>\n",
       "      <th>vl_potencial_faturamento_anual</th>\n",
       "      <th>LTV</th>\n",
       "    </tr>\n",
       "  </thead>\n",
       "  <tbody>\n",
       "    <tr>\n",
       "      <th>count</th>\n",
       "      <td>7.385650e+05</td>\n",
       "      <td>7.385650e+05</td>\n",
       "      <td>7.385650e+05</td>\n",
       "    </tr>\n",
       "    <tr>\n",
       "      <th>mean</th>\n",
       "      <td>6.860264e+06</td>\n",
       "      <td>3.068436e+05</td>\n",
       "      <td>3.878454e+03</td>\n",
       "    </tr>\n",
       "    <tr>\n",
       "      <th>std</th>\n",
       "      <td>3.962165e+06</td>\n",
       "      <td>8.946164e+05</td>\n",
       "      <td>9.723918e+03</td>\n",
       "    </tr>\n",
       "    <tr>\n",
       "      <th>min</th>\n",
       "      <td>3.600000e+01</td>\n",
       "      <td>1.000000e+00</td>\n",
       "      <td>1.875598e-02</td>\n",
       "    </tr>\n",
       "    <tr>\n",
       "      <th>25%</th>\n",
       "      <td>3.450270e+06</td>\n",
       "      <td>7.717000e+04</td>\n",
       "      <td>1.332549e+03</td>\n",
       "    </tr>\n",
       "    <tr>\n",
       "      <th>50%</th>\n",
       "      <td>6.786945e+06</td>\n",
       "      <td>1.334460e+05</td>\n",
       "      <td>2.085922e+03</td>\n",
       "    </tr>\n",
       "    <tr>\n",
       "      <th>75%</th>\n",
       "      <td>1.029530e+07</td>\n",
       "      <td>2.936830e+05</td>\n",
       "      <td>4.144631e+03</td>\n",
       "    </tr>\n",
       "    <tr>\n",
       "      <th>max</th>\n",
       "      <td>1.395697e+07</td>\n",
       "      <td>2.481446e+08</td>\n",
       "      <td>2.636729e+06</td>\n",
       "    </tr>\n",
       "  </tbody>\n",
       "</table>\n",
       "</div>"
      ],
      "text/plain": [
       "       cd_cnpj_anonimizado  vl_potencial_faturamento_anual           LTV\n",
       "count         7.385650e+05                    7.385650e+05  7.385650e+05\n",
       "mean          6.860264e+06                    3.068436e+05  3.878454e+03\n",
       "std           3.962165e+06                    8.946164e+05  9.723918e+03\n",
       "min           3.600000e+01                    1.000000e+00  1.875598e-02\n",
       "25%           3.450270e+06                    7.717000e+04  1.332549e+03\n",
       "50%           6.786945e+06                    1.334460e+05  2.085922e+03\n",
       "75%           1.029530e+07                    2.936830e+05  4.144631e+03\n",
       "max           1.395697e+07                    2.481446e+08  2.636729e+06"
      ]
     },
     "execution_count": 91,
     "metadata": {},
     "output_type": "execute_result"
    }
   ],
   "source": [
    "df_C.describe()"
   ]
  },
  {
   "cell_type": "markdown",
   "id": "8ecd255a",
   "metadata": {},
   "source": [
    "### -Análise Ramos"
   ]
  },
  {
   "cell_type": "code",
   "execution_count": 92,
   "id": "c19333dd",
   "metadata": {},
   "outputs": [
    {
     "name": "stdout",
     "output_type": "stream",
     "text": [
      "st_ramo_x\n",
      "Mercados            107190\n",
      "Construcao           94378\n",
      "Vestimentas          87512\n",
      "Variedades           77282\n",
      "Refeicao             72166\n",
      "Estetica             55824\n",
      "Automoveis           55477\n",
      "Saude                53937\n",
      "Eletrodomesticos     50230\n",
      "Turismo              38591\n",
      "Escolas              30295\n",
      "Entreterimento       11331\n",
      "Postos                4293\n",
      "Cias_Aereas             59\n",
      "Name: Classe, dtype: int64\n"
     ]
    }
   ],
   "source": [
    "print(df_C.groupby(['st_ramo_x']).Classe.count().sort_values(ascending=False))"
   ]
  },
  {
   "cell_type": "code",
   "execution_count": 93,
   "id": "e0bb95bf",
   "metadata": {},
   "outputs": [
    {
     "data": {
      "image/png": "[encoded data removed]",
      "text/plain": [
       "<Figure size 640x480 with 1 Axes>"
      ]
     },
     "metadata": {},
     "output_type": "display_data"
    }
   ],
   "source": [
    "sns.barplot(data=df_C, x=df_C.st_ramo_x.value_counts().tolist(), y=df_C.st_ramo_x.value_counts().index)\n",
    "plt.show()"
   ]
  },
  {
   "cell_type": "markdown",
   "id": "1534ed76",
   "metadata": {},
   "source": [
    "### -Análise Faixa de TPV"
   ]
  },
  {
   "cell_type": "code",
   "execution_count": 94,
   "id": "af7103d9",
   "metadata": {},
   "outputs": [
    {
     "name": "stdout",
     "output_type": "stream",
     "text": [
      "Faixa_de_TPV\n",
      "125k a 200k    168357\n",
      "75k a 125k     151969\n",
      "200k a 400k    133376\n",
      "400k a 1M      130781\n",
      "<40k            90530\n",
      "40k a 75k       36316\n",
      "1M a 10M        26522\n",
      "10M a 40M         694\n",
      ">40M               20\n",
      "Name: Classe, dtype: int64\n"
     ]
    },
    {
     "name": "stderr",
     "output_type": "stream",
     "text": [
      "C:\\Users\\te-te\\AppData\\Local\\Temp\\ipykernel_61292\\1112708184.py:1: SettingWithCopyWarning: \n",
      "A value is trying to be set on a copy of a slice from a DataFrame.\n",
      "Try using .loc[row_indexer,col_indexer] = value instead\n",
      "\n",
      "See the caveats in the documentation: https://pandas.pydata.org/pandas-docs/stable/user_guide/indexing.html#returning-a-view-versus-a-copy\n",
      "  df_C['Faixa_de_TPV'] = df_C.vl_potencial_faturamento_anual.apply(faixa_fat)\n"
     ]
    }
   ],
   "source": [
    "df_C['Faixa_de_TPV'] = df_C.vl_potencial_faturamento_anual.apply(faixa_fat)\n",
    "\n",
    "print(df_C.groupby(['Faixa_de_TPV']).Classe.count().sort_values(ascending=False))"
   ]
  },
  {
   "cell_type": "code",
   "execution_count": 95,
   "id": "989424f7",
   "metadata": {},
   "outputs": [
    {
     "data": {
      "image/png": "[encoded data removed]",
      "text/plain": [
       "<Figure size 1200x1200 with 1 Axes>"
      ]
     },
     "metadata": {},
     "output_type": "display_data"
    }
   ],
   "source": [
    "sns.barplot(data=df_C, y=df_C.Faixa_de_TPV.value_counts().tolist(), x=df_C.Faixa_de_TPV.value_counts().index, order = ['<40k', '40k a 75k', '75k a 125k', '125k a 200k', '200k a 400k', '400k a 1M', '1M a 10M', '10M a 40M', '>40M']).figure.set_size_inches(12,12)\n",
    "plt.show()"
   ]
  },
  {
   "cell_type": "markdown",
   "id": "e0a2b0da",
   "metadata": {},
   "source": [
    "### -Ramo x Faixa de TPV"
   ]
  },
  {
   "cell_type": "code",
   "execution_count": 96,
   "id": "fca12599",
   "metadata": {},
   "outputs": [
    {
     "name": "stdout",
     "output_type": "stream",
     "text": [
      "st_ramo_x\n",
      "Mercados            35338801399\n",
      "Construcao          28276126000\n",
      "Saude               26980027219\n",
      "Variedades          21703725030\n",
      "Vestimentas         20535746711\n",
      "Automoveis          20422721822\n",
      "Refeicao            17109176467\n",
      "Turismo             13822669771\n",
      "Eletrodomesticos    13723192372\n",
      "Estetica            10184013402\n",
      "Escolas              9538269791\n",
      "Postos               4345529738\n",
      "Entreterimento       4152738072\n",
      "Cias_Aereas           491177498\n",
      "Name: vl_potencial_faturamento_anual, dtype: int64\n"
     ]
    }
   ],
   "source": [
    "print(df_C.groupby(['st_ramo_x']).vl_potencial_faturamento_anual.sum().sort_values(ascending=False))"
   ]
  },
  {
   "cell_type": "markdown",
   "id": "b4352967",
   "metadata": {},
   "source": [
    "# Análise geral dos hubs\n",
    "\n",
    "\n",
    "\n",
    "\n",
    "\n",
    "\n",
    "\n"
   ]
  },
  {
   "cell_type": "code",
   "execution_count": 97,
   "id": "ec7ecce3",
   "metadata": {},
   "outputs": [
    {
     "name": "stdout",
     "output_type": "stream",
     "text": [
      "         cd_cnpj_anonimizado   st_ramo_x Classe  \\\n",
      "0                   13827564  Construcao      A   \n",
      "1                    9678391  Variedades      A   \n",
      "2                    9678386  Variedades      A   \n",
      "3                    9678389  Variedades      A   \n",
      "4                      28847  Construcao      A   \n",
      "...                      ...         ...    ...   \n",
      "2338560              7985156     Escolas      C   \n",
      "2338561              4780782       Saude      C   \n",
      "2338562              3283714    Estetica      C   \n",
      "2338563             11111880    Mercados      C   \n",
      "2338564              9343436    Mercados      C   \n",
      "\n",
      "         vl_potencial_faturamento_anual           LTV  \n",
      "0                             120491780  1.603459e+06  \n",
      "1                              56611425  6.222138e+05  \n",
      "2                              56611425  6.222138e+05  \n",
      "3                              56611425  6.222138e+05  \n",
      "4                              43133026  5.739981e+05  \n",
      "...                                 ...           ...  \n",
      "2338560                               8  1.442856e-01  \n",
      "2338561                               8  1.277023e-01  \n",
      "2338562                               2  4.100924e-02  \n",
      "2338563                               2  3.899109e-02  \n",
      "2338564                               2  3.899109e-02  \n",
      "\n",
      "[2338565 rows x 5 columns]\n"
     ]
    }
   ],
   "source": [
    "print(df)"
   ]
  },
  {
   "cell_type": "markdown",
   "id": "f644069b",
   "metadata": {},
   "source": [
    "### -Análise Ramos"
   ]
  },
  {
   "cell_type": "code",
   "execution_count": 98,
   "id": "108f8236",
   "metadata": {},
   "outputs": [
    {
     "name": "stdout",
     "output_type": "stream",
     "text": [
      "st_ramo_x\n",
      "Mercados            320011\n",
      "Construcao          313189\n",
      "Vestimentas         278383\n",
      "Refeicao            247061\n",
      "Variedades          240184\n",
      "Automoveis          177463\n",
      "Saude               177200\n",
      "Estetica            158076\n",
      "Eletrodomesticos    155079\n",
      "Turismo             123940\n",
      "Escolas              95486\n",
      "Entreterimento       37818\n",
      "Postos               14470\n",
      "Cias_Aereas            205\n",
      "Name: Classe, dtype: int64\n"
     ]
    }
   ],
   "source": [
    "print(df.groupby(['st_ramo_x']).Classe.count().sort_values(ascending=False))"
   ]
  },
  {
   "cell_type": "code",
   "execution_count": 99,
   "id": "be3a1bf2",
   "metadata": {},
   "outputs": [
    {
     "data": {
      "image/png": "[encoded data removed]",
      "text/plain": [
       "<Figure size 640x480 with 1 Axes>"
      ]
     },
     "metadata": {},
     "output_type": "display_data"
    }
   ],
   "source": [
    "sns.barplot(data=df, x=df.st_ramo_x.value_counts().tolist(), y=df.st_ramo_x.value_counts().index)\n",
    "plt.show()"
   ]
  },
  {
   "cell_type": "markdown",
   "id": "99f17720",
   "metadata": {},
   "source": [
    "### -Análise Faixa de TPV\n",
    "\n",
    "\n",
    "\n"
   ]
  },
  {
   "cell_type": "code",
   "execution_count": 100,
   "id": "0a5e19a2",
   "metadata": {},
   "outputs": [
    {
     "name": "stdout",
     "output_type": "stream",
     "text": [
      "Faixa_de_TPV\n",
      "400k a 1M      530246\n",
      "125k a 200k    511166\n",
      "200k a 400k    491560\n",
      "75k a 125k     371955\n",
      "<40k           218412\n",
      "1M a 10M       108360\n",
      "40k a 75k      102786\n",
      "10M a 40M        3988\n",
      ">40M               92\n",
      "Name: Classe, dtype: int64\n"
     ]
    }
   ],
   "source": [
    "df['Faixa_de_TPV'] = df.vl_potencial_faturamento_anual.apply(faixa_fat)\n",
    "\n",
    "print(df.groupby(['Faixa_de_TPV']).Classe.count().sort_values(ascending=False))"
   ]
  },
  {
   "cell_type": "code",
   "execution_count": 101,
   "id": "0e1749de",
   "metadata": {},
   "outputs": [
    {
     "data": {
      "image/png": "[encoded data removed]",
      "text/plain": [
       "<Figure size 1200x1200 with 1 Axes>"
      ]
     },
     "metadata": {},
     "output_type": "display_data"
    }
   ],
   "source": [
    "sns.barplot(data=df, y=df.Faixa_de_TPV.value_counts().tolist(), x=df.Faixa_de_TPV.value_counts().index, order = ['<40k', '40k a 75k', '75k a 125k', '125k a 200k', '200k a 400k', '400k a 1M', '1M a 10M', '10M a 40M', '>40M']).figure.set_size_inches(12,12)\n",
    "plt.show()"
   ]
  },
  {
   "cell_type": "markdown",
   "id": "03b2ab3d",
   "metadata": {},
   "source": [
    "### -Ramo x Faixa de TPV\n",
    "\n"
   ]
  },
  {
   "cell_type": "code",
   "execution_count": 102,
   "id": "c586a51d",
   "metadata": {},
   "outputs": [
    {
     "name": "stdout",
     "output_type": "stream",
     "text": [
      "st_ramo_x\n",
      "Mercados            138191703586\n",
      "Construcao          113941980769\n",
      "Saude               106776186122\n",
      "Variedades           82642660613\n",
      "Vestimentas          80926697259\n",
      "Automoveis           79797465128\n",
      "Refeicao             72741952595\n",
      "Turismo              55266175903\n",
      "Eletrodomesticos     54920315894\n",
      "Escolas              37674982299\n",
      "Estetica             32033040609\n",
      "Entreterimento       17387342820\n",
      "Postos               16633506498\n",
      "Cias_Aereas           1458868508\n",
      "Name: vl_potencial_faturamento_anual, dtype: int64\n"
     ]
    }
   ],
   "source": [
    "print(df.groupby(['st_ramo_x']).vl_potencial_faturamento_anual.sum().sort_values(ascending=False))"
   ]
  },
  {
   "cell_type": "markdown",
   "id": "5bc0d52a",
   "metadata": {},
   "source": [
    "## -Resumo Análise Descritiva"
   ]
  },
  {
   "cell_type": "code",
   "execution_count": 103,
   "id": "6417bbe7",
   "metadata": {},
   "outputs": [
    {
     "name": "stdout",
     "output_type": "stream",
     "text": [
      "Ramos alocados com maior frequência: \n",
      "\n",
      "1) Mercados -> 303202 \n",
      "2) Construcao -> 291810 \n",
      "3) Vestimentas -> 261182\n"
     ]
    }
   ],
   "source": [
    "print('Ramos alocados com maior frequência: \\n\\n1) Mercados -> 303202 \\n2) Construcao -> 291810 \\n3) Vestimentas -> 261182')\n"
   ]
  },
  {
   "cell_type": "code",
   "execution_count": 104,
   "id": "9d39df11",
   "metadata": {},
   "outputs": [
    {
     "name": "stdout",
     "output_type": "stream",
     "text": [
      "Maiores frequências de faixas de TPV:\n",
      "\n",
      "400k a 1M -> 504586\n",
      "125k a 200k -> 482337\n",
      "200k a 400k -> 466499\n"
     ]
    }
   ],
   "source": [
    "print('Maiores frequências de faixas de TPV:\\n\\n400k a 1M -> 504586\\n125k a 200k -> 482337\\n200k a 400k -> 466499')\n"
   ]
  },
  {
   "cell_type": "code",
   "execution_count": 105,
   "id": "c9ec79f4",
   "metadata": {},
   "outputs": [
    {
     "name": "stdout",
     "output_type": "stream",
     "text": [
      "Maiores faturamentos anuais por Ramo: \n",
      "\n",
      "1) Mercados -> 132181534949\n",
      "2) Construcao -> 107664094142\n",
      "3) Saude -> 102222022259\n"
     ]
    }
   ],
   "source": [
    "print(\"Maiores faturamentos anuais por Ramo: \\n\\n1) Mercados -> 132181534949\\n2) Construcao -> 107664094142\\n3) Saude -> 102222022259\")\n"
   ]
  },
  {
   "cell_type": "code",
   "execution_count": 106,
   "id": "04abc6a3",
   "metadata": {},
   "outputs": [
    {
     "name": "stdout",
     "output_type": "stream",
     "text": [
      "Porcentagem em relação ao LTV total do Brasil de cada hub:\n",
      "\n",
      "Hub do tipo A: 28.14%\n",
      "Hub do tipo B: 13.92%\n",
      "Hub do tipo C: 16.68%\n",
      "\n",
      "Porcentagem Total do ltv:\n",
      "\n",
      "58.74%\n"
     ]
    }
   ],
   "source": [
    "print('Porcentagem em relação ao LTV total do Brasil de cada hub:\\n')\n",
    "print(f\"Hub do tipo A: {round((df[df['Classe'] == 'A'].LTV.sum() /LTV_total) * 100, 2)}%\")\n",
    "print(f\"Hub do tipo B: {round((df[df['Classe'] == 'B'].LTV.sum() /LTV_total) * 100, 2)}%\")\n",
    "print(f\"Hub do tipo C: {round((df[df['Classe'] == 'C'].LTV.sum() /LTV_total) * 100, 2)}%\")\n",
    "\n",
    "print('\\nPorcentagem Total do ltv:\\n')\n",
    "print(f\"{((round((df[df['Classe'] == 'A'].LTV.sum() /LTV_total) * 100, 2))+(round((df[df['Classe'] == 'B'].LTV.sum() /LTV_total) * 100, 2))+(round((df[df['Classe'] == 'C'].LTV.sum() /LTV_total) * 100, 2)))}%\")"
   ]
  },
  {
   "cell_type": "code",
   "execution_count": 107,
   "id": "06e1d1f0",
   "metadata": {},
   "outputs": [
    {
     "name": "stdout",
     "output_type": "stream",
     "text": [
      "Porcentagem de cadas hub em relação ao LTV maximo disponível no Brasil:\n",
      "\n",
      "Hub do tipo A: 34.84%\n",
      "Hub do tipo B: 17.24%\n",
      "Hub do tipo C: 20.65%\n",
      "\n",
      "Porcentagem em relação ao ltv disponível:\n",
      "\n",
      "72.72999999999999%\n"
     ]
    }
   ],
   "source": [
    "print('Porcentagem de cadas hub em relação ao LTV maximo disponível no Brasil:\\n')\n",
    "print(f\"Hub do tipo A: {round((df[df['Classe'] == 'A'].LTV.sum() /LTV_disponivel) * 100, 2)}%\")\n",
    "print(f\"Hub do tipo B: {round((df[df['Classe'] == 'B'].LTV.sum() /LTV_disponivel) * 100, 2)}%\")\n",
    "print(f\"Hub do tipo C: {round((df[df['Classe'] == 'C'].LTV.sum() /LTV_disponivel) * 100, 2)}%\")\n",
    "\n",
    "print('\\nPorcentagem em relação ao ltv disponível:\\n')\n",
    "print(f\"{((round((df[df['Classe'] == 'A'].LTV.sum() /LTV_disponivel) * 100, 2))+(round((df[df['Classe'] == 'B'].LTV.sum() /LTV_disponivel) * 100, 2))+(round((df[df['Classe'] == 'C'].LTV.sum() /LTV_disponivel) * 100, 2)))}%\")"
   ]
  },
  {
   "cell_type": "markdown",
   "id": "def5c415",
   "metadata": {},
   "source": [
    "## Tranformação de lat e long para CEP\n",
    "\n",
    "\n",
    "\n",
    "\n",
    "\n",
    "\n",
    "\n",
    "\n",
    "\n",
    "\n"
   ]
  },
  {
   "cell_type": "code",
   "execution_count": 108,
   "id": "20e64c47",
   "metadata": {},
   "outputs": [],
   "source": [
    "centroids = [[-16.58297619, -49.18121983, 'GO', 'B'],  [-8.19549872, -35.9720766,'PE' , 'B'], [-4.39093276, -39.0397883,'CE', 'C'], [-27.22200399, -49.71777823,'SC', 'A'],\n",
    "        [-23.593, -48.020, 'SP', 'A'], [-22.914, -47.086, 'SP' , 'A'],  [-15.82795602, -47.97963765, 'DF', 'C'], [-20.11332405, -40.52739593, 'ES', 'C'] ]\n"
   ]
  },
  {
   "cell_type": "code",
   "execution_count": 109,
   "id": "fc7d951c",
   "metadata": {},
   "outputs": [
    {
     "name": "stdout",
     "output_type": "stream",
     "text": [
      "O CEP é: 74675-430\n",
      "O CEP é: 55014-900\n",
      "O CEP é: 62764-000\n",
      "O CEP é: 89170-000\n",
      "O CEP é: 18202-380\n",
      "O CEP é: 13031-880\n",
      "O CEP é: 71060-636\n",
      "O CEP é: 29640-000\n"
     ]
    }
   ],
   "source": [
    "hubs = pd.DataFrame(centroids, columns=['lat', 'lon', 'UF', 'classe'])\n",
    "hubs['CEP'] = hubs.apply(lambda x: localizacao(str(x['lat']), str(x['lon'])), axis=1)"
   ]
  },
  {
   "cell_type": "code",
   "execution_count": 110,
   "id": "45dc5ff2",
   "metadata": {},
   "outputs": [],
   "source": [
    "#Para esses centroides que não apresentam CEP, usa-se uma aproximação para o CEP mais próximo\n",
    "\n",
    "centroid_manual = [[-29.50604948, -52.07953343, 'RS', 'B', '95930-000'], [-19.66359019, -44.56388694,'MG' ,'B', '35694-000'],\n",
    "[-22.70880731, -43.14189407,'RJ', 'A',  '25903-587'], [-11.698, -38.909, 'BA', 'B', '48700-000'], [-25.080, -49.60, 'PR','A', '83560-000'],\n",
    "[-21.821, -48.472, 'SP','C', '14813-000'],[-23.394, -51.257,'PR', 'C', '86072-000'] , [-7.05613487, -35.99635752, 'PB', 'C', '58150-000'], [-5.82623349, -36.01951999,'RN', 'C', '59540-000'],\n",
    "[-3.40980075, -60.7401640, 'AM', 'C', '69400-000'], [-9.59723812, -36.14148849, 'AL','C', '57690-000'] , [-20.92488317, -54.44739041,'MS', 'C', '79065-000'] ]\n"
   ]
  },
  {
   "cell_type": "code",
   "execution_count": 111,
   "id": "8194153e",
   "metadata": {},
   "outputs": [],
   "source": [
    "hubs_manual = pd.DataFrame(centroid_manual , columns=['lat', 'lon', 'UF', 'classe', 'CEP'])\n",
    "hubs = pd.concat([hubs, hubs_manual])"
   ]
  },
  {
   "cell_type": "code",
   "execution_count": 114,
   "id": "918d2ad9",
   "metadata": {},
   "outputs": [
    {
     "name": "stdout",
     "output_type": "stream",
     "text": [
      "          lat        lon  UF classe        CEP\n",
      "0  -16.582976 -49.181220  GO      B  74675-430\n",
      "1   -8.195499 -35.972077  PE      B  55014-900\n",
      "2   -4.390933 -39.039788  CE      C  62764-000\n",
      "3  -27.222004 -49.717778  SC      A  89170-000\n",
      "4  -23.593000 -48.020000  SP      A  18202-380\n",
      "5  -22.914000 -47.086000  SP      A  13031-880\n",
      "6  -15.827956 -47.979638  DF      C  71060-636\n",
      "7  -20.113324 -40.527396  ES      C  29640-000\n",
      "8  -29.506049 -52.079533  RS      B  95930-000\n",
      "9  -19.663590 -44.563887  MG      B  35694-000\n",
      "10 -22.708807 -43.141894  RJ      A  25903-587\n",
      "11 -11.698000 -38.909000  BA      B  48700-000\n",
      "12 -25.080000 -49.600000  PR      A  83560-000\n",
      "13 -21.821000 -48.472000  SP      C  14813-000\n",
      "14 -23.394000 -51.257000  PR      C  86072-000\n",
      "15  -7.056135 -35.996358  PB      C  58150-000\n",
      "16  -5.826233 -36.019520  RN      C  59540-000\n",
      "17  -3.409801 -60.740164  AM      C  69400-000\n",
      "18  -9.597238 -36.141488  AL      C  57690-000\n",
      "19 -20.924883 -54.447390  MS      C  79065-000\n"
     ]
    }
   ],
   "source": [
    "#Organizando o dataframe concatenado com os índices certos\n",
    "hubs = hubs.reset_index()\n",
    "hubs = hubs.sort_index()\n",
    "hubs = hubs.drop(columns=['index'])\n",
    "print(hubs)"
   ]
  },
  {
   "cell_type": "code",
   "execution_count": null,
   "id": "50ca7c98",
   "metadata": {},
   "outputs": [],
   "source": []
  }
 ],
 "metadata": {
  "kernelspec": {
   "display_name": "Python 3 (ipykernel)",
   "language": "python",
   "name": "python3"
  },
  "language_info": {
   "codemirror_mode": {
    "name": "ipython",
    "version": 3
   },
   "file_extension": ".py",
   "mimetype": "text/x-python",
   "name": "python",
   "nbconvert_exporter": "python",
   "pygments_lexer": "ipython3",
   "version": "3.9.13"
  }
 },
 "nbformat": 4,
 "nbformat_minor": 5
}
